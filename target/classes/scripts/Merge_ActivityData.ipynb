{
 "cells": [
  {
   "cell_type": "code",
   "execution_count": 1,
   "id": "96c3f09d-60a1-4354-9373-bf199ae4d260",
   "metadata": {},
   "outputs": [],
   "source": [
    "import os\n",
    "import pandas as pd"
   ]
  },
  {
   "cell_type": "code",
   "execution_count": 16,
   "id": "6459d56e-e441-4b21-adf8-eadb1de4b8ec",
   "metadata": {},
   "outputs": [],
   "source": [
    "root = \"/mnt/free/owner/activity/\"\n",
    "out = '/mnt/free/owner/activity_merge/'"
   ]
  },
  {
   "cell_type": "code",
   "execution_count": 18,
   "id": "90269ba9-9385-454d-8fa8-33d836da85e0",
   "metadata": {},
   "outputs": [
    {
     "name": "stdout",
     "output_type": "stream",
     "text": [
      "person_08302\n",
      "person_08442\n",
      "person_08229\n",
      "person_08202\n",
      "person_08447\n",
      "person_08230\n",
      "person_08203\n",
      "person_08207\n",
      "person_08204\n",
      "person_08542\n",
      "person_08224\n",
      "person_08235\n",
      "person_08226\n",
      "person_08232\n",
      "person_08223\n",
      "person_08222\n",
      "person_08201\n",
      "person_08205\n",
      "person_08216\n",
      "person_08221\n",
      "person_08364\n",
      "person_08309\n",
      "person_08341\n",
      "person_08211\n",
      "person_08236\n",
      "person_08443\n",
      "person_08217\n",
      "person_08231\n",
      "person_08564\n",
      "person_08215\n",
      "person_08214\n",
      "person_08310\n",
      "person_08208\n",
      "person_08225\n",
      "person_08212\n",
      "person_08219\n",
      "person_08546\n",
      "person_08228\n",
      "person_08220\n",
      "person_08210\n",
      "person_08521\n",
      "person_08234\n",
      "person_08227\n",
      "person_08233\n"
     ]
    }
   ],
   "source": [
    "for dir in os.listdir(root):\n",
    "    if not os.path.exists(out+'/'+dir+'/'):\n",
    "        os.mkdir(out+dir+'/')\n",
    "    filename = set([f[0:12] for f in os.listdir(root+\"/\"+dir)])\n",
    "    for f in filename:\n",
    "        print(f)\n",
    "        if f == '.~lock.perso':\n",
    "            continue\n",
    "        if os.path.getsize(root+dir+'/'+f+'_labor.csv') < 137 or os.path.getsize(root+dir+'/'+f+'_nolabor.csv') < 137 or os.path.getsize(root+dir+'/'+f+'_student.csv') < 137:\n",
    "            print(f)\n",
    "        else:\n",
    "            df  = pd.read_csv(root+dir+'/'+f+'_labor.csv', header=None)\n",
    "            df2 = pd.read_csv(root+dir+'/'+f+'_nolabor.csv', header=None)\n",
    "            df3 = pd.read_csv(root+dir+'/'+f+'_student.csv', header=None)\n",
    "            pop = pd.concat([df, df2, df3], axis=0)\n",
    "            pop.to_csv(out+'/'+dir+'/'+'activity_'+f[7:12]+'.csv', index=False, header=False)"
   ]
  },
  {
   "cell_type": "code",
   "execution_count": null,
   "id": "3558bcf4-9214-4cb3-88ae-7a2385d8bf61",
   "metadata": {},
   "outputs": [],
   "source": []
  }
 ],
 "metadata": {
  "kernelspec": {
   "display_name": "Python 3 (ipykernel)",
   "language": "python",
   "name": "python3"
  },
  "language_info": {
   "codemirror_mode": {
    "name": "ipython",
    "version": 3
   },
   "file_extension": ".py",
   "mimetype": "text/x-python",
   "name": "python",
   "nbconvert_exporter": "python",
   "pygments_lexer": "ipython3",
   "version": "3.11.7"
  },
  "widgets": {
   "application/vnd.jupyter.widget-state+json": {
    "state": {},
    "version_major": 2,
    "version_minor": 0
   }
  }
 },
 "nbformat": 4,
 "nbformat_minor": 5
}
