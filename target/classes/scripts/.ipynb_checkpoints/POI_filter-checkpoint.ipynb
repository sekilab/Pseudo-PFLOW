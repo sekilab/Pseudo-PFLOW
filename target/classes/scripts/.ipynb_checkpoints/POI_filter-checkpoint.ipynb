{
 "cells": [
  {
   "cell_type": "code",
   "execution_count": 1,
   "id": "9bc59674-4b82-44d7-ab99-e65e2f2b5b3e",
   "metadata": {},
   "outputs": [],
   "source": [
    "import pandas as pd"
   ]
  },
  {
   "cell_type": "code",
   "execution_count": 5,
   "id": "78ef5f87-2769-4056-a9b2-cc245d0d6924",
   "metadata": {},
   "outputs": [],
   "source": [
    "# Reload the dataset with 'cp932' encoding and without assuming the first row as header\n",
    "data_typecode = pd.read_csv('../TelePointDB202108/SPEC/TYPECODE.CSV', encoding='cp932', header=None)\n",
    "\n",
    "# Filter rows where the first column is divisible by 1000\n",
    "filtered_data_corrected = data_typecode[data_typecode.iloc[:, 0] % 100000 == 0]\n",
    "\n",
    "filtered_data_corrected.to_csv('/Users/pang/Data/major_type.csv', index=False, encoding='shift-jis')\n"
   ]
  },
  {
   "cell_type": "code",
   "execution_count": null,
   "id": "19ae09b9-31f3-42eb-b76d-b128054ee462",
   "metadata": {},
   "outputs": [],
   "source": []
  }
 ],
 "metadata": {
  "kernelspec": {
   "display_name": "Python 3 (ipykernel)",
   "language": "python",
   "name": "python3"
  },
  "language_info": {
   "codemirror_mode": {
    "name": "ipython",
    "version": 3
   },
   "file_extension": ".py",
   "mimetype": "text/x-python",
   "name": "python",
   "nbconvert_exporter": "python",
   "pygments_lexer": "ipython3",
   "version": "3.12.2"
  }
 },
 "nbformat": 4,
 "nbformat_minor": 5
}
