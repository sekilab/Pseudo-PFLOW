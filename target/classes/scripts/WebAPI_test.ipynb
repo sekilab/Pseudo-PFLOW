{
 "cells": [
  {
   "cell_type": "code",
   "execution_count": 2,
   "id": "caf86e57-f4eb-4f56-9870-e7340ef901fe",
   "metadata": {
    "tags": []
   },
   "outputs": [],
   "source": [
    "import requests\n",
    "import json\n",
    "import datetime\n",
    "import random\n",
    "\n",
    "import pandas as pd\n",
    "# import geopandas as gpd\n",
    "\n",
    "# import folium\n",
    "\n",
    "# from concurrent.futures import ThreadPoolExecutor, as_completed\n",
    "\n",
    "import warnings\n",
    "warnings.filterwarnings('ignore')"
   ]
  },
  {
   "cell_type": "markdown",
   "id": "ba8184d0-9e93-4ec0-9841-77f37431500a",
   "metadata": {
    "tags": []
   },
   "source": [
    "## CreateSession"
   ]
  },
  {
   "cell_type": "code",
   "execution_count": 4,
   "id": "346b13a1-2243-4e98-8595-cb51b06b84cf",
   "metadata": {
    "tags": []
   },
   "outputs": [
    {
     "name": "stdout",
     "output_type": "stream",
     "text": [
      "Session created successfully\n"
     ]
    }
   ],
   "source": [
    "url = 'https://157.82.223.35/webapi/CreateSession'\n",
    "\n",
    "data = {\n",
    "    'UserID': 'Pang_Yanbo',\n",
    "    'Password': 'Pyb-37167209'\n",
    "}\n",
    "\n",
    "response = requests.post(url, data=data, verify=False)\n",
    "\n",
    "if response.status_code == 200:\n",
    "    print('Session created successfully')\n",
    "    # print(response.text)\n",
    "    status, sessionid = response.text.split(',')\n",
    "    headers = {'WebApiSessionID': sessionid.strip('\\r\\n')}\n",
    "    # print(\"Status:{}, SessionID: {}\".format(status, sessionid))\n",
    "else:\n",
    "    print('Failed to post data:', response.status_code)"
   ]
  },
  {
   "cell_type": "code",
   "execution_count": 4,
   "id": "3a89a335-16e7-44fc-9eab-1b62b77a9428",
   "metadata": {
    "tags": []
   },
   "outputs": [
    {
     "name": "stdout",
     "output_type": "stream",
     "text": [
      "Session created successfully\n",
      "1,309BCC0A7753\n",
      "\n",
      "Status:1, SessionID: 309BCC0A7753\n",
      "\n"
     ]
    }
   ],
   "source": [
    "url = 'http://localhost/webapi/CreateSession'\n",
    "\n",
    "data = {\n",
    "    'UserID': 'test_user1',\n",
    "    'Password': 'test_user1'\n",
    "}\n",
    "\n",
    "response = requests.post(url, data=data, verify=False)\n",
    "\n",
    "if response.status_code == 200:\n",
    "    print('Session created successfully')\n",
    "    print(response.text)\n",
    "    status, sessionid = response.text.split(',')\n",
    "    headers = {'WebApiSessionID': sessionid.strip('\\r\\n')}\n",
    "    print(\"Status:{}, SessionID: {}\".format(status, sessionid))\n",
    "else:\n",
    "    print('Failed to post data:', response.status_code)"
   ]
  },
  {
   "cell_type": "code",
   "execution_count": 14,
   "id": "056bcfd5-98d8-4511-af81-4eb87fe4e09a",
   "metadata": {
    "tags": []
   },
   "outputs": [
    {
     "name": "stdout",
     "output_type": "stream",
     "text": [
      "Session created successfully\n",
      "1,3C332214CE37\n",
      "\n",
      "Status:1, SessionID: 3C332214CE37\n",
      "\n",
      "Session created successfully\n",
      "1,C2CBB8EDC540\n",
      "\n",
      "Status:1, SessionID: C2CBB8EDC540\n",
      "\n"
     ]
    }
   ],
   "source": [
    "url = 'https://157.82.223.35/webapi/CreateSession'\n",
    "\n",
    "data = {\n",
    "    'UserID': 'Pang_Yanbo',\n",
    "    'Password': 'Pyb-37167209'\n",
    "}\n",
    "\n",
    "response = requests.post(url, data=data, verify=False)\n",
    "\n",
    "if response.status_code == 200:\n",
    "    print('Session created successfully')\n",
    "    print(response.text)\n",
    "    status, sessionid = response.text.split(',')\n",
    "    headers = {'WebApiSessionID': sessionid.strip('\\r\\n')}\n",
    "    print(\"Status:{}, SessionID: {}\".format(status, sessionid))\n",
    "else:\n",
    "    print('Failed to post data:', response.status_code)\n",
    "\n",
    "url = 'https://157.82.223.35/webapi/CreateSession'\n",
    "\n",
    "data = {\n",
    "    'UserID': 'Pang_Yanbo',\n",
    "    'Password': 'Pyb-37167209'\n",
    "}\n",
    "\n",
    "response = requests.post(url, data=data, verify=False)\n",
    "\n",
    "if response.status_code == 200:\n",
    "    print('Session created successfully')\n",
    "    print(response.text)\n",
    "    status, sessionid = response.text.split(',')\n",
    "    headers = {'WebApiSessionID': sessionid.strip('\\r\\n')}\n",
    "    print(\"Status:{}, SessionID: {}\".format(status, sessionid))\n",
    "else:\n",
    "    print('Failed to post data:', response.status_code)"
   ]
  },
  {
   "cell_type": "code",
   "execution_count": null,
   "id": "ae78992c-f9d8-4769-87f5-733dfcd345aa",
   "metadata": {},
   "outputs": [],
   "source": []
  },
  {
   "cell_type": "code",
   "execution_count": 16,
   "id": "aa498b89-2d0b-4e61-a2a4-69ca3c7c0b2b",
   "metadata": {},
   "outputs": [
    {
     "data": {
      "text/plain": [
       "{'WebApiSessionID': 'C2CBB8EDC540'}"
      ]
     },
     "execution_count": 16,
     "metadata": {},
     "output_type": "execute_result"
    }
   ],
   "source": [
    "headers"
   ]
  },
  {
   "cell_type": "markdown",
   "id": "2aeb0f0b-74a6-4cf8-ba8a-164b7d8cedef",
   "metadata": {
    "tags": []
   },
   "source": [
    "## Multithread Test"
   ]
  },
  {
   "cell_type": "code",
   "execution_count": 18,
   "id": "085ce2ea-fa80-4187-a40d-546da02ed1c3",
   "metadata": {},
   "outputs": [],
   "source": [
    "def call_api(url, headers, data):\n",
    "    response = requests.post(url, cookies=headers, data=data, verify=False)\n",
    "    if response.status_code == 200:\n",
    "        values = [value for s in response.text.split(',') for value in s.split('\\r\\n') if value]\n",
    "        if values[0].strip('\\r\\n') == '1':  # Assuming the first value is the status\n",
    "            print(\"NearestRoadPoint Detected\")\n",
    "            print(\"Status: {}, RoadType: {}, RoadID: {}, MeshCode: {}, Longitude: {}, Latitude: {}\".format(*values))\n",
    "            return True\n",
    "    else:\n",
    "        print('Failed to post data:', response.status_code)\n",
    "        return False"
   ]
  },
  {
   "cell_type": "code",
   "execution_count": 19,
   "id": "0a6d1a29-ac2e-4f40-ad55-1504fa5c0478",
   "metadata": {
    "tags": []
   },
   "outputs": [
    {
     "ename": "NameError",
     "evalue": "name 'ThreadPoolExecutor' is not defined",
     "output_type": "error",
     "traceback": [
      "\u001b[1;31m---------------------------------------------------------------------------\u001b[0m",
      "\u001b[1;31mNameError\u001b[0m                                 Traceback (most recent call last)",
      "Cell \u001b[1;32mIn[19], line 14\u001b[0m\n\u001b[0;32m     10\u001b[0m num_threads \u001b[38;5;241m=\u001b[39m \u001b[38;5;241m10\u001b[39m  \u001b[38;5;66;03m# Number of concurrent threads\u001b[39;00m\n\u001b[0;32m     12\u001b[0m start_time \u001b[38;5;241m=\u001b[39m datetime\u001b[38;5;241m.\u001b[39mdatetime\u001b[38;5;241m.\u001b[39mnow()\n\u001b[1;32m---> 14\u001b[0m \u001b[38;5;28;01mwith\u001b[39;00m ThreadPoolExecutor(max_workers\u001b[38;5;241m=\u001b[39mnum_threads) \u001b[38;5;28;01mas\u001b[39;00m executor:\n\u001b[0;32m     15\u001b[0m     futures \u001b[38;5;241m=\u001b[39m [executor\u001b[38;5;241m.\u001b[39msubmit(call_api, url, headers, data) \u001b[38;5;28;01mfor\u001b[39;00m _ \u001b[38;5;129;01min\u001b[39;00m \u001b[38;5;28mrange\u001b[39m(num_threads)]\n\u001b[0;32m     17\u001b[0m     \u001b[38;5;28;01mfor\u001b[39;00m future \u001b[38;5;129;01min\u001b[39;00m as_completed(futures):\n",
      "\u001b[1;31mNameError\u001b[0m: name 'ThreadPoolExecutor' is not defined"
     ]
    }
   ],
   "source": [
    "url = 'http://157.82.223.35/webapi/GetNearestRoadPoint'\n",
    "\n",
    "data = {\n",
    "    'UnitTypeCode': '2',\n",
    "    'PosLongitude': '139.8732',\n",
    "    'PosLatitude': '36.0484',\n",
    "    'RoadKindCode': '',\n",
    "    'RoadNo': '',\n",
    "}\n",
    "num_threads = 10  # Number of concurrent threads\n",
    "\n",
    "start_time = datetime.datetime.now()\n",
    "\n",
    "with ThreadPoolExecutor(max_workers=num_threads) as executor:\n",
    "    futures = [executor.submit(call_api, url, headers, data) for _ in range(num_threads)]\n",
    "\n",
    "    for future in as_completed(futures):\n",
    "        result = future.result()\n",
    "        # Handle the result if needed\n",
    "\n",
    "end_time = datetime.datetime.now()\n",
    "print(\"Total execution time: \", end_time - start_time)"
   ]
  },
  {
   "cell_type": "code",
   "execution_count": 7,
   "id": "6f8ef3c8-940e-4f71-861d-34282275211f",
   "metadata": {},
   "outputs": [],
   "source": [
    "def call_api(url, headers, data):\n",
    "    response = requests.post(url, cookies=headers, data=data, verify=False)\n",
    "    if response.status_code == 200:\n",
    "        values = [value for s in response.text.split(',') for value in s.split('\\r\\n') if value]\n",
    "        if values[0].strip('\\r\\n') == '1':  # Assuming the first value is the status\n",
    "            return True\n",
    "    return False\n",
    "\n",
    "def single_thread_test(url, headers, data, num_requests):\n",
    "    start_time = datetime.datetime.now()\n",
    "    for _ in range(num_requests):\n",
    "        call_api(url, headers, data)\n",
    "    end_time = datetime.datetime.now()\n",
    "    return end_time - start_time\n",
    "\n",
    "def multi_thread_test(url, headers, data, num_threads):\n",
    "    start_time = datetime.datetime.now()\n",
    "    with ThreadPoolExecutor(max_workers=num_threads) as executor:\n",
    "        futures = [executor.submit(call_api, url, headers, data) for _ in range(num_threads)]\n",
    "        for future in as_completed(futures):\n",
    "            result = future.result()\n",
    "    end_time = datetime.datetime.now()\n",
    "    return end_time - start_time"
   ]
  },
  {
   "cell_type": "code",
   "execution_count": null,
   "id": "dd762c38-2735-466a-98ac-537d50a2d83a",
   "metadata": {
    "tags": []
   },
   "outputs": [],
   "source": [
    "url = 'http://157.82.223.35/webapi/GetNearestRoadPoint'\n",
    "\n",
    "data = {\n",
    "    'UnitTypeCode': '2',\n",
    "    'PosLongitude': '139.8732',\n",
    "    'PosLatitude': '36.0484',\n",
    "    'RoadKindCode': '',\n",
    "    'RoadNo': '',\n",
    "}\n",
    "\n",
    "num_requests = 1000  # Number of requests for single-thread test and also the number of threads for multi-thread test\n",
    "\n",
    "# Single-thread test\n",
    "single_thread_duration = single_thread_test(url, headers, data, num_requests)\n",
    "print(f\"Single-thread execution time: {single_thread_duration}\")\n",
    "\n",
    "# Multi-thread test\n",
    "multi_thread_duration = multi_thread_test(url, headers, data, num_requests)\n",
    "print(f\"Multi-thread execution time: {multi_thread_duration}\")"
   ]
  },
  {
   "cell_type": "code",
   "execution_count": 9,
   "id": "2fa3ee0b-7e43-4b02-b8a2-f6b0ec2d72d4",
   "metadata": {
    "tags": []
   },
   "outputs": [
    {
     "name": "stdout",
     "output_type": "stream",
     "text": [
      "Single-thread execution time: 0:00:07.953684\n"
     ]
    },
    {
     "ename": "NameError",
     "evalue": "name 'ThreadPoolExecutor' is not defined",
     "output_type": "error",
     "traceback": [
      "\u001b[1;31m---------------------------------------------------------------------------\u001b[0m",
      "\u001b[1;31mNameError\u001b[0m                                 Traceback (most recent call last)",
      "Cell \u001b[1;32mIn[9], line 23\u001b[0m\n\u001b[0;32m     20\u001b[0m \u001b[38;5;28mprint\u001b[39m(\u001b[38;5;124mf\u001b[39m\u001b[38;5;124m\"\u001b[39m\u001b[38;5;124mSingle-thread execution time: \u001b[39m\u001b[38;5;132;01m{\u001b[39;00msingle_thread_duration\u001b[38;5;132;01m}\u001b[39;00m\u001b[38;5;124m\"\u001b[39m)\n\u001b[0;32m     22\u001b[0m \u001b[38;5;66;03m# Multi-thread test\u001b[39;00m\n\u001b[1;32m---> 23\u001b[0m multi_thread_duration \u001b[38;5;241m=\u001b[39m multi_thread_test(url, headers, data, num_requests)\n\u001b[0;32m     24\u001b[0m \u001b[38;5;28mprint\u001b[39m(\u001b[38;5;124mf\u001b[39m\u001b[38;5;124m\"\u001b[39m\u001b[38;5;124mMulti-thread execution time: \u001b[39m\u001b[38;5;132;01m{\u001b[39;00mmulti_thread_duration\u001b[38;5;132;01m}\u001b[39;00m\u001b[38;5;124m\"\u001b[39m)\n",
      "Cell \u001b[1;32mIn[7], line 18\u001b[0m, in \u001b[0;36mmulti_thread_test\u001b[1;34m(url, headers, data, num_threads)\u001b[0m\n\u001b[0;32m     16\u001b[0m \u001b[38;5;28;01mdef\u001b[39;00m \u001b[38;5;21mmulti_thread_test\u001b[39m(url, headers, data, num_threads):\n\u001b[0;32m     17\u001b[0m     start_time \u001b[38;5;241m=\u001b[39m datetime\u001b[38;5;241m.\u001b[39mdatetime\u001b[38;5;241m.\u001b[39mnow()\n\u001b[1;32m---> 18\u001b[0m     \u001b[38;5;28;01mwith\u001b[39;00m ThreadPoolExecutor(max_workers\u001b[38;5;241m=\u001b[39mnum_threads) \u001b[38;5;28;01mas\u001b[39;00m executor:\n\u001b[0;32m     19\u001b[0m         futures \u001b[38;5;241m=\u001b[39m [executor\u001b[38;5;241m.\u001b[39msubmit(call_api, url, headers, data) \u001b[38;5;28;01mfor\u001b[39;00m _ \u001b[38;5;129;01min\u001b[39;00m \u001b[38;5;28mrange\u001b[39m(num_threads)]\n\u001b[0;32m     20\u001b[0m         \u001b[38;5;28;01mfor\u001b[39;00m future \u001b[38;5;129;01min\u001b[39;00m as_completed(futures):\n",
      "\u001b[1;31mNameError\u001b[0m: name 'ThreadPoolExecutor' is not defined"
     ]
    }
   ],
   "source": [
    "# GetMixdRoute\n",
    "\n",
    "url = 'http://157.82.223.35/webapi/GetMixedRoute'\n",
    "\n",
    "data = {\n",
    "    'UnitTypeCode': '2',\n",
    "    'StartLongitude': '139.67734',\n",
    "    'StartLatitude': '35.66274',\n",
    "    'GoalLongitude': '139.74852',\n",
    "    'GoalLatitude': '35.66780',\n",
    "    'AppDate': '20240401',\n",
    "    'AppTime': '0845',\n",
    "    'TransportCode': '3'\n",
    "}\n",
    "\n",
    "num_requests = 30  # Number of requests for single-thread test and also the number of threads for multi-thread test\n",
    "\n",
    "# Single-thread test\n",
    "single_thread_duration = single_thread_test(url, headers, data, num_requests)\n",
    "print(f\"Single-thread execution time: {single_thread_duration}\")\n",
    "\n",
    "# Multi-thread test\n",
    "multi_thread_duration = multi_thread_test(url, headers, data, num_requests)\n",
    "print(f\"Multi-thread execution time: {multi_thread_duration}\")"
   ]
  },
  {
   "cell_type": "markdown",
   "id": "8072a151-84de-4f57-8392-dfab73c589bc",
   "metadata": {
    "tags": []
   },
   "source": [
    "## GetNearestRoadPoint"
   ]
  },
  {
   "cell_type": "code",
   "execution_count": null,
   "id": "5591c875-11b3-4816-a085-557354f81f99",
   "metadata": {
    "tags": []
   },
   "outputs": [],
   "source": [
    "starttime = datetime.datetime.now()\n",
    "\n",
    "url = 'http://localhost/webapi/GetNearestRoadPoint'\n",
    "\n",
    "data = {\n",
    "    'UnitTypeCode': '2',\n",
    "    'PosLongitude': '139.8732',\n",
    "    'PosLatitude': '36.0484',\n",
    "    'RoadKindCode': '',\n",
    "    'RoadNo': '',\n",
    "}\n",
    "\n",
    "response = requests.post(url, cookies=headers, data=data)\n",
    "\n",
    "if response.status_code == 200:\n",
    "    status, roadtype, roadid, meshcode, lon, lat = [value for s in response.text.split(',') for value in s.split('\\r\\n') if value]\n",
    "    if status.strip('\\r\\n') == '1':\n",
    "        print(\"NearestRoadPoint Detected\")\n",
    "        print(\"Status:{}, RoadType: {}, RoadID: {}, MeshCode: {}, Longitude: {}, Latitude: {}\".format(status, roadtype, roadid, meshcode, lon, lat))\n",
    "else:\n",
    "    print('Failed to post data:', response.status_code)\n",
    "    \n",
    "endtime = datetime.datetime.now()\n",
    "print(\"Get Nearest Road Point time:\", endtime-starttime)"
   ]
  },
  {
   "cell_type": "code",
   "execution_count": null,
   "id": "9a9d21fd-603c-41ef-8efa-8f70062fdd93",
   "metadata": {
    "tags": []
   },
   "outputs": [],
   "source": [
    "starttime = datetime.datetime.now()\n",
    "\n",
    "url = 'http://localhost/webapi/GetMixedRoute'\n",
    "\n",
    "data = {\n",
    "    'UnitTypeCode': '2',\n",
    "    'StartLongitude': '139.67737',\n",
    "    'StartLatitude': '35.66446',\n",
    "    'GoalLongitude': '139.70264',\n",
    "    'GoalLatitude': '35.65843',\n",
    "    'TransportCode': '2',\n",
    "    'AppDate': '20240526',\n",
    "    'AppTime': '1230'\n",
    "}\n",
    "\n",
    "response = requests.post(url, cookies=headers, data=data, verify=False)\n",
    "\n",
    "if response.status_code == 200:\n",
    "    print(response.text)"
   ]
  },
  {
   "cell_type": "code",
   "execution_count": null,
   "id": "e7320ad4-5024-4b22-a242-14958ede529d",
   "metadata": {},
   "outputs": [],
   "source": [
    "response.text"
   ]
  },
  {
   "cell_type": "markdown",
   "id": "8e4da8f8-00fe-4d10-9266-00bf900f5d5a",
   "metadata": {
    "jp-MarkdownHeadingCollapsed": true,
    "tags": []
   },
   "source": [
    "### Speed test"
   ]
  },
  {
   "cell_type": "code",
   "execution_count": null,
   "id": "1f0e8900-2265-4190-a211-509a86616a00",
   "metadata": {},
   "outputs": [],
   "source": [
    "def random_coordinates():\n",
    "    \"\"\"Generate random latitude and longitude within Japan's bounding box.\"\"\"\n",
    "    # Japan's approximate bounding box\n",
    "    min_lat, max_lat = 34.5, 36.0  # North latitude\n",
    "    min_lon, max_lon = 138.0, 140.0  # East longitude\n",
    "    lat = random.uniform(min_lat, max_lat)\n",
    "    lon = random.uniform(min_lon, max_lon)\n",
    "    return lat, lon\n",
    "\n",
    "starttime = datetime.datetime.now()\n",
    "\n",
    "url = 'http://157.82.223.35/webapi/GetNearestRoadPoint'\n",
    "\n",
    "for _ in range(100):\n",
    "\n",
    "    lat, lon = random_coordinates()\n",
    "    \n",
    "    data = {\n",
    "        'UnitTypeCode': '2',\n",
    "        'PosLongitude': str(lon),\n",
    "        'PosLatitude': str(lat),\n",
    "        'RoadKindCode': '',\n",
    "        'RoadNo': '',\n",
    "    }\n",
    "\n",
    "    response = requests.post(url, cookies=headers, data=data, verify=False)\n",
    "\n",
    "    if response.status_code == 200:\n",
    "        # Split the response by ',' and then each item by '\\r\\n', filtering out empty values\n",
    "        response_values = [value for s in response.text.split(',') for value in s.split('\\r\\n') if value]\n",
    "    \n",
    "        # Check if the response contains the expected number of values\n",
    "    else:\n",
    "        print('Failed to post data:', response.status_code)\n",
    "\n",
    "endtime = datetime.datetime.now()\n",
    "print(\"Get Nearest Road Point with 10000 times in:\", endtime-starttime)"
   ]
  },
  {
   "cell_type": "markdown",
   "id": "66e31b26-2ba4-4f4c-a486-59cd298992ed",
   "metadata": {
    "tags": []
   },
   "source": [
    "## GetRoadRoute"
   ]
  },
  {
   "cell_type": "code",
   "execution_count": null,
   "id": "43ba8e59-a718-4e70-bbe0-98c35004f1b3",
   "metadata": {
    "tags": []
   },
   "outputs": [],
   "source": [
    "starttime = datetime.datetime.now()\n",
    "\n",
    "url = 'https://157.82.223.35/webapi/GetRoadRoute'\n",
    "\n",
    "data = {\n",
    "    'UnitTypeCode': '2',\n",
    "    'StartLongitude': 139.67727019,\n",
    "    'StartLatitude': 35.66412606,\n",
    "    'GoalLongitude': 138.808493,\n",
    "    'GoalLatitude': 36.017459,\n",
    "    'WayLongitude': '',\n",
    "    'WayLatitude': '',\n",
    "    'RoadKindCode': '',\n",
    "    'RoadNo': '',\n",
    "    'TransportCode': '6',\n",
    "    'OutputNum': '1',\n",
    "}\n",
    "\n",
    "response = requests.post(url, cookies=headers, data=data, verify=False)\n",
    "\n",
    "if response.status_code == 200:\n",
    "    print(response.text)\n",
    "    # print([value.strip() for s in response.text.split(',') for value in s.split('\\n') if value.strip()])\n",
    "    split_values = [value.strip() for s in response.text.split(',') for value in s.split('\\n') if value.strip()]\n",
    "    route_values = split_values[11:]\n",
    "\n",
    "    routes = []\n",
    "    current_route = None\n",
    "    current_coordinates = []\n",
    "\n",
    "    for value in route_values:\n",
    "        if value.isdigit(): \n",
    "            if current_route is not None:\n",
    "                routes.append((current_route, current_coordinates))\n",
    "            current_route = value\n",
    "            current_coordinates = []\n",
    "        else:\n",
    "            current_coordinates.append(value)\n",
    "    if current_route is not None:\n",
    "        routes.append((current_route, current_coordinates))\n",
    "\n",
    "    # print('route:', routes)\n",
    "    # status, routeno, route1_len,route2_len,route3_len, route1_no, route2_no, route3_no, route1_time, route2_time, route3_time, out_route_no, lon, lat = [value.strip() for s in response.text.split(',') for value in s.split('\\n') if value.strip()]\n",
    "\n",
    "    if status.strip('\\r\\n') == '1':\n",
    "        print(\"NearestRoadPoint Detected\")\n",
    "        # print(\"Status:{}, RoadType: {}, RoadID: {}, MeshCode: {}, Longitude: {}, Latitude: {}\".format(status, roadtype, roadid, meshcode, lon, lat))\n",
    "else:\n",
    "    print('Failed to post data:', response.status_code)\n",
    "    \n",
    "endtime = datetime.datetime.now()\n",
    "print(\"Get Nearest Road Point time:\", endtime-starttime)"
   ]
  },
  {
   "cell_type": "code",
   "execution_count": null,
   "id": "d672be20-d2ae-4396-8caf-aa09d454d584",
   "metadata": {
    "tags": []
   },
   "outputs": [],
   "source": [
    "import folium\n",
    "\n",
    "route_data = {}\n",
    "for route, coord_pair in routes:\n",
    "    if route not in route_data:\n",
    "        route_data[route] = []\n",
    "    route_data[route].append(tuple(map(float, coord_pair)))\n",
    "\n",
    "\n",
    "first_coord = route_data['1'][0]  \n",
    "map_center = [float(first_coord[1]), float(first_coord[0])]  \n",
    "routesmap = folium.Map(location=map_center, zoom_start=14)\n",
    "\n",
    "\n",
    "for route, coords in route_data.items():\n",
    "    for coord in coords:\n",
    "        folium.Marker([float(coord[1]), float(coord[0])], tooltip=f\"Route {route}\").add_to(routesmap)\n",
    "routesmap"
   ]
  },
  {
   "cell_type": "code",
   "execution_count": null,
   "id": "aef6fba6-ce53-435c-9550-1972ffb6b788",
   "metadata": {},
   "outputs": [],
   "source": [
    "# Loop 10,000 times\n",
    "for _ in range(10000):\n",
    "    \n",
    "    orilat, orilon = random_coordinates()\n",
    "    destlat, destlon = random_coordinates()\n",
    "    \n",
    "    data = {\n",
    "        'UnitTypeCode': '2',\n",
    "        'StartLongitude': str(orilon),\n",
    "        'StartLatitude': str(orilat),\n",
    "        'GoalLongitude': str(destlon),\n",
    "        'GoalLatitude': str(destlon),\n",
    "        'WayLongitude': '',\n",
    "        'WayLatitude': '',\n",
    "        'RoadKindCode': '',\n",
    "        'RoadNo': '',\n",
    "        'TransportCode': '6',\n",
    "        'OutputNum': '1',\n",
    "    }\n",
    "\n",
    "    response = requests.post(url, cookies=headers, data=data)\n",
    "\n",
    "    if response.status_code == 200:\n",
    "        # Assuming response.text contains comma-separated values with newline-separated route details\n",
    "        split_values = [value.strip() for s in response.text.split(',') for value in s.split('\\n') if value.strip()]\n",
    "        route_values = split_values[11:]  # Adjust index based on actual response structure\n",
    "\n",
    "        routes = []\n",
    "        current_route = None\n",
    "        current_coordinates = []\n",
    "\n",
    "        for value in route_values:\n",
    "            if value.isdigit():\n",
    "                if current_route is not None:\n",
    "                    routes.append((current_route, current_coordinates))\n",
    "                current_route = value\n",
    "                current_coordinates = []\n",
    "            else:\n",
    "                current_coordinates.append(value)\n",
    "\n",
    "        if current_route is not None:\n",
    "            routes.append((current_route, current_coordinates))\n",
    "\n",
    "        # Optional: Print routes or handle them as needed\n",
    "        # print('route:', routes)\n",
    "    else:\n",
    "        print('Failed to post data:', response.status_code)\n",
    "\n",
    "# Calculate and print the total time taken after the loop completes\n",
    "endtime = datetime.datetime.now()\n",
    "print(\"Total time for 10,000 requests:\", endtime - starttime)"
   ]
  },
  {
   "cell_type": "markdown",
   "id": "61651f99-3458-44f3-8500-b65ea324a24a",
   "metadata": {
    "jp-MarkdownHeadingCollapsed": true,
    "tags": []
   },
   "source": [
    "## GetRailRoute"
   ]
  },
  {
   "cell_type": "code",
   "execution_count": null,
   "id": "3f01cdbc-5c97-47d2-bd7e-daedf3c6bab1",
   "metadata": {
    "tags": []
   },
   "outputs": [],
   "source": [
    "starttime = datetime.datetime.now()\n",
    "\n",
    "url = 'https://157.82.223.35/webapi/GetRailRoute'\n",
    "\n",
    "data = {\n",
    "    'UnitTypeCode': '2',\n",
    "    'GeoOptionCode': '2',\n",
    "    # 'StartStation': '',\n",
    "    # 'GoalStation': '',\n",
    "    # 'WayStation': '',\n",
    "    'StartLongitude': '139.68442655057348',\n",
    "    'StartLatitude': '35.65867888608949',\n",
    "    'GoalLongitude': '139.73947263836726',\n",
    "    'GoalLatitude': '35.638819642998044',\n",
    "    'WayLongitude': '',\n",
    "    'WayLatitude': '',\n",
    "    'RoadKindCode': '',\n",
    "    'AppDate': '20231124',\n",
    "    'AppTime': '1645',\n",
    "    'StartGoalType': '1',\n",
    "}\n",
    "\n",
    "response = requests.post(url, cookies=headers, data=data, verify=False)\n",
    "\n",
    "if response.status_code == 200:\n",
    "    print(response.text)\n",
    "    print([value.strip() for s in response.text.split(',') for value in s.split('\\n') if value.strip()])\n",
    "    split_values = [value.strip() for s in response.text.split(',') for value in s.split('\\n') if value.strip()]\n",
    "    route_values = split_values[11:]\n",
    "\n",
    "    routes = []\n",
    "    current_route = None\n",
    "    current_coordinates = []\n",
    "\n",
    "    for value in route_values:\n",
    "        if value.isdigit(): \n",
    "            if current_route is not None:\n",
    "                routes.append((current_route, current_coordinates))\n",
    "            current_route = value\n",
    "            current_coordinates = []\n",
    "        else:\n",
    "            current_coordinates.append(value)\n",
    "    if current_route is not None:\n",
    "        routes.append((current_route, current_coordinates))\n",
    "\n",
    "    print('route:', routes)\n",
    "    # status, routeno, route1_len,route2_len,route3_len, route1_no, route2_no, route3_no, route1_time, route2_time, route3_time, out_route_no, lon, lat = [value.strip() for s in response.text.split(',') for value in s.split('\\n') if value.strip()]\n",
    "\n",
    "    if status.strip('\\r\\n') == '1':\n",
    "        print(\"NearestRoadPoint Detected\")\n",
    "        # print(\"Status:{}, RoadType: {}, RoadID: {}, MeshCode: {}, Longitude: {}, Latitude: {}\".format(status, roadtype, roadid, meshcode, lon, lat))\n",
    "else:\n",
    "    print('Failed to post data:', response.status_code)\n",
    "    \n",
    "endtime = datetime.datetime.now()\n",
    "print(\"Get Nearest Road Point time:\", endtime-starttime)"
   ]
  },
  {
   "cell_type": "code",
   "execution_count": null,
   "id": "e9b4d67b-9c2e-4b97-bbc1-60d7970e0803",
   "metadata": {},
   "outputs": [],
   "source": [
    "import requests\n",
    "import datetime\n",
    "\n",
    "# Initialize the start time\n",
    "starttime = datetime.datetime.now()\n",
    "\n",
    "url = 'http://157.82.223.35/webapi/GetRoadRoute'\n",
    "\n",
    "# Headers or cookies should be defined if you're using them\n",
    "headers = {}  # Define your headers or cookies here\n",
    "\n",
    "# Loop 10,000 times\n",
    "for _ in range(10000):\n",
    "    data = {\n",
    "        'UnitTypeCode': '2',\n",
    "        'StartLongitude': '139.67727019',\n",
    "        'StartLatitude': '35.66412606',\n",
    "        'GoalLongitude': '138.808493',\n",
    "        'GoalLatitude': '36.017459',\n",
    "        'WayLongitude': '',\n",
    "        'WayLatitude': '',\n",
    "        'RoadKindCode': '',\n",
    "        'RoadNo': '',\n",
    "        'TransportCode': '6',\n",
    "        'OutputNum': '1',\n",
    "    }\n",
    "\n",
    "    response = requests.post(url, cookies=headers, data=data)\n",
    "\n",
    "    if response.status_code == 200:\n",
    "        # Assuming response.text contains comma-separated values with newline-separated route details\n",
    "        split_values = [value.strip() for s in response.text.split(',') for value in s.split('\\n') if value.strip()]\n",
    "        route_values = split_values[11:]  # Adjust index based on actual response structure\n",
    "\n",
    "        routes = []\n",
    "        current_route = None\n",
    "        current_coordinates = []\n",
    "\n",
    "        for value in route_values:\n",
    "            if value.isdigit():\n",
    "                if current_route is not None:\n",
    "                    routes.append((current_route, current_coordinates))\n",
    "                current_route = value\n",
    "                current_coordinates = []\n",
    "            else:\n",
    "                current_coordinates.append(value)\n",
    "\n",
    "        if current_route is not None:\n",
    "            routes.append((current_route, current_coordinates))\n",
    "\n",
    "        # Optional: Print routes or handle them as needed\n",
    "        # print('route:', routes)\n",
    "    else:\n",
    "        print('Failed to post data:', response.status_code)\n",
    "\n",
    "# Calculate and print the total time taken after the loop completes\n",
    "endtime = datetime.datetime.now()\n",
    "print(\"Total time for 10,000 requests:\", endtime - starttime)\n"
   ]
  },
  {
   "cell_type": "markdown",
   "id": "9a98ef56-0a0f-4756-9895-7527e38aa33f",
   "metadata": {
    "jp-MarkdownHeadingCollapsed": true,
    "tags": []
   },
   "source": [
    "## GeoJSON Check"
   ]
  },
  {
   "cell_type": "code",
   "execution_count": null,
   "id": "c5b2fb10-0890-4bce-8688-77e3132bae68",
   "metadata": {},
   "outputs": [],
   "source": []
  },
  {
   "cell_type": "code",
   "execution_count": null,
   "id": "92fd1539-576e-4454-8815-14295e4b75f6",
   "metadata": {},
   "outputs": [],
   "source": [
    "import geojson"
   ]
  },
  {
   "cell_type": "code",
   "execution_count": null,
   "id": "a3b8b35e-6c4b-4847-b3da-68244314deae",
   "metadata": {},
   "outputs": [],
   "source": [
    "path = '/Users/pang/Documents/9. CSIS関連/WebAPI開発/GetMixedRoute.geojson'\n",
    "\n",
    "gdf = gpd.read_file(path)\n",
    "gdf"
   ]
  },
  {
   "cell_type": "code",
   "execution_count": null,
   "id": "8efeb443-2332-463e-b84b-45e165911457",
   "metadata": {},
   "outputs": [],
   "source": [
    "with open(path) as f:\n",
    "    gj = geojson.load(f)\n",
    "features = gj['features']\n",
    "features"
   ]
  },
  {
   "cell_type": "code",
   "execution_count": null,
   "id": "4c9cde34-a0b7-43d0-9260-7e3e67a7ae9b",
   "metadata": {},
   "outputs": [],
   "source": [
    "gj[\"status\"]"
   ]
  },
  {
   "cell_type": "code",
   "execution_count": null,
   "id": "84606f47-90cc-4666-9c3b-4f80b5634348",
   "metadata": {
    "tags": []
   },
   "outputs": [],
   "source": [
    "map_center = gdf.geometry.iloc[0].centroid.coords[:][0][::-1]  # Using the centroid of the first geometry for centering\n",
    "mymap = folium.Map(location=map_center, zoom_start=12)\n",
    "\n",
    "# Add each line in the GeoDataFrame to the map\n",
    "for idx, row in gdf.iterrows():\n",
    "    # Simplify geometry for faster rendering\n",
    "    # simplified_geometry = row.geometry.simplify(tolerance=0.001, preserve_topology=True)\n",
    "    folium.GeoJson(row.geometry, name='geojson').add_to(mymap)\n",
    "\n",
    "mymap"
   ]
  },
  {
   "cell_type": "code",
   "execution_count": null,
   "id": "69fc349b-983c-411a-8317-742abdc1959f",
   "metadata": {},
   "outputs": [],
   "source": [
    "url = 'https://157.82.223.35/webapi/GetBusRoute'\n",
    "\n",
    "data = {\n",
    "    'UnitTypeCode': '2',\n",
    "    'StartLongitude': '139.67729225768124',\n",
    "    'StartLatitude': '35.66361199679843',\n",
    "    'GoalLongitude': '139.93601366419756', \n",
    "    'GoalLatitude': '35.90455222566497',\n",
    "    'TransportCode': '2',\n",
    "    'AppDate': '20231124',\n",
    "    'AppTime': '1645',\n",
    "    'StartGoalType': '1',\n",
    "}\n",
    "\n",
    "response = requests.post(url, cookies=headers, data=data, verify=False)\n",
    "\n",
    "if response.status_code == 200:\n",
    "    print('Mixed Route Search successfully')\n",
    "    print(response.text)\n",
    "else:\n",
    "    print('Failed to post data:', response.status_code)"
   ]
  },
  {
   "cell_type": "code",
   "execution_count": null,
   "id": "2d0539a4-ead9-4927-884e-2ce8fbaa0ed2",
   "metadata": {
    "tags": []
   },
   "outputs": [],
   "source": [
    "url = 'https://157.82.223.35/webapi/GetRoadRoute'\n",
    "\n",
    "data = {\n",
    "    'UnitTypeCode': '2',\n",
    "    'StartLongitude': '139.67729225768124',\n",
    "    'StartLatitude': '35.66361199679843',\n",
    "    'GoalLongitude': '139.93601366419756', \n",
    "    'GoalLatitude': '35.90455222566497',\n",
    "    'TransportCode': '6',\n",
    "    'AppDate': '20231124',\n",
    "    'AppTime': '1645',\n",
    "    'StartGoalType': '1',\n",
    "}\n",
    "\n",
    "response = requests.post(url, cookies=headers, data=data, verify=False)\n",
    "\n",
    "if response.status_code == 200:\n",
    "    print('Mixed Route Search successfully')\n",
    "    print(response.text)\n",
    "else:\n",
    "    print('Failed to post data:', response.status_code)"
   ]
  },
  {
   "cell_type": "code",
   "execution_count": null,
   "id": "e7a66191-ac61-4e28-a006-73af87bb6fb4",
   "metadata": {},
   "outputs": [],
   "source": [
    "!pip install geojson"
   ]
  },
  {
   "cell_type": "code",
   "execution_count": null,
   "id": "81621550-a806-4d79-82b0-ece6fc96b291",
   "metadata": {
    "tags": []
   },
   "outputs": [],
   "source": [
    "url = 'https://157.82.223.35/webapi/GetMixedRoute'\n",
    "\n",
    "data = {\n",
    "    'UnitTypeCode': '2',\n",
    "    'StartLongitude': '139.67729225768124',\n",
    "    'StartLatitude': '35.66361199679843',\n",
    "    'GoalLongitude': '139.93601366419756', \n",
    "    'GoalLatitude': '35.90455222566497',\n",
    "    'TransportCode': '3'\n",
    "}\n",
    "\n",
    "response = requests.post(url, cookies=headers, data=data, verify=False)\n",
    "\n",
    "if response.status_code == 200:\n",
    "    print('Mixed Route Search successfully')\n",
    "    print(response.text)\n",
    "else:\n",
    "    print('Failed to post data:', response.status_code)"
   ]
  },
  {
   "cell_type": "markdown",
   "id": "46514e81-30d0-47d4-a452-d9f9855de4bc",
   "metadata": {},
   "source": [
    "## Spatial Temporal Interpolation"
   ]
  },
  {
   "cell_type": "code",
   "execution_count": 19,
   "id": "34ec3d6b-18fe-41f5-843a-5f56fadcd680",
   "metadata": {
    "tags": []
   },
   "outputs": [
    {
     "name": "stdout",
     "output_type": "stream",
     "text": [
      "20103\n",
      "\n",
      "['20103']\n",
      "Get Nearest Road Point time: 0:00:00.003938\n"
     ]
    }
   ],
   "source": [
    "url = 'http://localhost/webapi/GetSTInterpolatedPoints'\n",
    "\n",
    "data = {\n",
    "    'UnitTypeCode': '1',\n",
    "    'Resolution': '60',\n",
    "    'DrStart': '20240411080000',\n",
    "    'DrEnd': '20240411083000',\n",
    "    'StartLongitude': '1396773.7',\n",
    "    'StartLatitude': '356644.6',\n",
    "    'GoalLongitude': '1397026.4',\n",
    "    'GoalLatitude': '356584.3',\n",
    "}\n",
    "\n",
    "starttime = datetime.datetime.now()\n",
    "\n",
    "response = requests.post(url, cookies=headers, data=data, verify=False)\n",
    "\n",
    "if response.status_code == 200:\n",
    "    print(response.text)\n",
    "    print([value.strip() for s in response.text.split(',') for value in s.split('\\n') if value.strip()])\n",
    "    split_values = [value.strip() for s in response.text.split(',') for value in s.split('\\n') if value.strip()]\n",
    "    route_values = split_values[11:]\n",
    "\n",
    "    routes = []\n",
    "    current_route = None\n",
    "    current_coordinates = []\n",
    "\n",
    "    for value in route_values:\n",
    "        if value.isdigit(): \n",
    "            if current_route is not None:\n",
    "                routes.append((current_route, current_coordinates))\n",
    "            current_route = value\n",
    "            current_coordinates = []\n",
    "        else:\n",
    "            current_coordinates.append(value)\n",
    "    if current_route is not None:\n",
    "        routes.append((current_route, current_coordinates))\n",
    "else:\n",
    "    print('Failed to post data:', response.status_code)\n",
    "    \n",
    "endtime = datetime.datetime.now()\n",
    "print(\"Get Nearest Road Point time:\", endtime-starttime)"
   ]
  },
  {
   "cell_type": "code",
   "execution_count": 15,
   "id": "5e70bbb7-25c7-4b03-962b-986b7d8a71c5",
   "metadata": {},
   "outputs": [
    {
     "name": "stdout",
     "output_type": "stream",
     "text": [
      "11018\n",
      "\n"
     ]
    }
   ],
   "source": [
    "url = 'http://157.82.223.35/webapi/GetMixedRoute'\n",
    "\n",
    "data = {\n",
    "    'UnitTypeCode': '2',\n",
    "    'StartLongitude': '139.67734',\n",
    "    'StartLatitude': '35.66274',\n",
    "    'GoalLongitude': '139.74852',\n",
    "    'GoalLatitude': '35.66780',\n",
    "    'AppDate': '20240401',\n",
    "    'AppTime': '0845',\n",
    "    'TransportCode': '1'\n",
    "}\n",
    "\n",
    "response = requests.post(url, cookies=headers, data=data, verify=False)\n",
    "\n",
    "if response.status_code == 200:\n",
    "    print(response.text)"
   ]
  },
  {
   "cell_type": "code",
   "execution_count": null,
   "id": "dc0a47e8-2b32-4386-a342-7471176ea3c3",
   "metadata": {},
   "outputs": [],
   "source": []
  }
 ],
 "metadata": {
  "kernelspec": {
   "display_name": "Python 3 (ipykernel)",
   "language": "python",
   "name": "python3"
  },
  "language_info": {
   "codemirror_mode": {
    "name": "ipython",
    "version": 3
   },
   "file_extension": ".py",
   "mimetype": "text/x-python",
   "name": "python",
   "nbconvert_exporter": "python",
   "pygments_lexer": "ipython3",
   "version": "3.11.7"
  }
 },
 "nbformat": 4,
 "nbformat_minor": 5
}
