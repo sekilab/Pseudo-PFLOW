{
 "cells": [
  {
   "cell_type": "code",
   "execution_count": 10,
   "id": "caf86e57-f4eb-4f56-9870-e7340ef901fe",
   "metadata": {
    "tags": []
   },
   "outputs": [],
   "source": [
    "import requests\n",
    "import json\n",
    "import datetime\n",
    "import random\n",
    "\n",
    "import pandas as pd\n",
    "# import geopandas as gpd\n",
    "\n",
    "# import folium\n",
    "\n",
    "from concurrent.futures import ThreadPoolExecutor, as_completed\n",
    "\n",
    "import warnings\n",
    "warnings.filterwarnings('ignore')"
   ]
  },
  {
   "cell_type": "markdown",
   "id": "ba8184d0-9e93-4ec0-9841-77f37431500a",
   "metadata": {
    "tags": []
   },
   "source": [
    "## CreateSession"
   ]
  },
  {
   "cell_type": "code",
   "execution_count": 13,
   "id": "346b13a1-2243-4e98-8595-cb51b06b84cf",
   "metadata": {
    "tags": []
   },
   "outputs": [
    {
     "name": "stdout",
     "output_type": "stream",
     "text": [
      "Session created successfully\n",
      "1999\n",
      "\n"
     ]
    },
    {
     "ename": "ValueError",
     "evalue": "not enough values to unpack (expected 2, got 1)",
     "output_type": "error",
     "traceback": [
      "\u001b[1;31m---------------------------------------------------------------------------\u001b[0m",
      "\u001b[1;31mValueError\u001b[0m                                Traceback (most recent call last)",
      "Cell \u001b[1;32mIn[13], line 13\u001b[0m\n\u001b[0;32m     11\u001b[0m     \u001b[38;5;28mprint\u001b[39m(\u001b[38;5;124m'\u001b[39m\u001b[38;5;124mSession created successfully\u001b[39m\u001b[38;5;124m'\u001b[39m)\n\u001b[0;32m     12\u001b[0m     \u001b[38;5;28mprint\u001b[39m(response\u001b[38;5;241m.\u001b[39mtext)\n\u001b[1;32m---> 13\u001b[0m     status, sessionid \u001b[38;5;241m=\u001b[39m response\u001b[38;5;241m.\u001b[39mtext\u001b[38;5;241m.\u001b[39msplit(\u001b[38;5;124m'\u001b[39m\u001b[38;5;124m,\u001b[39m\u001b[38;5;124m'\u001b[39m)\n\u001b[0;32m     14\u001b[0m     headers \u001b[38;5;241m=\u001b[39m {\u001b[38;5;124m'\u001b[39m\u001b[38;5;124mWebApiSessionID\u001b[39m\u001b[38;5;124m'\u001b[39m: sessionid\u001b[38;5;241m.\u001b[39mstrip(\u001b[38;5;124m'\u001b[39m\u001b[38;5;130;01m\\r\u001b[39;00m\u001b[38;5;130;01m\\n\u001b[39;00m\u001b[38;5;124m'\u001b[39m)}\n\u001b[0;32m     15\u001b[0m     \u001b[38;5;66;03m# print(\"Status:{}, SessionID: {}\".format(status, sessionid))\u001b[39;00m\n\u001b[0;32m     16\u001b[0m \u001b[38;5;28;01melse\u001b[39;00m:\n",
      "\u001b[1;31mValueError\u001b[0m: not enough values to unpack (expected 2, got 1)"
     ]
    }
   ],
   "source": [
    "url = 'https://157.82.223.35/webapi/CreateSession'\n",
    "\n",
    "data = {\n",
    "    'UserID': 'Pang_Yanbo',\n",
    "    'Password': 'Pyb-37167209'\n",
    "}\n",
    "\n",
    "response = requests.post(url, data=data, verify=False)\n",
    "\n",
    "if response.status_code == 200:\n",
    "    print('Session created successfully')\n",
    "    print(response.text)\n",
    "    status, sessionid = response.text.split(',')\n",
    "    headers = {'WebApiSessionID': sessionid.strip('\\r\\n')}\n",
    "    # print(\"Status:{}, SessionID: {}\".format(status, sessionid))\n",
    "else:\n",
    "    print('Failed to post data:', response.status_code)"
   ]
  },
  {
   "cell_type": "code",
   "execution_count": 4,
   "id": "3a89a335-16e7-44fc-9eab-1b62b77a9428",
   "metadata": {
    "tags": []
   },
   "outputs": [
    {
     "name": "stdout",
     "output_type": "stream",
     "text": [
      "Session created successfully\n",
      "1,309BCC0A7753\n",
      "\n",
      "Status:1, SessionID: 309BCC0A7753\n",
      "\n"
     ]
    }
   ],
   "source": [
    "url = 'http://localhost/webapi/CreateSession'\n",
    "\n",
    "data = {\n",
    "    'UserID': 'test_user1',\n",
    "    'Password': 'test_user1'\n",
    "}\n",
    "\n",
    "response = requests.post(url, data=data, verify=False)\n",
    "\n",
    "if response.status_code == 200:\n",
    "    print('Session created successfully')\n",
    "    print(response.text)\n",
    "    status, sessionid = response.text.split(',')\n",
    "    headers = {'WebApiSessionID': sessionid.strip('\\r\\n')}\n",
    "    print(\"Status:{}, SessionID: {}\".format(status, sessionid))\n",
    "else:\n",
    "    print('Failed to post data:', response.status_code)"
   ]
  },
  {
   "cell_type": "code",
   "execution_count": 14,
   "id": "056bcfd5-98d8-4511-af81-4eb87fe4e09a",
   "metadata": {
    "tags": []
   },
   "outputs": [
    {
     "name": "stdout",
     "output_type": "stream",
     "text": [
      "Session created successfully\n",
      "1,3C332214CE37\n",
      "\n",
      "Status:1, SessionID: 3C332214CE37\n",
      "\n",
      "Session created successfully\n",
      "1,C2CBB8EDC540\n",
      "\n",
      "Status:1, SessionID: C2CBB8EDC540\n",
      "\n"
     ]
    }
   ],
   "source": [
    "url = 'https://157.82.223.35/webapi/CreateSession'\n",
    "\n",
    "data = {\n",
    "    'UserID': 'Pang_Yanbo',\n",
    "    'Password': 'Pyb-37167209'\n",
    "}\n",
    "\n",
    "response = requests.post(url, data=data, verify=False)\n",
    "\n",
    "if response.status_code == 200:\n",
    "    print('Session created successfully')\n",
    "    print(response.text)\n",
    "    status, sessionid = response.text.split(',')\n",
    "    headers = {'WebApiSessionID': sessionid.strip('\\r\\n')}\n",
    "    print(\"Status:{}, SessionID: {}\".format(status, sessionid))\n",
    "else:\n",
    "    print('Failed to post data:', response.status_code)\n",
    "\n",
    "url = 'https://157.82.223.35/webapi/CreateSession'\n",
    "\n",
    "data = {\n",
    "    'UserID': 'Pang_Yanbo',\n",
    "    'Password': 'Pyb-37167209'\n",
    "}\n",
    "\n",
    "response = requests.post(url, data=data, verify=False)\n",
    "\n",
    "if response.status_code == 200:\n",
    "    print('Session created successfully')\n",
    "    print(response.text)\n",
    "    status, sessionid = response.text.split(',')\n",
    "    headers = {'WebApiSessionID': sessionid.strip('\\r\\n')}\n",
    "    print(\"Status:{}, SessionID: {}\".format(status, sessionid))\n",
    "else:\n",
    "    print('Failed to post data:', response.status_code)"
   ]
  },
  {
   "cell_type": "code",
   "execution_count": null,
   "id": "ae78992c-f9d8-4769-87f5-733dfcd345aa",
   "metadata": {},
   "outputs": [],
   "source": []
  },
  {
   "cell_type": "code",
   "execution_count": 16,
   "id": "aa498b89-2d0b-4e61-a2a4-69ca3c7c0b2b",
   "metadata": {},
   "outputs": [
    {
     "data": {
      "text/plain": [
       "{'WebApiSessionID': 'C2CBB8EDC540'}"
      ]
     },
     "execution_count": 16,
     "metadata": {},
     "output_type": "execute_result"
    }
   ],
   "source": [
    "headers"
   ]
  },
  {
   "cell_type": "markdown",
   "id": "2aeb0f0b-74a6-4cf8-ba8a-164b7d8cedef",
   "metadata": {
    "tags": []
   },
   "source": [
    "## Multithread Test"
   ]
  },
  {
   "cell_type": "code",
   "execution_count": 18,
   "id": "085ce2ea-fa80-4187-a40d-546da02ed1c3",
   "metadata": {},
   "outputs": [],
   "source": [
    "def call_api(url, headers, data):\n",
    "    response = requests.post(url, cookies=headers, data=data, verify=False)\n",
    "    if response.status_code == 200:\n",
    "        values = [value for s in response.text.split(',') for value in s.split('\\r\\n') if value]\n",
    "        if values[0].strip('\\r\\n') == '1':  # Assuming the first value is the status\n",
    "            print(\"NearestRoadPoint Detected\")\n",
    "            print(\"Status: {}, RoadType: {}, RoadID: {}, MeshCode: {}, Longitude: {}, Latitude: {}\".format(*values))\n",
    "            return True\n",
    "    else:\n",
    "        print('Failed to post data:', response.status_code)\n",
    "        return False"
   ]
  },
  {
   "cell_type": "code",
   "execution_count": 19,
   "id": "0a6d1a29-ac2e-4f40-ad55-1504fa5c0478",
   "metadata": {
    "tags": []
   },
   "outputs": [
    {
     "ename": "NameError",
     "evalue": "name 'ThreadPoolExecutor' is not defined",
     "output_type": "error",
     "traceback": [
      "\u001b[1;31m---------------------------------------------------------------------------\u001b[0m",
      "\u001b[1;31mNameError\u001b[0m                                 Traceback (most recent call last)",
      "Cell \u001b[1;32mIn[19], line 14\u001b[0m\n\u001b[0;32m     10\u001b[0m num_threads \u001b[38;5;241m=\u001b[39m \u001b[38;5;241m10\u001b[39m  \u001b[38;5;66;03m# Number of concurrent threads\u001b[39;00m\n\u001b[0;32m     12\u001b[0m start_time \u001b[38;5;241m=\u001b[39m datetime\u001b[38;5;241m.\u001b[39mdatetime\u001b[38;5;241m.\u001b[39mnow()\n\u001b[1;32m---> 14\u001b[0m \u001b[38;5;28;01mwith\u001b[39;00m ThreadPoolExecutor(max_workers\u001b[38;5;241m=\u001b[39mnum_threads) \u001b[38;5;28;01mas\u001b[39;00m executor:\n\u001b[0;32m     15\u001b[0m     futures \u001b[38;5;241m=\u001b[39m [executor\u001b[38;5;241m.\u001b[39msubmit(call_api, url, headers, data) \u001b[38;5;28;01mfor\u001b[39;00m _ \u001b[38;5;129;01min\u001b[39;00m \u001b[38;5;28mrange\u001b[39m(num_threads)]\n\u001b[0;32m     17\u001b[0m     \u001b[38;5;28;01mfor\u001b[39;00m future \u001b[38;5;129;01min\u001b[39;00m as_completed(futures):\n",
      "\u001b[1;31mNameError\u001b[0m: name 'ThreadPoolExecutor' is not defined"
     ]
    }
   ],
   "source": [
    "url = 'http://157.82.223.35/webapi/GetNearestRoadPoint'\n",
    "\n",
    "data = {\n",
    "    'UnitTypeCode': '2',\n",
    "    'PosLongitude': '139.8732',\n",
    "    'PosLatitude': '36.0484',\n",
    "    'RoadKindCode': '',\n",
    "    'RoadNo': '',\n",
    "}\n",
    "num_threads = 10  # Number of concurrent threads\n",
    "\n",
    "start_time = datetime.datetime.now()\n",
    "\n",
    "with ThreadPoolExecutor(max_workers=num_threads) as executor:\n",
    "    futures = [executor.submit(call_api, url, headers, data) for _ in range(num_threads)]\n",
    "\n",
    "    for future in as_completed(futures):\n",
    "        result = future.result()\n",
    "        # Handle the result if needed\n",
    "\n",
    "end_time = datetime.datetime.now()\n",
    "print(\"Total execution time: \", end_time - start_time)"
   ]
  },
  {
   "cell_type": "code",
   "execution_count": 32,
   "id": "6f8ef3c8-940e-4f71-861d-34282275211f",
   "metadata": {},
   "outputs": [],
   "source": [
    "def call_api(url, headers, data):\n",
    "    response = requests.post(url, cookies=headers, data=data, verify=False)\n",
    "    if response.status_code == 200:\n",
    "        values = [value for s in response.text.split(',') for value in s.split('\\r\\n') if value]\n",
    "        if values[0].strip('\\r\\n') == '1':  # Assuming the first value is the status\n",
    "            return True\n",
    "    return False\n",
    "\n",
    "def single_thread_test(url, headers, data, num_requests):\n",
    "    start_time = datetime.datetime.now()\n",
    "    for _ in range(num_requests):\n",
    "        call_api(url, headers, data)\n",
    "    end_time = datetime.datetime.now()\n",
    "    return end_time - start_time\n",
    "\n",
    "def multi_thread_test(url, headers, data, num_threads):\n",
    "    start_time = datetime.datetime.now()\n",
    "    with ThreadPoolExecutor(max_workers=num_threads) as executor:\n",
    "        futures = [executor.submit(call_api, url, headers, data) for _ in range(num_threads)]\n",
    "        for future in as_completed(futures):\n",
    "            result = future.result()\n",
    "    end_time = datetime.datetime.now()\n",
    "    return end_time - start_time"
   ]
  },
  {
   "cell_type": "code",
   "execution_count": 30,
   "id": "dd762c38-2735-466a-98ac-537d50a2d83a",
   "metadata": {
    "tags": []
   },
   "outputs": [
    {
     "ename": "NameError",
     "evalue": "name 'single_thread_test' is not defined",
     "output_type": "error",
     "traceback": [
      "\u001b[1;31m---------------------------------------------------------------------------\u001b[0m",
      "\u001b[1;31mNameError\u001b[0m                                 Traceback (most recent call last)",
      "Cell \u001b[1;32mIn[30], line 14\u001b[0m\n\u001b[0;32m     11\u001b[0m num_requests \u001b[38;5;241m=\u001b[39m \u001b[38;5;241m1000\u001b[39m  \u001b[38;5;66;03m# Number of requests for single-thread test and also the number of threads for multi-thread test\u001b[39;00m\n\u001b[0;32m     13\u001b[0m \u001b[38;5;66;03m# Single-thread test\u001b[39;00m\n\u001b[1;32m---> 14\u001b[0m single_thread_duration \u001b[38;5;241m=\u001b[39m single_thread_test(url, headers, data, num_requests)\n\u001b[0;32m     15\u001b[0m \u001b[38;5;28mprint\u001b[39m(\u001b[38;5;124mf\u001b[39m\u001b[38;5;124m\"\u001b[39m\u001b[38;5;124mSingle-thread execution time: \u001b[39m\u001b[38;5;132;01m{\u001b[39;00msingle_thread_duration\u001b[38;5;132;01m}\u001b[39;00m\u001b[38;5;124m\"\u001b[39m)\n\u001b[0;32m     17\u001b[0m \u001b[38;5;66;03m# Multi-thread test\u001b[39;00m\n",
      "\u001b[1;31mNameError\u001b[0m: name 'single_thread_test' is not defined"
     ]
    }
   ],
   "source": [
    "url = 'http://157.82.223.35/webapi/GetNearestRoadPoint'\n",
    "\n",
    "data = {\n",
    "    'UnitTypeCode': '2',\n",
    "    'PosLongitude': '139.8732',\n",
    "    'PosLatitude': '36.0484',\n",
    "    'RoadKindCode': '',\n",
    "    'RoadNo': '',\n",
    "}\n",
    "\n",
    "num_requests = 1000  # Number of requests for single-thread test and also the number of threads for multi-thread test\n",
    "\n",
    "# Single-thread test\n",
    "single_thread_duration = single_thread_test(url, headers, data, num_requests)\n",
    "print(f\"Single-thread execution time: {single_thread_duration}\")\n",
    "\n",
    "# Multi-thread test\n",
    "multi_thread_duration = multi_thread_test(url, headers, data, num_requests)\n",
    "print(f\"Multi-thread execution time: {multi_thread_duration}\")"
   ]
  },
  {
   "cell_type": "code",
   "execution_count": 38,
   "id": "2fa3ee0b-7e43-4b02-b8a2-f6b0ec2d72d4",
   "metadata": {
    "tags": []
   },
   "outputs": [
    {
     "name": "stdout",
     "output_type": "stream",
     "text": [
      "Single-thread execution time: 0:00:10.715355\n",
      "Multi-thread execution time: 0:00:01.644607\n"
     ]
    }
   ],
   "source": [
    "# GetMixdRoute\n",
    "\n",
    "url = 'http://157.82.223.35/webapi/GetMixedRoute'\n",
    "\n",
    "data = {\n",
    "    'UnitTypeCode': '2',\n",
    "    'StartLongitude': '139.67734',\n",
    "    'StartLatitude': '35.66274',\n",
    "    'GoalLongitude': '139.74852',\n",
    "    'GoalLatitude': '35.66780',\n",
    "    'AppDate': '20240401',\n",
    "    'AppTime': '0845',\n",
    "    'TransportCode': '3'\n",
    "}\n",
    "\n",
    "num_requests = 30  # Number of requests for single-thread test and also the number of threads for multi-thread test\n",
    "\n",
    "# Single-thread test\n",
    "single_thread_duration = single_thread_test(url, headers, data, num_requests)\n",
    "print(f\"Single-thread execution time: {single_thread_duration}\")\n",
    "\n",
    "# Multi-thread test\n",
    "multi_thread_duration = multi_thread_test(url, headers, data, num_requests)\n",
    "print(f\"Multi-thread execution time: {multi_thread_duration}\")"
   ]
  },
  {
   "cell_type": "markdown",
   "id": "8072a151-84de-4f57-8392-dfab73c589bc",
   "metadata": {
    "tags": []
   },
   "source": [
    "## GetNearestRoadPoint"
   ]
  },
  {
   "cell_type": "code",
   "execution_count": null,
   "id": "5591c875-11b3-4816-a085-557354f81f99",
   "metadata": {
    "tags": []
   },
   "outputs": [],
   "source": [
    "starttime = datetime.datetime.now()\n",
    "\n",
    "url = 'http://localhost/webapi/GetNearestRoadPoint'\n",
    "\n",
    "data = {\n",
    "    'UnitTypeCode': '2',\n",
    "    'PosLongitude': '139.8732',\n",
    "    'PosLatitude': '36.0484',\n",
    "    'RoadKindCode': '',\n",
    "    'RoadNo': '',\n",
    "}\n",
    "\n",
    "response = requests.post(url, cookies=headers, data=data)\n",
    "\n",
    "if response.status_code == 200:\n",
    "    status, roadtype, roadid, meshcode, lon, lat = [value for s in response.text.split(',') for value in s.split('\\r\\n') if value]\n",
    "    if status.strip('\\r\\n') == '1':\n",
    "        print(\"NearestRoadPoint Detected\")\n",
    "        print(\"Status:{}, RoadType: {}, RoadID: {}, MeshCode: {}, Longitude: {}, Latitude: {}\".format(status, roadtype, roadid, meshcode, lon, lat))\n",
    "else:\n",
    "    print('Failed to post data:', response.status_code)\n",
    "    \n",
    "endtime = datetime.datetime.now()\n",
    "print(\"Get Nearest Road Point time:\", endtime-starttime)"
   ]
  },
  {
   "cell_type": "code",
   "execution_count": null,
   "id": "9a9d21fd-603c-41ef-8efa-8f70062fdd93",
   "metadata": {
    "tags": []
   },
   "outputs": [],
   "source": [
    "starttime = datetime.datetime.now()\n",
    "\n",
    "url = 'http://localhost/webapi/GetMixedRoute'\n",
    "\n",
    "data = {\n",
    "    'UnitTypeCode': '2',\n",
    "    'StartLongitude': '139.67737',\n",
    "    'StartLatitude': '35.66446',\n",
    "    'GoalLongitude': '139.70264',\n",
    "    'GoalLatitude': '35.65843',\n",
    "    'TransportCode': '2',\n",
    "    'AppDate': '20240526',\n",
    "    'AppTime': '1230'\n",
    "}\n",
    "\n",
    "response = requests.post(url, cookies=headers, data=data, verify=False)\n",
    "\n",
    "if response.status_code == 200:\n",
    "    print(response.text)"
   ]
  },
  {
   "cell_type": "code",
   "execution_count": null,
   "id": "e7320ad4-5024-4b22-a242-14958ede529d",
   "metadata": {},
   "outputs": [],
   "source": [
    "response.text"
   ]
  },
  {
   "cell_type": "markdown",
   "id": "8e4da8f8-00fe-4d10-9266-00bf900f5d5a",
   "metadata": {
    "jp-MarkdownHeadingCollapsed": true,
    "tags": []
   },
   "source": [
    "### Speed test"
   ]
  },
  {
   "cell_type": "code",
   "execution_count": null,
   "id": "1f0e8900-2265-4190-a211-509a86616a00",
   "metadata": {},
   "outputs": [],
   "source": [
    "def random_coordinates():\n",
    "    \"\"\"Generate random latitude and longitude within Japan's bounding box.\"\"\"\n",
    "    # Japan's approximate bounding box\n",
    "    min_lat, max_lat = 34.5, 36.0  # North latitude\n",
    "    min_lon, max_lon = 138.0, 140.0  # East longitude\n",
    "    lat = random.uniform(min_lat, max_lat)\n",
    "    lon = random.uniform(min_lon, max_lon)\n",
    "    return lat, lon\n",
    "\n",
    "starttime = datetime.datetime.now()\n",
    "\n",
    "url = 'http://157.82.223.35/webapi/GetNearestRoadPoint'\n",
    "\n",
    "for _ in range(100):\n",
    "\n",
    "    lat, lon = random_coordinates()\n",
    "    \n",
    "    data = {\n",
    "        'UnitTypeCode': '2',\n",
    "        'PosLongitude': str(lon),\n",
    "        'PosLatitude': str(lat),\n",
    "        'RoadKindCode': '',\n",
    "        'RoadNo': '',\n",
    "    }\n",
    "\n",
    "    response = requests.post(url, cookies=headers, data=data, verify=False)\n",
    "\n",
    "    if response.status_code == 200:\n",
    "        # Split the response by ',' and then each item by '\\r\\n', filtering out empty values\n",
    "        response_values = [value for s in response.text.split(',') for value in s.split('\\r\\n') if value]\n",
    "    \n",
    "        # Check if the response contains the expected number of values\n",
    "    else:\n",
    "        print('Failed to post data:', response.status_code)\n",
    "\n",
    "endtime = datetime.datetime.now()\n",
    "print(\"Get Nearest Road Point with 10000 times in:\", endtime-starttime)"
   ]
  },
  {
   "cell_type": "markdown",
   "id": "66e31b26-2ba4-4f4c-a486-59cd298992ed",
   "metadata": {
    "tags": []
   },
   "source": [
    "## GetRoadRoute"
   ]
  },
  {
   "cell_type": "code",
   "execution_count": 28,
   "id": "43ba8e59-a718-4e70-bbe0-98c35004f1b3",
   "metadata": {
    "collapsed": true,
    "jupyter": {
     "outputs_hidden": true
    },
    "tags": []
   },
   "outputs": [
    {
     "name": "stdout",
     "output_type": "stream",
     "text": [
      "{\n",
      "\"type\": \"FeatureCollection\",\n",
      "\"status\": 1,\n",
      "\"num_route\": 1,\n",
      "\"features\": [\n",
      "{\"type\": \"Feature\", \n",
      "\"properties\": {\n",
      "\"id\": 1,\n",
      "\"length\": 132807.0,\n",
      "\"num_point\": 498,\n",
      "\"required_time\": 137.6,\n",
      "\"fare\": 1620\n",
      "}, \n",
      "\"geometry\": {\n",
      "\"type\": \"LineString\", \n",
      "\"coordinates\": [\n",
      "[139.67732500,35.66412900],[139.67632500,35.66407900],[139.67566200,35.66404500],[139.67512500,35.66406200],[139.67486200,35.66416200],[139.67462500,35.66432000],[139.67440000,35.66459500],[139.67425000,35.66484500],[139.67416200,35.66502000],[139.67398700,35.66532900],[139.67391200,35.66545400],[139.67378700,35.66565400],[139.67362500,35.66601200],[139.67352500,35.66627800],[139.67336200,35.66663700],[139.67335000,35.66667000],[139.67323700,35.66688700],[139.67318700,35.66701200],[139.67311200,35.66723700],[139.67307500,35.66744500],[139.67302500,35.66769500],[139.67298700,35.66784500],[139.67296200,35.66792000],[139.67286200,35.66846200],[139.67272500,35.66846200],[139.67233700,35.66847800],[139.67156300,35.66852800],[139.67045000,35.66857000],[139.66947500,35.66868600],[139.66905000,35.66872000],[139.66850000,35.66875300],[139.66800000,35.66878600],[139.66761300,35.66880300],[139.66681300,35.66882800],[139.66611300,35.66885300],[139.66557600,35.66887000],[139.66525100,35.66888600],[139.66507600,35.66889500],[139.66425100,35.66888600],[139.66328800,35.66891100],[139.66202600,35.66897000],[139.66147600,35.66899500],[139.66136300,35.66907800],[139.66145100,35.66952800],[139.66151300,35.66990300],[139.66151300,35.66990300],[139.66152600,35.67037800],[139.66151300,35.67049400],[139.66136300,35.67096100],[139.66112600,35.67136100],[139.66095100,35.67170300],[139.66085100,35.67207700],[139.66075100,35.67230200],[139.66072600,35.67233600],[139.66067600,35.67243600],[139.66057600,35.67265200],[139.66035100,35.67308600],[139.66023800,35.67327700],[139.66006300,35.67361900],[139.65997600,35.67376900],[139.65976300,35.67399400],[139.65942600,35.67469400],[139.65892600,35.67571000],[139.65880100,35.67595200],[139.65857600,35.67639400],[139.65828800,35.67696900],[139.65815100,35.67721900],[139.65801300,35.67748500],[139.65768800,35.67810200],[139.65747600,35.67853500],[139.65723800,35.67900200],[139.65703800,35.67991000],[139.65697600,35.68066800],[139.65688800,35.68146800],[139.65671300,35.68349300],[139.65643800,35.68522600],[139.65633800,35.68550100],[139.65618800,35.68589200],[139.65602600,35.68630100],[139.65581300,35.68684200],[139.65560100,35.68740900],[139.65548800,35.68771700],[139.65516300,35.68855900],[139.65498800,35.68901700],[139.65488800,35.68955900],[139.65476300,35.69020900],[139.65471300,35.69059200],[139.65466300,35.69096700],[139.65452600,35.69175800],[139.65433800,35.69270000],[139.65426300,35.69303300],[139.65418800,35.69351600],[139.65418800,35.69429100],[139.65426300,35.69577400],[139.65432500,35.69648300],[139.65452500,35.69772400],[139.65455000,35.69801600],[139.65456300,35.69827400],[139.65456300,35.69870700],[139.65460000,35.69959100],[139.65460000,35.70024900],[139.65466300,35.70061600],[139.65468800,35.70138200],[139.65470000,35.70204000],[139.65472500,35.70244900],[139.65472500,35.70275700],[139.65473800,35.70332400],[139.65472500,35.70387400],[139.65467500,35.70486500],[139.65462500,35.70526500],[139.65461300,35.70536500],[139.65457500,35.70558200],[139.65446300,35.70632300],[139.65442500,35.70659800],[139.65437500,35.70707300],[139.65433700,35.70739800],[139.65433700,35.70749800],[139.65428700,35.70784000],[139.65418700,35.70859800],[139.65416200,35.70885600],[139.65413700,35.70910600],[139.65412500,35.70915600],[139.65407500,35.70954800],[139.65406200,35.70969000],[139.65405000,35.70983900],[139.65395000,35.71074800],[139.65388700,35.71152300],[139.65387500,35.71170600],[139.65385000,35.71197300],[139.65371200,35.71304700],[139.65366200,35.71358100],[139.65365000,35.71422200],[139.65365000,35.71458100],[139.65365000,35.71573000],[139.65366200,35.71623900],[139.65366200,35.71663900],[139.65366200,35.71686400],[139.65367500,35.71720500],[139.65373700,35.71738000],[139.65376200,35.72053800],[139.65368700,35.72115500],[139.65369900,35.72166300],[139.65374900,35.72181300],[139.65376200,35.72283000],[139.65381200,35.72516300],[139.65382400,35.72539600],[139.65383700,35.72558800],[139.65383700,35.72563800],[139.65388700,35.72621300],[139.65391200,35.72637900],[139.65387400,35.72646300],[139.65384900,35.72664600],[139.65394900,35.72712900],[139.65394900,35.72760400],[139.65403700,35.72830400],[139.65409900,35.72882100],[139.65414900,35.72926200],[139.65427400,35.73023700],[139.65439900,35.73125400],[139.65453600,35.73233700],[139.65459900,35.73292000],[139.65467400,35.73348700],[139.65472400,35.73385400],[139.65482400,35.73477000],[139.65491100,35.73535300],[139.65379900,35.73542800],[139.65361100,35.73546200],[139.65267400,35.73576200],[139.65186100,35.73610300],[139.65118700,35.73639500],[139.65058700,35.73662800],[139.65001200,35.73687800],[139.64972400,35.73698600],[139.64908700,35.73714500],[139.64852400,35.73728600],[139.64812400,35.73735300],[139.64737400,35.73735300],[139.64607400,35.73735300],[139.64497400,35.73754500],[139.64412500,35.73792800],[139.64281200,35.73839400],[139.64238700,35.73852800],[139.64180000,35.73869400],[139.64093700,35.73899400],[139.64010000,35.73929400],[139.63948700,35.73951900],[139.63837500,35.73991900],[139.63785000,35.74016100],[139.63758700,35.74029400],[139.63663800,35.74073600],[139.63602500,35.74102700],[139.63557500,35.74126100],[139.63497500,35.74153500],[139.63413800,35.74200200],[139.63365000,35.74225200],[139.63306300,35.74253500],[139.63261300,35.74276900],[139.63231300,35.74291000],[139.63163800,35.74328500],[139.63040000,35.74392700],[139.62986300,35.74421000],[139.62925100,35.74453500],[139.62892600,35.74470200],[139.62871300,35.74482700],[139.62841300,35.74498500],[139.62830100,35.74503500],[139.62806300,35.74516000],[139.62750100,35.74545200],[139.62662600,35.74591800],[139.62568800,35.74641000],[139.62500100,35.74676800],[139.62423800,35.74715100],[139.62368800,35.74744300],[139.62207600,35.74830100],[139.62181300,35.74843400],[139.62177600,35.74845100],[139.62177600,35.74845100],[139.62172600,35.74848400],[139.62005100,35.74906800],[139.61873900,35.74919300],[139.61842600,35.74915900],[139.61808900,35.74918400],[139.61737600,35.74923400],[139.61645100,35.74930100],[139.61550100,35.74940100],[139.61517600,35.74942600],[139.61315200,35.74975900],[139.61265200,35.75000100],[139.61132700,35.75112500],[139.61093900,35.75145000],[139.61080200,35.75158400],[139.61052700,35.75184200],[139.61025200,35.75211700],[139.60943900,35.75286700],[139.60906400,35.75322500],[139.60906400,35.75322500],[139.60848900,35.75375800],[139.60765200,35.75438300],[139.59844000,35.75892400],[139.59779000,35.75946600],[139.59461500,35.76159000],[139.57458000,35.76682200],[139.54266900,35.79561800],[139.53638200,35.80269200],[139.53288200,35.80562500],[139.53044500,35.80821600],[139.53008200,35.80866600],[139.51973300,35.82134800],[139.50650800,35.83333700],[139.50475800,35.83654500],[139.50475800,35.83654500],[139.50413300,35.83815300],[139.50322100,35.84180300],[139.50288300,35.84384400],[139.50170800,35.84892700],[139.49999600,35.85250100],[139.49678300,35.85649300],[139.49678300,35.85649300],[139.48970800,35.86165000],[139.46032200,35.89175400],[139.45884700,35.89366200],[139.45809700,35.89476200],[139.42163800,35.91666600],[139.41647600,35.91986500],[139.41647600,35.91986500],[139.41345200,35.92264000],[139.40879000,35.92909700],[139.40725300,35.93207100],[139.40559100,35.93557800],[139.40090400,35.94359300],[139.39849200,35.94608500],[139.39791700,35.94658500],[139.38860600,35.95218400],[139.38047000,35.96394900],[139.38032000,35.96633200],[139.38027000,35.96744000],[139.38041900,35.98177100],[139.38139400,35.98431300],[139.38468100,35.99068700],[139.38791800,36.00000200],[139.38786700,36.00318500],[139.38786700,36.00318500],[139.38191700,36.02363300],[139.38145400,36.02692400],[139.38131700,36.02757400],[139.37499200,36.03781500],[139.37251700,36.03960600],[139.37179200,36.04005600],[139.37179200,36.04005600],[139.34268100,36.05070500],[139.34030600,36.05292100],[139.33505600,36.05582100],[139.31513200,36.06731900],[139.31267000,36.06789400],[139.31052000,36.06860200],[139.29602100,36.08333400],[139.29444600,36.08447500],[139.29124600,36.08650800],[139.29124600,36.08650800],[139.29089600,36.08674100],[139.29032100,36.08715800],[139.28929600,36.08800000],[139.28582100,36.09249900],[139.27637100,36.10626200],[139.27170900,36.11038700],[139.26111000,36.11709400],[139.25407200,36.12104300],[139.25099800,36.12281800],[139.24999800,36.12325100],[139.24968500,36.12337600],[139.24726000,36.12302600],[139.24679800,36.12281800],[139.24679800,36.12281800],[139.24613500,36.12259300],[139.24276100,36.12275100],[139.24051100,36.12211800],[139.23772400,36.12136000],[139.23484900,36.12076800],[139.23289900,36.12061000],[139.23021200,36.12069300],[139.22746200,36.12095100],[139.22683700,36.12100100],[139.22654900,36.12102600],[139.22607400,36.12106800],[139.22568700,36.12110100],[139.22475000,36.12118500],[139.22297500,36.12135900],[139.22145000,36.12149300],[139.21990000,36.12164300],[139.21798800,36.12181800],[139.21696300,36.12190100],[139.21681300,36.12190900],[139.21373800,36.12215100],[139.21225100,36.12207600],[139.20867600,36.12187500],[139.20750100,36.12239200],[139.20608800,36.12317500],[139.20563900,36.12343400],[139.20512600,36.12372500],[139.20481400,36.12390800],[139.20150100,36.12580800],[139.19996400,36.12565800],[139.19958900,36.12546700],[139.19830200,36.12480800],[139.19658900,36.12391700],[139.19622700,36.12372500],[139.19504000,36.12310900],[139.19449000,36.12284200],[139.19382700,36.12249200],[139.19301500,36.12207500],[139.19202700,36.12160000],[139.19100300,36.12115900],[139.18959000,36.12069200],[139.18860300,36.12044200],[139.18704100,36.12019200],[139.18394100,36.12005100],[139.17897900,36.11971700],[139.17580400,36.11912600],[139.17526700,36.11910900],[139.17003000,36.11460100],[139.16921800,36.11211000],[139.16826800,36.11007700],[139.16785600,36.10961900],[139.15150800,36.10296900],[139.15128300,36.10280200],[139.15043300,36.10213600],[139.15008300,36.10184400],[139.14975800,36.10157700],[139.13969700,36.09038700],[139.13642200,36.08650400],[139.13642200,36.08650400],[139.13361000,36.08333800],[139.13013600,36.07860500],[139.12681100,36.07656400],[139.12499900,36.07627200],[139.12181200,36.07573000],[139.12181200,36.07573000],[139.11853700,36.07490600],[139.11811200,36.07473100],[139.11583800,36.07426400],[139.11562500,36.07423900],[139.11333800,36.07363100],[139.11326300,36.07359700],[139.10122700,36.06396500],[139.10024000,36.06365700],[139.09390300,36.06045800],[139.08949100,36.05573300],[139.08915400,36.05445000],[139.07523100,36.03686100],[139.07499400,36.03648600],[139.07401900,36.03443600],[139.07042000,36.02622800],[139.06959500,36.02491200],[139.06482100,36.01993700],[139.05576000,36.01387100],[139.05096000,36.00837900],[139.05033500,36.00847100],[139.04812300,36.00846300],[139.04276100,36.01043700],[139.04267300,36.01057100],[139.04184800,36.01233700],[139.03748600,36.01387000],[139.03718600,36.01392900],[139.03697400,36.01397900],[139.03498600,36.01464500],[139.03478600,36.01469500],[139.03422400,36.01458700],[139.03293600,36.01419500],[139.03121200,36.01371200],[139.03008700,36.01332900],[139.02923700,36.01272100],[139.02772400,36.01235400],[139.02636200,36.01214600],[139.02327500,36.01257900],[139.02286200,36.01269600],[139.02223700,36.01297900],[139.02212500,36.01302100],[139.02118700,36.01346200],[139.02032500,36.01460400],[139.02018700,36.01476200],[139.01878800,36.01566200],[139.01815000,36.01598700],[139.01547500,36.01737900],[139.01326300,36.01852900],[139.01212600,36.01910300],[139.00982600,36.02030300],[139.00751400,36.02151100],[139.00647600,36.02203600],[139.00387600,36.02322800],[139.00322600,36.02349500],[139.00230200,36.02386900],[139.00060200,36.02457800],[139.00000200,36.02481900],[138.99800200,36.02562800],[138.99682700,36.02611900],[138.99682700,36.02611900],[138.99554000,36.02666100],[138.99376500,36.02745200],[138.99322700,36.02770200],[138.99117700,36.02862700],[138.99077800,36.02879400],[138.99067800,36.02883500],[138.99027800,36.02903500],[138.98979000,36.02925200],[138.98885300,36.02972700],[138.98839000,36.02994400],[138.98820300,36.03002700],[138.98572800,36.03115200],[138.98479100,36.03102700],[138.98426600,36.03082700],[138.98395300,36.03068500],[138.98374100,36.03057700],[138.98347800,36.03046900],[138.98270300,36.03026000],[138.97859100,36.02989400],[138.97766600,36.02989400],[138.97676600,36.02992700],[138.97632900,36.02984400],[138.97610400,36.02976900],[138.97505400,36.02942700],[138.97427900,36.02920200],[138.97309200,36.02885200],[138.97217900,36.02856900],[138.97171700,36.02842700],[138.97144200,36.02831900],[138.97122900,36.02817700],[138.97083000,36.02767700],[138.97019200,36.02685200],[138.96514300,36.02439400],[138.95245700,36.02576900],[138.95111900,36.02646000],[138.94467000,36.02804300],[138.94165800,36.02833500],[138.94048300,36.02954300],[138.94029600,36.02975100],[138.93767100,36.03243400],[138.93583400,36.03389200],[138.93544600,36.03391700],[138.93264600,36.03390900],[138.93078400,36.03340900],[138.92777200,36.03306700],[138.92728500,36.03343400],[138.91787300,36.03634100],[138.88661300,36.04875500],[138.87500200,36.05150500],[138.87184000,36.05231300],[138.87184000,36.05231300],[138.85999100,36.05495400],[138.85986600,36.05512800],[138.85839100,36.05657000],[138.85775400,36.05684500],[138.86007800,36.06175200],[138.84530500,36.05894400],[138.82903300,36.03708000],[138.81358400,36.02522200],[138.81413400,36.02526400],[138.81079700,36.01908100],[138.80959700,36.01816500]\n",
      "]\n",
      "}\n",
      "}\n",
      "]\n",
      "}\n",
      "\n",
      "NearestRoadPoint Detected\n",
      "Get Nearest Road Point time: 0:00:05.553420\n"
     ]
    }
   ],
   "source": [
    "starttime = datetime.datetime.now()\n",
    "\n",
    "url = 'https://157.82.223.35/webapi/GetRoadRoute'\n",
    "\n",
    "data = {\n",
    "    'UnitTypeCode': '2',\n",
    "    'StartLongitude': 139.67727019,\n",
    "    'StartLatitude': 35.66412606,\n",
    "    'GoalLongitude': 138.808493,\n",
    "    'GoalLatitude': 36.017459,\n",
    "    'WayLongitude': '',\n",
    "    'WayLatitude': '',\n",
    "    'RoadKindCode': '',\n",
    "    'RoadNo': '',\n",
    "    'TransportCode': '6',\n",
    "    'OutputNum': '1',\n",
    "}\n",
    "\n",
    "response = requests.post(url, cookies=headers, data=data, verify=False)\n",
    "\n",
    "if response.status_code == 200:\n",
    "    print(response.text)\n",
    "    # print([value.strip() for s in response.text.split(',') for value in s.split('\\n') if value.strip()])\n",
    "    split_values = [value.strip() for s in response.text.split(',') for value in s.split('\\n') if value.strip()]\n",
    "    route_values = split_values[11:]\n",
    "\n",
    "    routes = []\n",
    "    current_route = None\n",
    "    current_coordinates = []\n",
    "\n",
    "    for value in route_values:\n",
    "        if value.isdigit(): \n",
    "            if current_route is not None:\n",
    "                routes.append((current_route, current_coordinates))\n",
    "            current_route = value\n",
    "            current_coordinates = []\n",
    "        else:\n",
    "            current_coordinates.append(value)\n",
    "    if current_route is not None:\n",
    "        routes.append((current_route, current_coordinates))\n",
    "\n",
    "    # print('route:', routes)\n",
    "    # status, routeno, route1_len,route2_len,route3_len, route1_no, route2_no, route3_no, route1_time, route2_time, route3_time, out_route_no, lon, lat = [value.strip() for s in response.text.split(',') for value in s.split('\\n') if value.strip()]\n",
    "\n",
    "    if status.strip('\\r\\n') == '1':\n",
    "        print(\"NearestRoadPoint Detected\")\n",
    "        # print(\"Status:{}, RoadType: {}, RoadID: {}, MeshCode: {}, Longitude: {}, Latitude: {}\".format(status, roadtype, roadid, meshcode, lon, lat))\n",
    "else:\n",
    "    print('Failed to post data:', response.status_code)\n",
    "    \n",
    "endtime = datetime.datetime.now()\n",
    "print(\"Get Nearest Road Point time:\", endtime-starttime)"
   ]
  },
  {
   "cell_type": "code",
   "execution_count": null,
   "id": "d672be20-d2ae-4396-8caf-aa09d454d584",
   "metadata": {
    "tags": []
   },
   "outputs": [],
   "source": [
    "import folium\n",
    "\n",
    "route_data = {}\n",
    "for route, coord_pair in routes:\n",
    "    if route not in route_data:\n",
    "        route_data[route] = []\n",
    "    route_data[route].append(tuple(map(float, coord_pair)))\n",
    "\n",
    "\n",
    "first_coord = route_data['1'][0]  \n",
    "map_center = [float(first_coord[1]), float(first_coord[0])]  \n",
    "routesmap = folium.Map(location=map_center, zoom_start=14)\n",
    "\n",
    "\n",
    "for route, coords in route_data.items():\n",
    "    for coord in coords:\n",
    "        folium.Marker([float(coord[1]), float(coord[0])], tooltip=f\"Route {route}\").add_to(routesmap)\n",
    "routesmap"
   ]
  },
  {
   "cell_type": "code",
   "execution_count": null,
   "id": "aef6fba6-ce53-435c-9550-1972ffb6b788",
   "metadata": {},
   "outputs": [],
   "source": [
    "# Loop 10,000 times\n",
    "for _ in range(10000):\n",
    "    \n",
    "    orilat, orilon = random_coordinates()\n",
    "    destlat, destlon = random_coordinates()\n",
    "    \n",
    "    data = {\n",
    "        'UnitTypeCode': '2',\n",
    "        'StartLongitude': str(orilon),\n",
    "        'StartLatitude': str(orilat),\n",
    "        'GoalLongitude': str(destlon),\n",
    "        'GoalLatitude': str(destlon),\n",
    "        'WayLongitude': '',\n",
    "        'WayLatitude': '',\n",
    "        'RoadKindCode': '',\n",
    "        'RoadNo': '',\n",
    "        'TransportCode': '6',\n",
    "        'OutputNum': '1',\n",
    "    }\n",
    "\n",
    "    response = requests.post(url, cookies=headers, data=data)\n",
    "\n",
    "    if response.status_code == 200:\n",
    "        # Assuming response.text contains comma-separated values with newline-separated route details\n",
    "        split_values = [value.strip() for s in response.text.split(',') for value in s.split('\\n') if value.strip()]\n",
    "        route_values = split_values[11:]  # Adjust index based on actual response structure\n",
    "\n",
    "        routes = []\n",
    "        current_route = None\n",
    "        current_coordinates = []\n",
    "\n",
    "        for value in route_values:\n",
    "            if value.isdigit():\n",
    "                if current_route is not None:\n",
    "                    routes.append((current_route, current_coordinates))\n",
    "                current_route = value\n",
    "                current_coordinates = []\n",
    "            else:\n",
    "                current_coordinates.append(value)\n",
    "\n",
    "        if current_route is not None:\n",
    "            routes.append((current_route, current_coordinates))\n",
    "\n",
    "        # Optional: Print routes or handle them as needed\n",
    "        # print('route:', routes)\n",
    "    else:\n",
    "        print('Failed to post data:', response.status_code)\n",
    "\n",
    "# Calculate and print the total time taken after the loop completes\n",
    "endtime = datetime.datetime.now()\n",
    "print(\"Total time for 10,000 requests:\", endtime - starttime)"
   ]
  },
  {
   "cell_type": "markdown",
   "id": "61651f99-3458-44f3-8500-b65ea324a24a",
   "metadata": {
    "jp-MarkdownHeadingCollapsed": true,
    "tags": []
   },
   "source": [
    "## GetRailRoute"
   ]
  },
  {
   "cell_type": "code",
   "execution_count": null,
   "id": "3f01cdbc-5c97-47d2-bd7e-daedf3c6bab1",
   "metadata": {
    "tags": []
   },
   "outputs": [],
   "source": [
    "starttime = datetime.datetime.now()\n",
    "\n",
    "url = 'https://157.82.223.35/webapi/GetRailRoute'\n",
    "\n",
    "data = {\n",
    "    'UnitTypeCode': '2',\n",
    "    'GeoOptionCode': '2',\n",
    "    # 'StartStation': '',\n",
    "    # 'GoalStation': '',\n",
    "    # 'WayStation': '',\n",
    "    'StartLongitude': '139.68442655057348',\n",
    "    'StartLatitude': '35.65867888608949',\n",
    "    'GoalLongitude': '139.73947263836726',\n",
    "    'GoalLatitude': '35.638819642998044',\n",
    "    'WayLongitude': '',\n",
    "    'WayLatitude': '',\n",
    "    'RoadKindCode': '',\n",
    "    'AppDate': '20231124',\n",
    "    'AppTime': '1645',\n",
    "    'StartGoalType': '1',\n",
    "}\n",
    "\n",
    "response = requests.post(url, cookies=headers, data=data, verify=False)\n",
    "\n",
    "if response.status_code == 200:\n",
    "    print(response.text)\n",
    "    print([value.strip() for s in response.text.split(',') for value in s.split('\\n') if value.strip()])\n",
    "    split_values = [value.strip() for s in response.text.split(',') for value in s.split('\\n') if value.strip()]\n",
    "    route_values = split_values[11:]\n",
    "\n",
    "    routes = []\n",
    "    current_route = None\n",
    "    current_coordinates = []\n",
    "\n",
    "    for value in route_values:\n",
    "        if value.isdigit(): \n",
    "            if current_route is not None:\n",
    "                routes.append((current_route, current_coordinates))\n",
    "            current_route = value\n",
    "            current_coordinates = []\n",
    "        else:\n",
    "            current_coordinates.append(value)\n",
    "    if current_route is not None:\n",
    "        routes.append((current_route, current_coordinates))\n",
    "\n",
    "    print('route:', routes)\n",
    "    # status, routeno, route1_len,route2_len,route3_len, route1_no, route2_no, route3_no, route1_time, route2_time, route3_time, out_route_no, lon, lat = [value.strip() for s in response.text.split(',') for value in s.split('\\n') if value.strip()]\n",
    "\n",
    "    if status.strip('\\r\\n') == '1':\n",
    "        print(\"NearestRoadPoint Detected\")\n",
    "        # print(\"Status:{}, RoadType: {}, RoadID: {}, MeshCode: {}, Longitude: {}, Latitude: {}\".format(status, roadtype, roadid, meshcode, lon, lat))\n",
    "else:\n",
    "    print('Failed to post data:', response.status_code)\n",
    "    \n",
    "endtime = datetime.datetime.now()\n",
    "print(\"Get Nearest Road Point time:\", endtime-starttime)"
   ]
  },
  {
   "cell_type": "code",
   "execution_count": null,
   "id": "e9b4d67b-9c2e-4b97-bbc1-60d7970e0803",
   "metadata": {},
   "outputs": [],
   "source": [
    "import requests\n",
    "import datetime\n",
    "\n",
    "# Initialize the start time\n",
    "starttime = datetime.datetime.now()\n",
    "\n",
    "url = 'http://157.82.223.35/webapi/GetRoadRoute'\n",
    "\n",
    "# Headers or cookies should be defined if you're using them\n",
    "headers = {}  # Define your headers or cookies here\n",
    "\n",
    "# Loop 10,000 times\n",
    "for _ in range(10000):\n",
    "    data = {\n",
    "        'UnitTypeCode': '2',\n",
    "        'StartLongitude': '139.67727019',\n",
    "        'StartLatitude': '35.66412606',\n",
    "        'GoalLongitude': '138.808493',\n",
    "        'GoalLatitude': '36.017459',\n",
    "        'WayLongitude': '',\n",
    "        'WayLatitude': '',\n",
    "        'RoadKindCode': '',\n",
    "        'RoadNo': '',\n",
    "        'TransportCode': '6',\n",
    "        'OutputNum': '1',\n",
    "    }\n",
    "\n",
    "    response = requests.post(url, cookies=headers, data=data)\n",
    "\n",
    "    if response.status_code == 200:\n",
    "        # Assuming response.text contains comma-separated values with newline-separated route details\n",
    "        split_values = [value.strip() for s in response.text.split(',') for value in s.split('\\n') if value.strip()]\n",
    "        route_values = split_values[11:]  # Adjust index based on actual response structure\n",
    "\n",
    "        routes = []\n",
    "        current_route = None\n",
    "        current_coordinates = []\n",
    "\n",
    "        for value in route_values:\n",
    "            if value.isdigit():\n",
    "                if current_route is not None:\n",
    "                    routes.append((current_route, current_coordinates))\n",
    "                current_route = value\n",
    "                current_coordinates = []\n",
    "            else:\n",
    "                current_coordinates.append(value)\n",
    "\n",
    "        if current_route is not None:\n",
    "            routes.append((current_route, current_coordinates))\n",
    "\n",
    "        # Optional: Print routes or handle them as needed\n",
    "        # print('route:', routes)\n",
    "    else:\n",
    "        print('Failed to post data:', response.status_code)\n",
    "\n",
    "# Calculate and print the total time taken after the loop completes\n",
    "endtime = datetime.datetime.now()\n",
    "print(\"Total time for 10,000 requests:\", endtime - starttime)\n"
   ]
  },
  {
   "cell_type": "markdown",
   "id": "9a98ef56-0a0f-4756-9895-7527e38aa33f",
   "metadata": {
    "jp-MarkdownHeadingCollapsed": true,
    "tags": []
   },
   "source": [
    "## GeoJSON Check"
   ]
  },
  {
   "cell_type": "code",
   "execution_count": null,
   "id": "c5b2fb10-0890-4bce-8688-77e3132bae68",
   "metadata": {},
   "outputs": [],
   "source": []
  },
  {
   "cell_type": "code",
   "execution_count": null,
   "id": "92fd1539-576e-4454-8815-14295e4b75f6",
   "metadata": {},
   "outputs": [],
   "source": [
    "import geojson"
   ]
  },
  {
   "cell_type": "code",
   "execution_count": null,
   "id": "a3b8b35e-6c4b-4847-b3da-68244314deae",
   "metadata": {},
   "outputs": [],
   "source": [
    "path = '/Users/pang/Documents/9. CSIS関連/WebAPI開発/GetMixedRoute.geojson'\n",
    "\n",
    "gdf = gpd.read_file(path)\n",
    "gdf"
   ]
  },
  {
   "cell_type": "code",
   "execution_count": null,
   "id": "8efeb443-2332-463e-b84b-45e165911457",
   "metadata": {},
   "outputs": [],
   "source": [
    "with open(path) as f:\n",
    "    gj = geojson.load(f)\n",
    "features = gj['features']\n",
    "features"
   ]
  },
  {
   "cell_type": "code",
   "execution_count": null,
   "id": "4c9cde34-a0b7-43d0-9260-7e3e67a7ae9b",
   "metadata": {},
   "outputs": [],
   "source": [
    "gj[\"status\"]"
   ]
  },
  {
   "cell_type": "code",
   "execution_count": null,
   "id": "84606f47-90cc-4666-9c3b-4f80b5634348",
   "metadata": {
    "tags": []
   },
   "outputs": [],
   "source": [
    "map_center = gdf.geometry.iloc[0].centroid.coords[:][0][::-1]  # Using the centroid of the first geometry for centering\n",
    "mymap = folium.Map(location=map_center, zoom_start=12)\n",
    "\n",
    "# Add each line in the GeoDataFrame to the map\n",
    "for idx, row in gdf.iterrows():\n",
    "    # Simplify geometry for faster rendering\n",
    "    # simplified_geometry = row.geometry.simplify(tolerance=0.001, preserve_topology=True)\n",
    "    folium.GeoJson(row.geometry, name='geojson').add_to(mymap)\n",
    "\n",
    "mymap"
   ]
  },
  {
   "cell_type": "code",
   "execution_count": null,
   "id": "69fc349b-983c-411a-8317-742abdc1959f",
   "metadata": {},
   "outputs": [],
   "source": [
    "url = 'https://157.82.223.35/webapi/GetBusRoute'\n",
    "\n",
    "data = {\n",
    "    'UnitTypeCode': '2',\n",
    "    'StartLongitude': '139.67729225768124',\n",
    "    'StartLatitude': '35.66361199679843',\n",
    "    'GoalLongitude': '139.93601366419756', \n",
    "    'GoalLatitude': '35.90455222566497',\n",
    "    'TransportCode': '2',\n",
    "    'AppDate': '20231124',\n",
    "    'AppTime': '1645',\n",
    "    'StartGoalType': '1',\n",
    "}\n",
    "\n",
    "response = requests.post(url, cookies=headers, data=data, verify=False)\n",
    "\n",
    "if response.status_code == 200:\n",
    "    print('Mixed Route Search successfully')\n",
    "    print(response.text)\n",
    "else:\n",
    "    print('Failed to post data:', response.status_code)"
   ]
  },
  {
   "cell_type": "code",
   "execution_count": null,
   "id": "2d0539a4-ead9-4927-884e-2ce8fbaa0ed2",
   "metadata": {
    "tags": []
   },
   "outputs": [],
   "source": [
    "url = 'https://157.82.223.35/webapi/GetRoadRoute'\n",
    "\n",
    "data = {\n",
    "    'UnitTypeCode': '2',\n",
    "    'StartLongitude': '139.67729225768124',\n",
    "    'StartLatitude': '35.66361199679843',\n",
    "    'GoalLongitude': '139.93601366419756', \n",
    "    'GoalLatitude': '35.90455222566497',\n",
    "    'TransportCode': '6',\n",
    "    'AppDate': '20231124',\n",
    "    'AppTime': '1645',\n",
    "    'StartGoalType': '1',\n",
    "}\n",
    "\n",
    "response = requests.post(url, cookies=headers, data=data, verify=False)\n",
    "\n",
    "if response.status_code == 200:\n",
    "    print('Mixed Route Search successfully')\n",
    "    print(response.text)\n",
    "else:\n",
    "    print('Failed to post data:', response.status_code)"
   ]
  },
  {
   "cell_type": "code",
   "execution_count": null,
   "id": "e7a66191-ac61-4e28-a006-73af87bb6fb4",
   "metadata": {},
   "outputs": [],
   "source": [
    "!pip install geojson"
   ]
  },
  {
   "cell_type": "code",
   "execution_count": null,
   "id": "81621550-a806-4d79-82b0-ece6fc96b291",
   "metadata": {
    "tags": []
   },
   "outputs": [],
   "source": [
    "url = 'https://157.82.223.35/webapi/GetMixedRoute'\n",
    "\n",
    "data = {\n",
    "    'UnitTypeCode': '2',\n",
    "    'StartLongitude': '139.67729225768124',\n",
    "    'StartLatitude': '35.66361199679843',\n",
    "    'GoalLongitude': '139.93601366419756', \n",
    "    'GoalLatitude': '35.90455222566497',\n",
    "    'TransportCode': '3'\n",
    "}\n",
    "\n",
    "response = requests.post(url, cookies=headers, data=data, verify=False)\n",
    "\n",
    "if response.status_code == 200:\n",
    "    print('Mixed Route Search successfully')\n",
    "    print(response.text)\n",
    "else:\n",
    "    print('Failed to post data:', response.status_code)"
   ]
  },
  {
   "cell_type": "markdown",
   "id": "46514e81-30d0-47d4-a452-d9f9855de4bc",
   "metadata": {},
   "source": [
    "## Spatial Temporal Interpolation"
   ]
  },
  {
   "cell_type": "code",
   "execution_count": 26,
   "id": "34ec3d6b-18fe-41f5-843a-5f56fadcd680",
   "metadata": {
    "tags": []
   },
   "outputs": [
    {
     "name": "stdout",
     "output_type": "stream",
     "text": [
      "20103\n",
      "\n",
      "['20103']\n",
      "Get Nearest Road Point time: 0:00:00.403403\n"
     ]
    }
   ],
   "source": [
    "url = 'http://localhost/webapi/GetSTInterpolatedPoints'\n",
    "\n",
    "data = {\n",
    "    'UnitTypeCode': '1',\n",
    "    'Resolution': '60',\n",
    "    'DrStart': '20240411080000',\n",
    "    'DrEnd': '20240411083000',\n",
    "    'StartLongitude': '1396773.7',\n",
    "    'StartLatitude': '356644.6',\n",
    "    'GoalLongitude': '1397026.4',\n",
    "    'GoalLatitude': '356584.3',\n",
    "}\n",
    "\n",
    "starttime = datetime.datetime.now()\n",
    "\n",
    "response = requests.post(url, cookies=headers, data=data, verify=False)\n",
    "\n",
    "if response.status_code == 200:\n",
    "    print(response.text)\n",
    "    print([value.strip() for s in response.text.split(',') for value in s.split('\\n') if value.strip()])\n",
    "    split_values = [value.strip() for s in response.text.split(',') for value in s.split('\\n') if value.strip()]\n",
    "    route_values = split_values[11:]\n",
    "\n",
    "    routes = []\n",
    "    current_route = None\n",
    "    current_coordinates = []\n",
    "\n",
    "    for value in route_values:\n",
    "        if value.isdigit(): \n",
    "            if current_route is not None:\n",
    "                routes.append((current_route, current_coordinates))\n",
    "            current_route = value\n",
    "            current_coordinates = []\n",
    "        else:\n",
    "            current_coordinates.append(value)\n",
    "    if current_route is not None:\n",
    "        routes.append((current_route, current_coordinates))\n",
    "else:\n",
    "    print('Failed to post data:', response.status_code)\n",
    "    \n",
    "endtime = datetime.datetime.now()\n",
    "print(\"Get Nearest Road Point time:\", endtime-starttime)"
   ]
  },
  {
   "cell_type": "code",
   "execution_count": 15,
   "id": "5e70bbb7-25c7-4b03-962b-986b7d8a71c5",
   "metadata": {},
   "outputs": [
    {
     "name": "stdout",
     "output_type": "stream",
     "text": [
      "11018\n",
      "\n"
     ]
    }
   ],
   "source": [
    "url = 'http://157.82.223.35/webapi/GetMixedRoute'\n",
    "\n",
    "data = {\n",
    "    'UnitTypeCode': '2',\n",
    "    'StartLongitude': '135.11316897388113',\n",
    "    'StartLatitude': '34.64294374018417',\n",
    "    'GoalLongitude': '135.11103018583813',\n",
    "    'GoalLatitude': '34.647384075478755',\n",
    "    'AppDate': '20240401',\n",
    "    'AppTime': '1345',\n",
    "    'StartGoalType': '1'\n",
    "}\n",
    "\n",
    "response = requests.post(url, cookies=headers, data=data, verify=False)\n",
    "\n",
    "if response.status_code == 200:\n",
    "    print(response.text)"
   ]
  },
  {
   "cell_type": "markdown",
   "id": "03e386ca-ea36-48af-aaf7-74e723cba729",
   "metadata": {},
   "source": [
    "### GTFS API Test"
   ]
  },
  {
   "cell_type": "code",
   "execution_count": 4,
   "id": "accf8f7d-a6cd-40d9-9b91-cf3667d53c6f",
   "metadata": {
    "tags": []
   },
   "outputs": [
    {
     "ename": "NameError",
     "evalue": "name 'headers' is not defined",
     "output_type": "error",
     "traceback": [
      "\u001b[1;31m---------------------------------------------------------------------------\u001b[0m",
      "\u001b[1;31mNameError\u001b[0m                                 Traceback (most recent call last)",
      "Cell \u001b[1;32mIn[4], line 19\u001b[0m\n\u001b[0;32m     17\u001b[0m \u001b[38;5;28;01mwith\u001b[39;00m \u001b[38;5;28mopen\u001b[39m(gtfs_file_path, \u001b[38;5;124m'\u001b[39m\u001b[38;5;124mrb\u001b[39m\u001b[38;5;124m'\u001b[39m) \u001b[38;5;28;01mas\u001b[39;00m gtfs_file:\n\u001b[0;32m     18\u001b[0m     files \u001b[38;5;241m=\u001b[39m {\u001b[38;5;124m'\u001b[39m\u001b[38;5;124mGTFS\u001b[39m\u001b[38;5;124m'\u001b[39m: (\u001b[38;5;124m'\u001b[39m\u001b[38;5;124mgtfs.zip\u001b[39m\u001b[38;5;124m'\u001b[39m, gtfs_file, \u001b[38;5;124m'\u001b[39m\u001b[38;5;124mapplication/zip\u001b[39m\u001b[38;5;124m'\u001b[39m)}\n\u001b[1;32m---> 19\u001b[0m     response \u001b[38;5;241m=\u001b[39m requests\u001b[38;5;241m.\u001b[39mpost(url, cookies\u001b[38;5;241m=\u001b[39mheaders, data\u001b[38;5;241m=\u001b[39mdata, files\u001b[38;5;241m=\u001b[39mfiles, verify\u001b[38;5;241m=\u001b[39m\u001b[38;5;28;01mFalse\u001b[39;00m)\n\u001b[0;32m     21\u001b[0m \u001b[38;5;28;01mif\u001b[39;00m response\u001b[38;5;241m.\u001b[39mstatus_code \u001b[38;5;241m==\u001b[39m \u001b[38;5;241m200\u001b[39m:\n\u001b[0;32m     22\u001b[0m     \u001b[38;5;28mprint\u001b[39m(response)\n",
      "\u001b[1;31mNameError\u001b[0m: name 'headers' is not defined"
     ]
    }
   ],
   "source": [
    "url = 'https://157.82.223.35/webapi/GetGTFSBusRoute'\n",
    "\n",
    "data = {\n",
    "    'UnitTypeCode': '2',  \n",
    "    'StartLongitude': '135.11316897388113',\n",
    "    'StartLatitude': '34.64294374018417',\n",
    "    'GoalLongitude': '135.11103018583813',\n",
    "    'GoalLatitude': '34.647384075478755',\n",
    "    'AppDate': '20250827',          \n",
    "    'AppTime': '1340',              \n",
    "    'StartGoalType': '1'            \n",
    "}\n",
    "\n",
    "\n",
    "gtfs_file_path = 'C://Users/pybdt/Downloads/kobe_parent.zip'\n",
    "\n",
    "with open(gtfs_file_path, 'rb') as gtfs_file:\n",
    "    files = {'GTFS': ('gtfs.zip', gtfs_file, 'application/zip')}\n",
    "    response = requests.post(url, cookies=headers, data=data, files=files, verify=False)\n",
    "\n",
    "if response.status_code == 200:\n",
    "    print(response)\n",
    "    print(response.text)\n",
    "else:\n",
    "    print(f\"Error: {response.status_code}\")"
   ]
  },
  {
   "cell_type": "code",
   "execution_count": null,
   "id": "1f0fed8a-8e9c-496e-a4b6-35b770e01dd5",
   "metadata": {},
   "outputs": [],
   "source": []
  }
 ],
 "metadata": {
  "kernelspec": {
   "display_name": "Python 3 (ipykernel)",
   "language": "python",
   "name": "python3"
  },
  "language_info": {
   "codemirror_mode": {
    "name": "ipython",
    "version": 3
   },
   "file_extension": ".py",
   "mimetype": "text/x-python",
   "name": "python",
   "nbconvert_exporter": "python",
   "pygments_lexer": "ipython3",
   "version": "3.11.11"
  }
 },
 "nbformat": 4,
 "nbformat_minor": 5
}
