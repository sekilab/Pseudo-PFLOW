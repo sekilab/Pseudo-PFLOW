{
 "cells": [
  {
   "cell_type": "code",
   "execution_count": 2,
   "id": "9e8eb7a4-f979-439e-9957-7c43736d1dd4",
   "metadata": {},
   "outputs": [],
   "source": [
    "import os \n",
    "import pandas as pd"
   ]
  },
  {
   "cell_type": "code",
   "execution_count": 3,
   "id": "1600d614-4361-4cde-857a-84ff19687770",
   "metadata": {
    "collapsed": true,
    "jupyter": {
     "outputs_hidden": true
    }
   },
   "outputs": [
    {
     "name": "stderr",
     "output_type": "stream",
     "text": [
      "/tmp/ipykernel_594577/2168292869.py:21: SettingWithCopyWarning: \n",
      "A value is trying to be set on a copy of a slice from a DataFrame.\n",
      "Try using .loc[row_indexer,col_indexer] = value instead\n",
      "\n",
      "See the caveats in the documentation: https://pandas.pydata.org/pandas-docs/stable/user_guide/indexing.html#returning-a-view-versus-a-copy\n",
      "  last_rows['total_time'] = last_rows['starttime'] + last_rows['duration']\n"
     ]
    },
    {
     "name": "stdout",
     "output_type": "stream",
     "text": [
      "File activity_08310.csv processed and saved to /mnt/free/owner/PseudoPFLOW/ver2.0/activity/8/updated/activity_08310.csv\n"
     ]
    },
    {
     "name": "stderr",
     "output_type": "stream",
     "text": [
      "/tmp/ipykernel_594577/2168292869.py:21: SettingWithCopyWarning: \n",
      "A value is trying to be set on a copy of a slice from a DataFrame.\n",
      "Try using .loc[row_indexer,col_indexer] = value instead\n",
      "\n",
      "See the caveats in the documentation: https://pandas.pydata.org/pandas-docs/stable/user_guide/indexing.html#returning-a-view-versus-a-copy\n",
      "  last_rows['total_time'] = last_rows['starttime'] + last_rows['duration']\n"
     ]
    },
    {
     "name": "stdout",
     "output_type": "stream",
     "text": [
      "File activity_08546.csv processed and saved to /mnt/free/owner/PseudoPFLOW/ver2.0/activity/8/updated/activity_08546.csv\n"
     ]
    },
    {
     "name": "stderr",
     "output_type": "stream",
     "text": [
      "/tmp/ipykernel_594577/2168292869.py:21: SettingWithCopyWarning: \n",
      "A value is trying to be set on a copy of a slice from a DataFrame.\n",
      "Try using .loc[row_indexer,col_indexer] = value instead\n",
      "\n",
      "See the caveats in the documentation: https://pandas.pydata.org/pandas-docs/stable/user_guide/indexing.html#returning-a-view-versus-a-copy\n",
      "  last_rows['total_time'] = last_rows['starttime'] + last_rows['duration']\n"
     ]
    },
    {
     "name": "stdout",
     "output_type": "stream",
     "text": [
      "File activity_08542.csv processed and saved to /mnt/free/owner/PseudoPFLOW/ver2.0/activity/8/updated/activity_08542.csv\n"
     ]
    },
    {
     "name": "stderr",
     "output_type": "stream",
     "text": [
      "/tmp/ipykernel_594577/2168292869.py:21: SettingWithCopyWarning: \n",
      "A value is trying to be set on a copy of a slice from a DataFrame.\n",
      "Try using .loc[row_indexer,col_indexer] = value instead\n",
      "\n",
      "See the caveats in the documentation: https://pandas.pydata.org/pandas-docs/stable/user_guide/indexing.html#returning-a-view-versus-a-copy\n",
      "  last_rows['total_time'] = last_rows['starttime'] + last_rows['duration']\n"
     ]
    },
    {
     "name": "stdout",
     "output_type": "stream",
     "text": [
      "File activity_08228.csv processed and saved to /mnt/free/owner/PseudoPFLOW/ver2.0/activity/8/updated/activity_08228.csv\n"
     ]
    },
    {
     "name": "stderr",
     "output_type": "stream",
     "text": [
      "/tmp/ipykernel_594577/2168292869.py:21: SettingWithCopyWarning: \n",
      "A value is trying to be set on a copy of a slice from a DataFrame.\n",
      "Try using .loc[row_indexer,col_indexer] = value instead\n",
      "\n",
      "See the caveats in the documentation: https://pandas.pydata.org/pandas-docs/stable/user_guide/indexing.html#returning-a-view-versus-a-copy\n",
      "  last_rows['total_time'] = last_rows['starttime'] + last_rows['duration']\n"
     ]
    },
    {
     "name": "stdout",
     "output_type": "stream",
     "text": [
      "File activity_08225.csv processed and saved to /mnt/free/owner/PseudoPFLOW/ver2.0/activity/8/updated/activity_08225.csv\n"
     ]
    },
    {
     "name": "stderr",
     "output_type": "stream",
     "text": [
      "/tmp/ipykernel_594577/2168292869.py:21: SettingWithCopyWarning: \n",
      "A value is trying to be set on a copy of a slice from a DataFrame.\n",
      "Try using .loc[row_indexer,col_indexer] = value instead\n",
      "\n",
      "See the caveats in the documentation: https://pandas.pydata.org/pandas-docs/stable/user_guide/indexing.html#returning-a-view-versus-a-copy\n",
      "  last_rows['total_time'] = last_rows['starttime'] + last_rows['duration']\n"
     ]
    },
    {
     "name": "stdout",
     "output_type": "stream",
     "text": [
      "File activity_08232.csv processed and saved to /mnt/free/owner/PseudoPFLOW/ver2.0/activity/8/updated/activity_08232.csv\n"
     ]
    },
    {
     "name": "stderr",
     "output_type": "stream",
     "text": [
      "/tmp/ipykernel_594577/2168292869.py:21: SettingWithCopyWarning: \n",
      "A value is trying to be set on a copy of a slice from a DataFrame.\n",
      "Try using .loc[row_indexer,col_indexer] = value instead\n",
      "\n",
      "See the caveats in the documentation: https://pandas.pydata.org/pandas-docs/stable/user_guide/indexing.html#returning-a-view-versus-a-copy\n",
      "  last_rows['total_time'] = last_rows['starttime'] + last_rows['duration']\n"
     ]
    },
    {
     "name": "stdout",
     "output_type": "stream",
     "text": [
      "File activity_08221.csv processed and saved to /mnt/free/owner/PseudoPFLOW/ver2.0/activity/8/updated/activity_08221.csv\n"
     ]
    },
    {
     "name": "stderr",
     "output_type": "stream",
     "text": [
      "/tmp/ipykernel_594577/2168292869.py:21: SettingWithCopyWarning: \n",
      "A value is trying to be set on a copy of a slice from a DataFrame.\n",
      "Try using .loc[row_indexer,col_indexer] = value instead\n",
      "\n",
      "See the caveats in the documentation: https://pandas.pydata.org/pandas-docs/stable/user_guide/indexing.html#returning-a-view-versus-a-copy\n",
      "  last_rows['total_time'] = last_rows['starttime'] + last_rows['duration']\n"
     ]
    },
    {
     "name": "stdout",
     "output_type": "stream",
     "text": [
      "File activity_08309.csv processed and saved to /mnt/free/owner/PseudoPFLOW/ver2.0/activity/8/updated/activity_08309.csv\n"
     ]
    },
    {
     "name": "stderr",
     "output_type": "stream",
     "text": [
      "/tmp/ipykernel_594577/2168292869.py:21: SettingWithCopyWarning: \n",
      "A value is trying to be set on a copy of a slice from a DataFrame.\n",
      "Try using .loc[row_indexer,col_indexer] = value instead\n",
      "\n",
      "See the caveats in the documentation: https://pandas.pydata.org/pandas-docs/stable/user_guide/indexing.html#returning-a-view-versus-a-copy\n",
      "  last_rows['total_time'] = last_rows['starttime'] + last_rows['duration']\n"
     ]
    },
    {
     "name": "stdout",
     "output_type": "stream",
     "text": [
      "File activity_08341.csv processed and saved to /mnt/free/owner/PseudoPFLOW/ver2.0/activity/8/updated/activity_08341.csv\n"
     ]
    },
    {
     "name": "stderr",
     "output_type": "stream",
     "text": [
      "/tmp/ipykernel_594577/2168292869.py:21: SettingWithCopyWarning: \n",
      "A value is trying to be set on a copy of a slice from a DataFrame.\n",
      "Try using .loc[row_indexer,col_indexer] = value instead\n",
      "\n",
      "See the caveats in the documentation: https://pandas.pydata.org/pandas-docs/stable/user_guide/indexing.html#returning-a-view-versus-a-copy\n",
      "  last_rows['total_time'] = last_rows['starttime'] + last_rows['duration']\n"
     ]
    },
    {
     "name": "stdout",
     "output_type": "stream",
     "text": [
      "File activity_08443.csv processed and saved to /mnt/free/owner/PseudoPFLOW/ver2.0/activity/8/updated/activity_08443.csv\n"
     ]
    },
    {
     "name": "stderr",
     "output_type": "stream",
     "text": [
      "/tmp/ipykernel_594577/2168292869.py:21: SettingWithCopyWarning: \n",
      "A value is trying to be set on a copy of a slice from a DataFrame.\n",
      "Try using .loc[row_indexer,col_indexer] = value instead\n",
      "\n",
      "See the caveats in the documentation: https://pandas.pydata.org/pandas-docs/stable/user_guide/indexing.html#returning-a-view-versus-a-copy\n",
      "  last_rows['total_time'] = last_rows['starttime'] + last_rows['duration']\n"
     ]
    },
    {
     "name": "stdout",
     "output_type": "stream",
     "text": [
      "File activity_08212.csv processed and saved to /mnt/free/owner/PseudoPFLOW/ver2.0/activity/8/updated/activity_08212.csv\n"
     ]
    },
    {
     "name": "stderr",
     "output_type": "stream",
     "text": [
      "/tmp/ipykernel_594577/2168292869.py:21: SettingWithCopyWarning: \n",
      "A value is trying to be set on a copy of a slice from a DataFrame.\n",
      "Try using .loc[row_indexer,col_indexer] = value instead\n",
      "\n",
      "See the caveats in the documentation: https://pandas.pydata.org/pandas-docs/stable/user_guide/indexing.html#returning-a-view-versus-a-copy\n",
      "  last_rows['total_time'] = last_rows['starttime'] + last_rows['duration']\n"
     ]
    },
    {
     "name": "stdout",
     "output_type": "stream",
     "text": [
      "File activity_08222.csv processed and saved to /mnt/free/owner/PseudoPFLOW/ver2.0/activity/8/updated/activity_08222.csv\n"
     ]
    },
    {
     "name": "stderr",
     "output_type": "stream",
     "text": [
      "/tmp/ipykernel_594577/2168292869.py:21: SettingWithCopyWarning: \n",
      "A value is trying to be set on a copy of a slice from a DataFrame.\n",
      "Try using .loc[row_indexer,col_indexer] = value instead\n",
      "\n",
      "See the caveats in the documentation: https://pandas.pydata.org/pandas-docs/stable/user_guide/indexing.html#returning-a-view-versus-a-copy\n",
      "  last_rows['total_time'] = last_rows['starttime'] + last_rows['duration']\n"
     ]
    },
    {
     "name": "stdout",
     "output_type": "stream",
     "text": [
      "File activity_08219.csv processed and saved to /mnt/free/owner/PseudoPFLOW/ver2.0/activity/8/updated/activity_08219.csv\n"
     ]
    },
    {
     "name": "stderr",
     "output_type": "stream",
     "text": [
      "/tmp/ipykernel_594577/2168292869.py:21: SettingWithCopyWarning: \n",
      "A value is trying to be set on a copy of a slice from a DataFrame.\n",
      "Try using .loc[row_indexer,col_indexer] = value instead\n",
      "\n",
      "See the caveats in the documentation: https://pandas.pydata.org/pandas-docs/stable/user_guide/indexing.html#returning-a-view-versus-a-copy\n",
      "  last_rows['total_time'] = last_rows['starttime'] + last_rows['duration']\n"
     ]
    },
    {
     "name": "stdout",
     "output_type": "stream",
     "text": [
      "File activity_08227.csv processed and saved to /mnt/free/owner/PseudoPFLOW/ver2.0/activity/8/updated/activity_08227.csv\n"
     ]
    },
    {
     "name": "stderr",
     "output_type": "stream",
     "text": [
      "/tmp/ipykernel_594577/2168292869.py:21: SettingWithCopyWarning: \n",
      "A value is trying to be set on a copy of a slice from a DataFrame.\n",
      "Try using .loc[row_indexer,col_indexer] = value instead\n",
      "\n",
      "See the caveats in the documentation: https://pandas.pydata.org/pandas-docs/stable/user_guide/indexing.html#returning-a-view-versus-a-copy\n",
      "  last_rows['total_time'] = last_rows['starttime'] + last_rows['duration']\n"
     ]
    },
    {
     "name": "stdout",
     "output_type": "stream",
     "text": [
      "File activity_08215.csv processed and saved to /mnt/free/owner/PseudoPFLOW/ver2.0/activity/8/updated/activity_08215.csv\n"
     ]
    },
    {
     "name": "stderr",
     "output_type": "stream",
     "text": [
      "/tmp/ipykernel_594577/2168292869.py:21: SettingWithCopyWarning: \n",
      "A value is trying to be set on a copy of a slice from a DataFrame.\n",
      "Try using .loc[row_indexer,col_indexer] = value instead\n",
      "\n",
      "See the caveats in the documentation: https://pandas.pydata.org/pandas-docs/stable/user_guide/indexing.html#returning-a-view-versus-a-copy\n",
      "  last_rows['total_time'] = last_rows['starttime'] + last_rows['duration']\n"
     ]
    },
    {
     "name": "stdout",
     "output_type": "stream",
     "text": [
      "File activity_08214.csv processed and saved to /mnt/free/owner/PseudoPFLOW/ver2.0/activity/8/updated/activity_08214.csv\n"
     ]
    },
    {
     "name": "stderr",
     "output_type": "stream",
     "text": [
      "/tmp/ipykernel_594577/2168292869.py:21: SettingWithCopyWarning: \n",
      "A value is trying to be set on a copy of a slice from a DataFrame.\n",
      "Try using .loc[row_indexer,col_indexer] = value instead\n",
      "\n",
      "See the caveats in the documentation: https://pandas.pydata.org/pandas-docs/stable/user_guide/indexing.html#returning-a-view-versus-a-copy\n",
      "  last_rows['total_time'] = last_rows['starttime'] + last_rows['duration']\n"
     ]
    },
    {
     "name": "stdout",
     "output_type": "stream",
     "text": [
      "File activity_08226.csv processed and saved to /mnt/free/owner/PseudoPFLOW/ver2.0/activity/8/updated/activity_08226.csv\n"
     ]
    },
    {
     "name": "stderr",
     "output_type": "stream",
     "text": [
      "/tmp/ipykernel_594577/2168292869.py:21: SettingWithCopyWarning: \n",
      "A value is trying to be set on a copy of a slice from a DataFrame.\n",
      "Try using .loc[row_indexer,col_indexer] = value instead\n",
      "\n",
      "See the caveats in the documentation: https://pandas.pydata.org/pandas-docs/stable/user_guide/indexing.html#returning-a-view-versus-a-copy\n",
      "  last_rows['total_time'] = last_rows['starttime'] + last_rows['duration']\n"
     ]
    },
    {
     "name": "stdout",
     "output_type": "stream",
     "text": [
      "File activity_08203.csv processed and saved to /mnt/free/owner/PseudoPFLOW/ver2.0/activity/8/updated/activity_08203.csv\n"
     ]
    },
    {
     "name": "stderr",
     "output_type": "stream",
     "text": [
      "/tmp/ipykernel_594577/2168292869.py:21: SettingWithCopyWarning: \n",
      "A value is trying to be set on a copy of a slice from a DataFrame.\n",
      "Try using .loc[row_indexer,col_indexer] = value instead\n",
      "\n",
      "See the caveats in the documentation: https://pandas.pydata.org/pandas-docs/stable/user_guide/indexing.html#returning-a-view-versus-a-copy\n",
      "  last_rows['total_time'] = last_rows['starttime'] + last_rows['duration']\n"
     ]
    },
    {
     "name": "stdout",
     "output_type": "stream",
     "text": [
      "File activity_08205.csv processed and saved to /mnt/free/owner/PseudoPFLOW/ver2.0/activity/8/updated/activity_08205.csv\n"
     ]
    },
    {
     "name": "stderr",
     "output_type": "stream",
     "text": [
      "/tmp/ipykernel_594577/2168292869.py:21: SettingWithCopyWarning: \n",
      "A value is trying to be set on a copy of a slice from a DataFrame.\n",
      "Try using .loc[row_indexer,col_indexer] = value instead\n",
      "\n",
      "See the caveats in the documentation: https://pandas.pydata.org/pandas-docs/stable/user_guide/indexing.html#returning-a-view-versus-a-copy\n",
      "  last_rows['total_time'] = last_rows['starttime'] + last_rows['duration']\n"
     ]
    },
    {
     "name": "stdout",
     "output_type": "stream",
     "text": [
      "File activity_08217.csv processed and saved to /mnt/free/owner/PseudoPFLOW/ver2.0/activity/8/updated/activity_08217.csv\n"
     ]
    },
    {
     "name": "stderr",
     "output_type": "stream",
     "text": [
      "/tmp/ipykernel_594577/2168292869.py:21: SettingWithCopyWarning: \n",
      "A value is trying to be set on a copy of a slice from a DataFrame.\n",
      "Try using .loc[row_indexer,col_indexer] = value instead\n",
      "\n",
      "See the caveats in the documentation: https://pandas.pydata.org/pandas-docs/stable/user_guide/indexing.html#returning-a-view-versus-a-copy\n",
      "  last_rows['total_time'] = last_rows['starttime'] + last_rows['duration']\n"
     ]
    },
    {
     "name": "stdout",
     "output_type": "stream",
     "text": [
      "File activity_08211.csv processed and saved to /mnt/free/owner/PseudoPFLOW/ver2.0/activity/8/updated/activity_08211.csv\n"
     ]
    },
    {
     "name": "stderr",
     "output_type": "stream",
     "text": [
      "/tmp/ipykernel_594577/2168292869.py:21: SettingWithCopyWarning: \n",
      "A value is trying to be set on a copy of a slice from a DataFrame.\n",
      "Try using .loc[row_indexer,col_indexer] = value instead\n",
      "\n",
      "See the caveats in the documentation: https://pandas.pydata.org/pandas-docs/stable/user_guide/indexing.html#returning-a-view-versus-a-copy\n",
      "  last_rows['total_time'] = last_rows['starttime'] + last_rows['duration']\n"
     ]
    },
    {
     "name": "stdout",
     "output_type": "stream",
     "text": [
      "File activity_08223.csv processed and saved to /mnt/free/owner/PseudoPFLOW/ver2.0/activity/8/updated/activity_08223.csv\n"
     ]
    },
    {
     "name": "stderr",
     "output_type": "stream",
     "text": [
      "/tmp/ipykernel_594577/2168292869.py:21: SettingWithCopyWarning: \n",
      "A value is trying to be set on a copy of a slice from a DataFrame.\n",
      "Try using .loc[row_indexer,col_indexer] = value instead\n",
      "\n",
      "See the caveats in the documentation: https://pandas.pydata.org/pandas-docs/stable/user_guide/indexing.html#returning-a-view-versus-a-copy\n",
      "  last_rows['total_time'] = last_rows['starttime'] + last_rows['duration']\n"
     ]
    },
    {
     "name": "stdout",
     "output_type": "stream",
     "text": [
      "File activity_08235.csv processed and saved to /mnt/free/owner/PseudoPFLOW/ver2.0/activity/8/updated/activity_08235.csv\n"
     ]
    },
    {
     "name": "stderr",
     "output_type": "stream",
     "text": [
      "/tmp/ipykernel_594577/2168292869.py:21: SettingWithCopyWarning: \n",
      "A value is trying to be set on a copy of a slice from a DataFrame.\n",
      "Try using .loc[row_indexer,col_indexer] = value instead\n",
      "\n",
      "See the caveats in the documentation: https://pandas.pydata.org/pandas-docs/stable/user_guide/indexing.html#returning-a-view-versus-a-copy\n",
      "  last_rows['total_time'] = last_rows['starttime'] + last_rows['duration']\n"
     ]
    },
    {
     "name": "stdout",
     "output_type": "stream",
     "text": [
      "File activity_08229.csv processed and saved to /mnt/free/owner/PseudoPFLOW/ver2.0/activity/8/updated/activity_08229.csv\n"
     ]
    },
    {
     "name": "stderr",
     "output_type": "stream",
     "text": [
      "/tmp/ipykernel_594577/2168292869.py:21: SettingWithCopyWarning: \n",
      "A value is trying to be set on a copy of a slice from a DataFrame.\n",
      "Try using .loc[row_indexer,col_indexer] = value instead\n",
      "\n",
      "See the caveats in the documentation: https://pandas.pydata.org/pandas-docs/stable/user_guide/indexing.html#returning-a-view-versus-a-copy\n",
      "  last_rows['total_time'] = last_rows['starttime'] + last_rows['duration']\n"
     ]
    },
    {
     "name": "stdout",
     "output_type": "stream",
     "text": [
      "File activity_08564.csv processed and saved to /mnt/free/owner/PseudoPFLOW/ver2.0/activity/8/updated/activity_08564.csv\n"
     ]
    },
    {
     "name": "stderr",
     "output_type": "stream",
     "text": [
      "/tmp/ipykernel_594577/2168292869.py:21: SettingWithCopyWarning: \n",
      "A value is trying to be set on a copy of a slice from a DataFrame.\n",
      "Try using .loc[row_indexer,col_indexer] = value instead\n",
      "\n",
      "See the caveats in the documentation: https://pandas.pydata.org/pandas-docs/stable/user_guide/indexing.html#returning-a-view-versus-a-copy\n",
      "  last_rows['total_time'] = last_rows['starttime'] + last_rows['duration']\n"
     ]
    },
    {
     "name": "stdout",
     "output_type": "stream",
     "text": [
      "File activity_08224.csv processed and saved to /mnt/free/owner/PseudoPFLOW/ver2.0/activity/8/updated/activity_08224.csv\n"
     ]
    },
    {
     "name": "stderr",
     "output_type": "stream",
     "text": [
      "/tmp/ipykernel_594577/2168292869.py:21: SettingWithCopyWarning: \n",
      "A value is trying to be set on a copy of a slice from a DataFrame.\n",
      "Try using .loc[row_indexer,col_indexer] = value instead\n",
      "\n",
      "See the caveats in the documentation: https://pandas.pydata.org/pandas-docs/stable/user_guide/indexing.html#returning-a-view-versus-a-copy\n",
      "  last_rows['total_time'] = last_rows['starttime'] + last_rows['duration']\n"
     ]
    },
    {
     "name": "stdout",
     "output_type": "stream",
     "text": [
      "File activity_08210.csv processed and saved to /mnt/free/owner/PseudoPFLOW/ver2.0/activity/8/updated/activity_08210.csv\n"
     ]
    },
    {
     "name": "stderr",
     "output_type": "stream",
     "text": [
      "/tmp/ipykernel_594577/2168292869.py:21: SettingWithCopyWarning: \n",
      "A value is trying to be set on a copy of a slice from a DataFrame.\n",
      "Try using .loc[row_indexer,col_indexer] = value instead\n",
      "\n",
      "See the caveats in the documentation: https://pandas.pydata.org/pandas-docs/stable/user_guide/indexing.html#returning-a-view-versus-a-copy\n",
      "  last_rows['total_time'] = last_rows['starttime'] + last_rows['duration']\n"
     ]
    },
    {
     "name": "stdout",
     "output_type": "stream",
     "text": [
      "File activity_08201.csv processed and saved to /mnt/free/owner/PseudoPFLOW/ver2.0/activity/8/updated/activity_08201.csv\n"
     ]
    },
    {
     "name": "stderr",
     "output_type": "stream",
     "text": [
      "/tmp/ipykernel_594577/2168292869.py:21: SettingWithCopyWarning: \n",
      "A value is trying to be set on a copy of a slice from a DataFrame.\n",
      "Try using .loc[row_indexer,col_indexer] = value instead\n",
      "\n",
      "See the caveats in the documentation: https://pandas.pydata.org/pandas-docs/stable/user_guide/indexing.html#returning-a-view-versus-a-copy\n",
      "  last_rows['total_time'] = last_rows['starttime'] + last_rows['duration']\n"
     ]
    },
    {
     "name": "stdout",
     "output_type": "stream",
     "text": [
      "File activity_08442.csv processed and saved to /mnt/free/owner/PseudoPFLOW/ver2.0/activity/8/updated/activity_08442.csv\n"
     ]
    },
    {
     "name": "stderr",
     "output_type": "stream",
     "text": [
      "/tmp/ipykernel_594577/2168292869.py:21: SettingWithCopyWarning: \n",
      "A value is trying to be set on a copy of a slice from a DataFrame.\n",
      "Try using .loc[row_indexer,col_indexer] = value instead\n",
      "\n",
      "See the caveats in the documentation: https://pandas.pydata.org/pandas-docs/stable/user_guide/indexing.html#returning-a-view-versus-a-copy\n",
      "  last_rows['total_time'] = last_rows['starttime'] + last_rows['duration']\n"
     ]
    },
    {
     "name": "stdout",
     "output_type": "stream",
     "text": [
      "File activity_08364.csv processed and saved to /mnt/free/owner/PseudoPFLOW/ver2.0/activity/8/updated/activity_08364.csv\n"
     ]
    },
    {
     "name": "stderr",
     "output_type": "stream",
     "text": [
      "/tmp/ipykernel_594577/2168292869.py:21: SettingWithCopyWarning: \n",
      "A value is trying to be set on a copy of a slice from a DataFrame.\n",
      "Try using .loc[row_indexer,col_indexer] = value instead\n",
      "\n",
      "See the caveats in the documentation: https://pandas.pydata.org/pandas-docs/stable/user_guide/indexing.html#returning-a-view-versus-a-copy\n",
      "  last_rows['total_time'] = last_rows['starttime'] + last_rows['duration']\n"
     ]
    },
    {
     "name": "stdout",
     "output_type": "stream",
     "text": [
      "File activity_08236.csv processed and saved to /mnt/free/owner/PseudoPFLOW/ver2.0/activity/8/updated/activity_08236.csv\n"
     ]
    },
    {
     "name": "stderr",
     "output_type": "stream",
     "text": [
      "/tmp/ipykernel_594577/2168292869.py:21: SettingWithCopyWarning: \n",
      "A value is trying to be set on a copy of a slice from a DataFrame.\n",
      "Try using .loc[row_indexer,col_indexer] = value instead\n",
      "\n",
      "See the caveats in the documentation: https://pandas.pydata.org/pandas-docs/stable/user_guide/indexing.html#returning-a-view-versus-a-copy\n",
      "  last_rows['total_time'] = last_rows['starttime'] + last_rows['duration']\n"
     ]
    },
    {
     "name": "stdout",
     "output_type": "stream",
     "text": [
      "File activity_08216.csv processed and saved to /mnt/free/owner/PseudoPFLOW/ver2.0/activity/8/updated/activity_08216.csv\n"
     ]
    },
    {
     "name": "stderr",
     "output_type": "stream",
     "text": [
      "/tmp/ipykernel_594577/2168292869.py:21: SettingWithCopyWarning: \n",
      "A value is trying to be set on a copy of a slice from a DataFrame.\n",
      "Try using .loc[row_indexer,col_indexer] = value instead\n",
      "\n",
      "See the caveats in the documentation: https://pandas.pydata.org/pandas-docs/stable/user_guide/indexing.html#returning-a-view-versus-a-copy\n",
      "  last_rows['total_time'] = last_rows['starttime'] + last_rows['duration']\n"
     ]
    },
    {
     "name": "stdout",
     "output_type": "stream",
     "text": [
      "File activity_08202.csv processed and saved to /mnt/free/owner/PseudoPFLOW/ver2.0/activity/8/updated/activity_08202.csv\n"
     ]
    },
    {
     "name": "stderr",
     "output_type": "stream",
     "text": [
      "/tmp/ipykernel_594577/2168292869.py:21: SettingWithCopyWarning: \n",
      "A value is trying to be set on a copy of a slice from a DataFrame.\n",
      "Try using .loc[row_indexer,col_indexer] = value instead\n",
      "\n",
      "See the caveats in the documentation: https://pandas.pydata.org/pandas-docs/stable/user_guide/indexing.html#returning-a-view-versus-a-copy\n",
      "  last_rows['total_time'] = last_rows['starttime'] + last_rows['duration']\n"
     ]
    },
    {
     "name": "stdout",
     "output_type": "stream",
     "text": [
      "File activity_08521.csv processed and saved to /mnt/free/owner/PseudoPFLOW/ver2.0/activity/8/updated/activity_08521.csv\n"
     ]
    },
    {
     "name": "stderr",
     "output_type": "stream",
     "text": [
      "/tmp/ipykernel_594577/2168292869.py:21: SettingWithCopyWarning: \n",
      "A value is trying to be set on a copy of a slice from a DataFrame.\n",
      "Try using .loc[row_indexer,col_indexer] = value instead\n",
      "\n",
      "See the caveats in the documentation: https://pandas.pydata.org/pandas-docs/stable/user_guide/indexing.html#returning-a-view-versus-a-copy\n",
      "  last_rows['total_time'] = last_rows['starttime'] + last_rows['duration']\n"
     ]
    },
    {
     "name": "stdout",
     "output_type": "stream",
     "text": [
      "File activity_08204.csv processed and saved to /mnt/free/owner/PseudoPFLOW/ver2.0/activity/8/updated/activity_08204.csv\n"
     ]
    },
    {
     "name": "stderr",
     "output_type": "stream",
     "text": [
      "/tmp/ipykernel_594577/2168292869.py:21: SettingWithCopyWarning: \n",
      "A value is trying to be set on a copy of a slice from a DataFrame.\n",
      "Try using .loc[row_indexer,col_indexer] = value instead\n",
      "\n",
      "See the caveats in the documentation: https://pandas.pydata.org/pandas-docs/stable/user_guide/indexing.html#returning-a-view-versus-a-copy\n",
      "  last_rows['total_time'] = last_rows['starttime'] + last_rows['duration']\n"
     ]
    },
    {
     "name": "stdout",
     "output_type": "stream",
     "text": [
      "File activity_08208.csv processed and saved to /mnt/free/owner/PseudoPFLOW/ver2.0/activity/8/updated/activity_08208.csv\n"
     ]
    },
    {
     "name": "stderr",
     "output_type": "stream",
     "text": [
      "/tmp/ipykernel_594577/2168292869.py:21: SettingWithCopyWarning: \n",
      "A value is trying to be set on a copy of a slice from a DataFrame.\n",
      "Try using .loc[row_indexer,col_indexer] = value instead\n",
      "\n",
      "See the caveats in the documentation: https://pandas.pydata.org/pandas-docs/stable/user_guide/indexing.html#returning-a-view-versus-a-copy\n",
      "  last_rows['total_time'] = last_rows['starttime'] + last_rows['duration']\n"
     ]
    },
    {
     "name": "stdout",
     "output_type": "stream",
     "text": [
      "File activity_08220.csv processed and saved to /mnt/free/owner/PseudoPFLOW/ver2.0/activity/8/updated/activity_08220.csv\n"
     ]
    },
    {
     "name": "stderr",
     "output_type": "stream",
     "text": [
      "/tmp/ipykernel_594577/2168292869.py:21: SettingWithCopyWarning: \n",
      "A value is trying to be set on a copy of a slice from a DataFrame.\n",
      "Try using .loc[row_indexer,col_indexer] = value instead\n",
      "\n",
      "See the caveats in the documentation: https://pandas.pydata.org/pandas-docs/stable/user_guide/indexing.html#returning-a-view-versus-a-copy\n",
      "  last_rows['total_time'] = last_rows['starttime'] + last_rows['duration']\n"
     ]
    },
    {
     "name": "stdout",
     "output_type": "stream",
     "text": [
      "File activity_08302.csv processed and saved to /mnt/free/owner/PseudoPFLOW/ver2.0/activity/8/updated/activity_08302.csv\n"
     ]
    },
    {
     "name": "stderr",
     "output_type": "stream",
     "text": [
      "/tmp/ipykernel_594577/2168292869.py:21: SettingWithCopyWarning: \n",
      "A value is trying to be set on a copy of a slice from a DataFrame.\n",
      "Try using .loc[row_indexer,col_indexer] = value instead\n",
      "\n",
      "See the caveats in the documentation: https://pandas.pydata.org/pandas-docs/stable/user_guide/indexing.html#returning-a-view-versus-a-copy\n",
      "  last_rows['total_time'] = last_rows['starttime'] + last_rows['duration']\n"
     ]
    },
    {
     "name": "stdout",
     "output_type": "stream",
     "text": [
      "File activity_08231.csv processed and saved to /mnt/free/owner/PseudoPFLOW/ver2.0/activity/8/updated/activity_08231.csv\n"
     ]
    },
    {
     "name": "stderr",
     "output_type": "stream",
     "text": [
      "/tmp/ipykernel_594577/2168292869.py:21: SettingWithCopyWarning: \n",
      "A value is trying to be set on a copy of a slice from a DataFrame.\n",
      "Try using .loc[row_indexer,col_indexer] = value instead\n",
      "\n",
      "See the caveats in the documentation: https://pandas.pydata.org/pandas-docs/stable/user_guide/indexing.html#returning-a-view-versus-a-copy\n",
      "  last_rows['total_time'] = last_rows['starttime'] + last_rows['duration']\n"
     ]
    },
    {
     "name": "stdout",
     "output_type": "stream",
     "text": [
      "File activity_08233.csv processed and saved to /mnt/free/owner/PseudoPFLOW/ver2.0/activity/8/updated/activity_08233.csv\n"
     ]
    },
    {
     "name": "stderr",
     "output_type": "stream",
     "text": [
      "/tmp/ipykernel_594577/2168292869.py:21: SettingWithCopyWarning: \n",
      "A value is trying to be set on a copy of a slice from a DataFrame.\n",
      "Try using .loc[row_indexer,col_indexer] = value instead\n",
      "\n",
      "See the caveats in the documentation: https://pandas.pydata.org/pandas-docs/stable/user_guide/indexing.html#returning-a-view-versus-a-copy\n",
      "  last_rows['total_time'] = last_rows['starttime'] + last_rows['duration']\n"
     ]
    },
    {
     "name": "stdout",
     "output_type": "stream",
     "text": [
      "File activity_08234.csv processed and saved to /mnt/free/owner/PseudoPFLOW/ver2.0/activity/8/updated/activity_08234.csv\n"
     ]
    },
    {
     "name": "stderr",
     "output_type": "stream",
     "text": [
      "/tmp/ipykernel_594577/2168292869.py:21: SettingWithCopyWarning: \n",
      "A value is trying to be set on a copy of a slice from a DataFrame.\n",
      "Try using .loc[row_indexer,col_indexer] = value instead\n",
      "\n",
      "See the caveats in the documentation: https://pandas.pydata.org/pandas-docs/stable/user_guide/indexing.html#returning-a-view-versus-a-copy\n",
      "  last_rows['total_time'] = last_rows['starttime'] + last_rows['duration']\n"
     ]
    },
    {
     "name": "stdout",
     "output_type": "stream",
     "text": [
      "File activity_08230.csv processed and saved to /mnt/free/owner/PseudoPFLOW/ver2.0/activity/8/updated/activity_08230.csv\n"
     ]
    },
    {
     "name": "stderr",
     "output_type": "stream",
     "text": [
      "/tmp/ipykernel_594577/2168292869.py:21: SettingWithCopyWarning: \n",
      "A value is trying to be set on a copy of a slice from a DataFrame.\n",
      "Try using .loc[row_indexer,col_indexer] = value instead\n",
      "\n",
      "See the caveats in the documentation: https://pandas.pydata.org/pandas-docs/stable/user_guide/indexing.html#returning-a-view-versus-a-copy\n",
      "  last_rows['total_time'] = last_rows['starttime'] + last_rows['duration']\n"
     ]
    },
    {
     "name": "stdout",
     "output_type": "stream",
     "text": [
      "File activity_08447.csv processed and saved to /mnt/free/owner/PseudoPFLOW/ver2.0/activity/8/updated/activity_08447.csv\n"
     ]
    },
    {
     "name": "stderr",
     "output_type": "stream",
     "text": [
      "/tmp/ipykernel_594577/2168292869.py:21: SettingWithCopyWarning: \n",
      "A value is trying to be set on a copy of a slice from a DataFrame.\n",
      "Try using .loc[row_indexer,col_indexer] = value instead\n",
      "\n",
      "See the caveats in the documentation: https://pandas.pydata.org/pandas-docs/stable/user_guide/indexing.html#returning-a-view-versus-a-copy\n",
      "  last_rows['total_time'] = last_rows['starttime'] + last_rows['duration']\n"
     ]
    },
    {
     "name": "stdout",
     "output_type": "stream",
     "text": [
      "File activity_08207.csv processed and saved to /mnt/free/owner/PseudoPFLOW/ver2.0/activity/8/updated/activity_08207.csv\n",
      "All files have been processed.\n"
     ]
    }
   ],
   "source": [
    "prev_dir = \"/mnt/large/data/PseudoPFLOW/ver2.0/activity/8/\"\n",
    "processed_dir = \"/mnt/free/owner/activity_merge/8/\"\n",
    "output_dir = \"/mnt/free/owner/PseudoPFLOW/ver2.0/activity/8/updated/\"\n",
    "\n",
    "os.makedirs(output_dir, exist_ok=True)\n",
    "\n",
    "for file_name in os.listdir(prev_dir):\n",
    "    if file_name.endswith(\".csv\"):\n",
    "        prev_file_path = os.path.join(prev_dir, file_name)\n",
    "        processed_file_path = os.path.join(processed_dir, file_name)\n",
    "        \n",
    "        # Check if the corresponding file exists in processed_dir\n",
    "        if not os.path.exists(processed_file_path):\n",
    "            print(f\"File {processed_file_path} does not exist. Skipping...\")\n",
    "            continue\n",
    "\n",
    "        act_prev = pd.read_csv(prev_file_path, names=['pid', 'age', 'gender', 'occupation', 'starttime', 'duration', 'purpose', 'lon', 'lat', 'zone'])\n",
    "        act_processed = pd.read_csv(processed_file_path, names=['pid', 'age', 'gender', 'occupation', 'starttime', 'duration', 'purpose', 'lon', 'lat', 'zone'])\n",
    "\n",
    "        last_rows = act_prev.groupby('pid').tail(1)\n",
    "        last_rows['total_time'] = last_rows['starttime'] + last_rows['duration']\n",
    "\n",
    "        # Filter rows where total_time != 86400\n",
    "        incomplete_days = last_rows[last_rows['total_time'] != 86400]\n",
    "\n",
    "        # Replace corresponding pid data in act_prev\n",
    "        for _, row in incomplete_days.iterrows():\n",
    "            pid = row['pid']\n",
    "            matching_data = act_processed[act_processed['pid'] == pid]\n",
    "            \n",
    "            # Remove related data from act_prev and append the replacement data\n",
    "            act_prev = act_prev[act_prev['pid'] != pid]\n",
    "            act_prev = pd.concat([act_prev, matching_data], ignore_index=True)\n",
    "\n",
    "        output_file_path = os.path.join(output_dir, file_name)\n",
    "        act_prev.to_csv(output_file_path, index=False, header=False)\n",
    "        print(f\"File {file_name} processed and saved to {output_file_path}\")\n",
    "\n",
    "print(\"All files have been processed.\")"
   ]
  },
  {
   "cell_type": "markdown",
   "id": "8808b102-aa37-40a2-8658-689cf3c00caa",
   "metadata": {},
   "source": [
    "## Missing people from household"
   ]
  },
  {
   "cell_type": "code",
   "execution_count": 5,
   "id": "ee017205-d4b5-4db1-8063-633a1af546e7",
   "metadata": {},
   "outputs": [
    {
     "data": {
      "text/html": [
       "<div>\n",
       "<style scoped>\n",
       "    .dataframe tbody tr th:only-of-type {\n",
       "        vertical-align: middle;\n",
       "    }\n",
       "\n",
       "    .dataframe tbody tr th {\n",
       "        vertical-align: top;\n",
       "    }\n",
       "\n",
       "    .dataframe thead th {\n",
       "        text-align: right;\n",
       "    }\n",
       "</style>\n",
       "<table border=\"1\" class=\"dataframe\">\n",
       "  <thead>\n",
       "    <tr style=\"text-align: right;\">\n",
       "      <th></th>\n",
       "      <th>household_id</th>\n",
       "      <th>household_type</th>\n",
       "      <th>city_code</th>\n",
       "      <th>lon</th>\n",
       "      <th>lat</th>\n",
       "      <th>pid</th>\n",
       "      <th>age</th>\n",
       "      <th>gender</th>\n",
       "      <th>occupation</th>\n",
       "    </tr>\n",
       "  </thead>\n",
       "  <tbody>\n",
       "    <tr>\n",
       "      <th>0</th>\n",
       "      <td>08201_1</td>\n",
       "      <td>1</td>\n",
       "      <td>8201</td>\n",
       "      <td>140.474551</td>\n",
       "      <td>36.377772</td>\n",
       "      <td>13942524</td>\n",
       "      <td>51</td>\n",
       "      <td>1</td>\n",
       "      <td>21</td>\n",
       "    </tr>\n",
       "    <tr>\n",
       "      <th>13</th>\n",
       "      <td>08201_8</td>\n",
       "      <td>3</td>\n",
       "      <td>8201</td>\n",
       "      <td>140.474551</td>\n",
       "      <td>36.377772</td>\n",
       "      <td>13942537</td>\n",
       "      <td>1</td>\n",
       "      <td>1</td>\n",
       "      <td>10</td>\n",
       "    </tr>\n",
       "    <tr>\n",
       "      <th>16</th>\n",
       "      <td>08201_11</td>\n",
       "      <td>1</td>\n",
       "      <td>8201</td>\n",
       "      <td>140.474551</td>\n",
       "      <td>36.377772</td>\n",
       "      <td>13942540</td>\n",
       "      <td>51</td>\n",
       "      <td>1</td>\n",
       "      <td>22</td>\n",
       "    </tr>\n",
       "    <tr>\n",
       "      <th>26</th>\n",
       "      <td>08201_17</td>\n",
       "      <td>16</td>\n",
       "      <td>8201</td>\n",
       "      <td>140.474551</td>\n",
       "      <td>36.377772</td>\n",
       "      <td>13942550</td>\n",
       "      <td>48</td>\n",
       "      <td>1</td>\n",
       "      <td>22</td>\n",
       "    </tr>\n",
       "    <tr>\n",
       "      <th>31</th>\n",
       "      <td>08201_22</td>\n",
       "      <td>16</td>\n",
       "      <td>8201</td>\n",
       "      <td>140.474551</td>\n",
       "      <td>36.377772</td>\n",
       "      <td>13942555</td>\n",
       "      <td>44</td>\n",
       "      <td>1</td>\n",
       "      <td>22</td>\n",
       "    </tr>\n",
       "    <tr>\n",
       "      <th>...</th>\n",
       "      <td>...</td>\n",
       "      <td>...</td>\n",
       "      <td>...</td>\n",
       "      <td>...</td>\n",
       "      <td>...</td>\n",
       "      <td>...</td>\n",
       "      <td>...</td>\n",
       "      <td>...</td>\n",
       "      <td>...</td>\n",
       "    </tr>\n",
       "    <tr>\n",
       "      <th>262039</th>\n",
       "      <td>08201_116023</td>\n",
       "      <td>8</td>\n",
       "      <td>8201</td>\n",
       "      <td>140.366842</td>\n",
       "      <td>36.381044</td>\n",
       "      <td>14204563</td>\n",
       "      <td>21</td>\n",
       "      <td>2</td>\n",
       "      <td>22</td>\n",
       "    </tr>\n",
       "    <tr>\n",
       "      <th>262040</th>\n",
       "      <td>08201_116023</td>\n",
       "      <td>8</td>\n",
       "      <td>8201</td>\n",
       "      <td>140.366842</td>\n",
       "      <td>36.381044</td>\n",
       "      <td>14204564</td>\n",
       "      <td>21</td>\n",
       "      <td>1</td>\n",
       "      <td>15</td>\n",
       "    </tr>\n",
       "    <tr>\n",
       "      <th>262054</th>\n",
       "      <td>08201_116028</td>\n",
       "      <td>2</td>\n",
       "      <td>8201</td>\n",
       "      <td>140.372789</td>\n",
       "      <td>36.385777</td>\n",
       "      <td>14204578</td>\n",
       "      <td>1</td>\n",
       "      <td>1</td>\n",
       "      <td>10</td>\n",
       "    </tr>\n",
       "    <tr>\n",
       "      <th>262070</th>\n",
       "      <td>08201_116032</td>\n",
       "      <td>7</td>\n",
       "      <td>8201</td>\n",
       "      <td>140.366319</td>\n",
       "      <td>36.385175</td>\n",
       "      <td>14204594</td>\n",
       "      <td>2</td>\n",
       "      <td>2</td>\n",
       "      <td>10</td>\n",
       "    </tr>\n",
       "    <tr>\n",
       "      <th>262072</th>\n",
       "      <td>08201_116032</td>\n",
       "      <td>7</td>\n",
       "      <td>8201</td>\n",
       "      <td>140.366319</td>\n",
       "      <td>36.385175</td>\n",
       "      <td>14204596</td>\n",
       "      <td>2</td>\n",
       "      <td>2</td>\n",
       "      <td>10</td>\n",
       "    </tr>\n",
       "  </tbody>\n",
       "</table>\n",
       "<p>13290 rows × 9 columns</p>\n",
       "</div>"
      ],
      "text/plain": [
       "        household_id  household_type  city_code         lon        lat  \\\n",
       "0            08201_1               1       8201  140.474551  36.377772   \n",
       "13           08201_8               3       8201  140.474551  36.377772   \n",
       "16          08201_11               1       8201  140.474551  36.377772   \n",
       "26          08201_17              16       8201  140.474551  36.377772   \n",
       "31          08201_22              16       8201  140.474551  36.377772   \n",
       "...              ...             ...        ...         ...        ...   \n",
       "262039  08201_116023               8       8201  140.366842  36.381044   \n",
       "262040  08201_116023               8       8201  140.366842  36.381044   \n",
       "262054  08201_116028               2       8201  140.372789  36.385777   \n",
       "262070  08201_116032               7       8201  140.366319  36.385175   \n",
       "262072  08201_116032               7       8201  140.366319  36.385175   \n",
       "\n",
       "             pid  age  gender  occupation  \n",
       "0       13942524   51       1          21  \n",
       "13      13942537    1       1          10  \n",
       "16      13942540   51       1          22  \n",
       "26      13942550   48       1          22  \n",
       "31      13942555   44       1          22  \n",
       "...          ...  ...     ...         ...  \n",
       "262039  14204563   21       2          22  \n",
       "262040  14204564   21       1          15  \n",
       "262054  14204578    1       1          10  \n",
       "262070  14204594    2       2          10  \n",
       "262072  14204596    2       2          10  \n",
       "\n",
       "[13290 rows x 9 columns]"
      ]
     },
     "execution_count": 5,
     "metadata": {},
     "output_type": "execute_result"
    }
   ],
   "source": [
    "pop = pd.read_csv('/mnt/large/data/PseudoPFLOW/ver2.0/agent/8/person_08201.csv', names=['household_id', 'household_type', 'city_code', 'lon', 'lat', 'pid', 'age', 'gender', 'occupation'])\n",
    "act = pd.read_csv(\"/mnt/free/owner/PseudoPFLOW/ver2.0/activity/8/updated/activity_08201.csv\", names=['pid', 'age', 'gender', 'occupation', 'starttime', 'duration', 'purpose', 'lon','lat', 'zone'])\n",
    "pop_missing = pop[~pop['pid'].isin(act['pid'])]\n",
    "pop_missing"
   ]
  },
  {
   "cell_type": "code",
   "execution_count": 10,
   "id": "0ba56ed5-e32a-479e-bcc5-10c0c0b845f5",
   "metadata": {},
   "outputs": [
    {
     "data": {
      "text/plain": [
       "10    6336\n",
       "22    5388\n",
       "14     488\n",
       "15     335\n",
       "12     324\n",
       "11     193\n",
       "13     161\n",
       "16      64\n",
       "21       1\n",
       "Name: occupation, dtype: int64"
      ]
     },
     "execution_count": 10,
     "metadata": {},
     "output_type": "execute_result"
    }
   ],
   "source": [
    "pop_missing['occupation'].value_counts()"
   ]
  },
  {
   "cell_type": "code",
   "execution_count": 11,
   "id": "2639ddd9-580f-4429-ae6e-3f92e580c846",
   "metadata": {},
   "outputs": [
    {
     "data": {
      "text/plain": [
       "21    111327\n",
       "23     97039\n",
       "12     14023\n",
       "14      7815\n",
       "13      7287\n",
       "11      6698\n",
       "10      6336\n",
       "22      5388\n",
       "15      5054\n",
       "16      1120\n",
       "Name: occupation, dtype: int64"
      ]
     },
     "execution_count": 11,
     "metadata": {},
     "output_type": "execute_result"
    }
   ],
   "source": [
    "pop['occupation'].value_counts()"
   ]
  },
  {
   "cell_type": "code",
   "execution_count": 7,
   "id": "a088e56d-1f99-46b6-9168-7396908f2243",
   "metadata": {},
   "outputs": [
    {
     "data": {
      "text/plain": [
       "(262087, 248797)"
      ]
     },
     "execution_count": 7,
     "metadata": {},
     "output_type": "execute_result"
    }
   ],
   "source": [
    "len(pop['pid'].unique()), len(act['pid'].unique())"
   ]
  },
  {
   "cell_type": "code",
   "execution_count": 8,
   "id": "6623efa0-1fd8-4990-a20e-19807241e4f7",
   "metadata": {},
   "outputs": [
    {
     "data": {
      "text/html": [
       "<div>\n",
       "<style scoped>\n",
       "    .dataframe tbody tr th:only-of-type {\n",
       "        vertical-align: middle;\n",
       "    }\n",
       "\n",
       "    .dataframe tbody tr th {\n",
       "        vertical-align: top;\n",
       "    }\n",
       "\n",
       "    .dataframe thead th {\n",
       "        text-align: right;\n",
       "    }\n",
       "</style>\n",
       "<table border=\"1\" class=\"dataframe\">\n",
       "  <thead>\n",
       "    <tr style=\"text-align: right;\">\n",
       "      <th></th>\n",
       "      <th>pid</th>\n",
       "      <th>age</th>\n",
       "      <th>gender</th>\n",
       "      <th>occupation</th>\n",
       "      <th>starttime</th>\n",
       "      <th>duration</th>\n",
       "      <th>purpose</th>\n",
       "      <th>lon</th>\n",
       "      <th>lat</th>\n",
       "      <th>zone</th>\n",
       "    </tr>\n",
       "  </thead>\n",
       "  <tbody>\n",
       "    <tr>\n",
       "      <th>0</th>\n",
       "      <td>13942525</td>\n",
       "      <td>40</td>\n",
       "      <td>2</td>\n",
       "      <td>21</td>\n",
       "      <td>0</td>\n",
       "      <td>27000</td>\n",
       "      <td>1</td>\n",
       "      <td>140.474551</td>\n",
       "      <td>36.377772</td>\n",
       "      <td>8201</td>\n",
       "    </tr>\n",
       "    <tr>\n",
       "      <th>1</th>\n",
       "      <td>13942525</td>\n",
       "      <td>40</td>\n",
       "      <td>2</td>\n",
       "      <td>21</td>\n",
       "      <td>27000</td>\n",
       "      <td>38700</td>\n",
       "      <td>2</td>\n",
       "      <td>140.484832</td>\n",
       "      <td>36.314746</td>\n",
       "      <td>8302</td>\n",
       "    </tr>\n",
       "    <tr>\n",
       "      <th>2</th>\n",
       "      <td>13942525</td>\n",
       "      <td>40</td>\n",
       "      <td>2</td>\n",
       "      <td>21</td>\n",
       "      <td>65700</td>\n",
       "      <td>20700</td>\n",
       "      <td>1</td>\n",
       "      <td>140.474551</td>\n",
       "      <td>36.377772</td>\n",
       "      <td>8201</td>\n",
       "    </tr>\n",
       "    <tr>\n",
       "      <th>3</th>\n",
       "      <td>13942526</td>\n",
       "      <td>37</td>\n",
       "      <td>1</td>\n",
       "      <td>21</td>\n",
       "      <td>0</td>\n",
       "      <td>26100</td>\n",
       "      <td>1</td>\n",
       "      <td>140.474551</td>\n",
       "      <td>36.377772</td>\n",
       "      <td>8201</td>\n",
       "    </tr>\n",
       "    <tr>\n",
       "      <th>4</th>\n",
       "      <td>13942526</td>\n",
       "      <td>37</td>\n",
       "      <td>1</td>\n",
       "      <td>21</td>\n",
       "      <td>26100</td>\n",
       "      <td>45900</td>\n",
       "      <td>2</td>\n",
       "      <td>140.464704</td>\n",
       "      <td>36.379213</td>\n",
       "      <td>8201</td>\n",
       "    </tr>\n",
       "    <tr>\n",
       "      <th>...</th>\n",
       "      <td>...</td>\n",
       "      <td>...</td>\n",
       "      <td>...</td>\n",
       "      <td>...</td>\n",
       "      <td>...</td>\n",
       "      <td>...</td>\n",
       "      <td>...</td>\n",
       "      <td>...</td>\n",
       "      <td>...</td>\n",
       "      <td>...</td>\n",
       "    </tr>\n",
       "    <tr>\n",
       "      <th>598294</th>\n",
       "      <td>14201508</td>\n",
       "      <td>18</td>\n",
       "      <td>1</td>\n",
       "      <td>15</td>\n",
       "      <td>0</td>\n",
       "      <td>24300</td>\n",
       "      <td>1</td>\n",
       "      <td>140.525639</td>\n",
       "      <td>36.345669</td>\n",
       "      <td>8201</td>\n",
       "    </tr>\n",
       "    <tr>\n",
       "      <th>598295</th>\n",
       "      <td>14201508</td>\n",
       "      <td>18</td>\n",
       "      <td>1</td>\n",
       "      <td>15</td>\n",
       "      <td>24300</td>\n",
       "      <td>41400</td>\n",
       "      <td>3</td>\n",
       "      <td>140.438928</td>\n",
       "      <td>36.381611</td>\n",
       "      <td>8201</td>\n",
       "    </tr>\n",
       "    <tr>\n",
       "      <th>598296</th>\n",
       "      <td>14201508</td>\n",
       "      <td>18</td>\n",
       "      <td>1</td>\n",
       "      <td>15</td>\n",
       "      <td>65700</td>\n",
       "      <td>20700</td>\n",
       "      <td>1</td>\n",
       "      <td>140.525639</td>\n",
       "      <td>36.345669</td>\n",
       "      <td>8201</td>\n",
       "    </tr>\n",
       "    <tr>\n",
       "      <th>598297</th>\n",
       "      <td>14204061</td>\n",
       "      <td>16</td>\n",
       "      <td>2</td>\n",
       "      <td>14</td>\n",
       "      <td>0</td>\n",
       "      <td>27900</td>\n",
       "      <td>1</td>\n",
       "      <td>140.371839</td>\n",
       "      <td>36.384464</td>\n",
       "      <td>8201</td>\n",
       "    </tr>\n",
       "    <tr>\n",
       "      <th>598298</th>\n",
       "      <td>14204061</td>\n",
       "      <td>16</td>\n",
       "      <td>2</td>\n",
       "      <td>14</td>\n",
       "      <td>27900</td>\n",
       "      <td>58500</td>\n",
       "      <td>3</td>\n",
       "      <td>140.656013</td>\n",
       "      <td>36.602564</td>\n",
       "      <td>8202</td>\n",
       "    </tr>\n",
       "  </tbody>\n",
       "</table>\n",
       "<p>598299 rows × 10 columns</p>\n",
       "</div>"
      ],
      "text/plain": [
       "             pid  age  gender  occupation  starttime  duration  purpose  \\\n",
       "0       13942525   40       2          21          0     27000        1   \n",
       "1       13942525   40       2          21      27000     38700        2   \n",
       "2       13942525   40       2          21      65700     20700        1   \n",
       "3       13942526   37       1          21          0     26100        1   \n",
       "4       13942526   37       1          21      26100     45900        2   \n",
       "...          ...  ...     ...         ...        ...       ...      ...   \n",
       "598294  14201508   18       1          15          0     24300        1   \n",
       "598295  14201508   18       1          15      24300     41400        3   \n",
       "598296  14201508   18       1          15      65700     20700        1   \n",
       "598297  14204061   16       2          14          0     27900        1   \n",
       "598298  14204061   16       2          14      27900     58500        3   \n",
       "\n",
       "               lon        lat  zone  \n",
       "0       140.474551  36.377772  8201  \n",
       "1       140.484832  36.314746  8302  \n",
       "2       140.474551  36.377772  8201  \n",
       "3       140.474551  36.377772  8201  \n",
       "4       140.464704  36.379213  8201  \n",
       "...            ...        ...   ...  \n",
       "598294  140.525639  36.345669  8201  \n",
       "598295  140.438928  36.381611  8201  \n",
       "598296  140.525639  36.345669  8201  \n",
       "598297  140.371839  36.384464  8201  \n",
       "598298  140.656013  36.602564  8202  \n",
       "\n",
       "[598299 rows x 10 columns]"
      ]
     },
     "execution_count": 8,
     "metadata": {},
     "output_type": "execute_result"
    }
   ],
   "source": [
    "act"
   ]
  },
  {
   "cell_type": "code",
   "execution_count": null,
   "id": "8d616ebf-6c55-411b-9fe9-6b2ca39200b2",
   "metadata": {},
   "outputs": [],
   "source": []
  }
 ],
 "metadata": {
  "kernelspec": {
   "display_name": "Python 3 (ipykernel)",
   "language": "python",
   "name": "python3"
  },
  "language_info": {
   "codemirror_mode": {
    "name": "ipython",
    "version": 3
   },
   "file_extension": ".py",
   "mimetype": "text/x-python",
   "name": "python",
   "nbconvert_exporter": "python",
   "pygments_lexer": "ipython3",
   "version": "3.11.7"
  },
  "widgets": {
   "application/vnd.jupyter.widget-state+json": {
    "state": {},
    "version_major": 2,
    "version_minor": 0
   }
  }
 },
 "nbformat": 4,
 "nbformat_minor": 5
}
