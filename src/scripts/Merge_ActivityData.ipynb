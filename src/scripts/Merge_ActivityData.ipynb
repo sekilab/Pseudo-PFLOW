{
 "cells": [
  {
   "cell_type": "code",
   "execution_count": 1,
   "id": "96c3f09d-60a1-4354-9373-bf199ae4d260",
   "metadata": {},
   "outputs": [],
   "source": [
    "import os\n",
    "import pandas as pd"
   ]
  },
  {
   "cell_type": "code",
   "execution_count": 7,
   "id": "6459d56e-e441-4b21-adf8-eadb1de4b8ec",
   "metadata": {},
   "outputs": [],
   "source": [
    "root = r\"C:/Data/PseudoPFLOW/activity/\"\n",
    "out = r'C:/Data/PseudoPFLOW/activity_v2/'"
   ]
  },
  {
   "cell_type": "code",
   "execution_count": 10,
   "id": "90269ba9-9385-454d-8fa8-33d836da85e0",
   "metadata": {},
   "outputs": [
    {
     "name": "stdout",
     "output_type": "stream",
     "text": [
      "1\n",
      "10\n",
      "11\n",
      "12\n",
      "13\n",
      "14\n",
      "15\n",
      "16\n",
      "17\n",
      "18\n",
      "19\n",
      "2\n",
      "20\n",
      "21\n",
      "22\n",
      "23\n",
      "24\n",
      "25\n",
      "26\n",
      "27\n",
      "28\n",
      "29\n",
      "3\n",
      "30\n",
      "31\n",
      "32\n",
      "33\n",
      "34\n",
      "35\n",
      "36\n",
      "37\n",
      "38\n",
      "39\n",
      "4\n",
      "40\n",
      "41\n",
      "42\n",
      "43\n",
      "44\n",
      "45\n",
      "46\n",
      "47\n",
      "5\n",
      "6\n",
      "7\n",
      "person_07545\n",
      "person_07546\n",
      "person_07543\n",
      "person_07564\n",
      "person_07547\n",
      "person_07548\n",
      "8\n",
      "9\n"
     ]
    }
   ],
   "source": [
    "for dir in os.listdir(root):\n",
    "    print(dir)\n",
    "    if not os.path.exists(out+'/'+dir+'/'):\n",
    "        os.mkdir(out+dir+'/')\n",
    "    filename = set([f[0:12] for f in os.listdir(root+\"/\"+dir)])\n",
    "    for f in filename:\n",
    "        if f == '.~lock.perso':\n",
    "            continue\n",
    "        if os.path.getsize(root+dir+'/'+f+'_labor.csv') < 137 or os.path.getsize(root+dir+'/'+f+'_nolabor.csv') < 137 or os.path.getsize(root+dir+'/'+f+'_student.csv') < 137:\n",
    "            print(f)\n",
    "        else:\n",
    "            df  = pd.read_csv(root+dir+'/'+f+'_labor.csv', header=None)\n",
    "            df2 = pd.read_csv(root+dir+'/'+f+'_nolabor.csv', header=None)\n",
    "            df3 = pd.read_csv(root+dir+'/'+f+'_student.csv', header=None)\n",
    "            pop = pd.concat([df, df2, df3], axis=0)\n",
    "            pop.to_csv(out+'/'+dir+'/'+'activity_'+f[7:12]+'.csv', index=False, header=False)"
   ]
  },
  {
   "cell_type": "code",
   "execution_count": null,
   "id": "3558bcf4-9214-4cb3-88ae-7a2385d8bf61",
   "metadata": {},
   "outputs": [],
   "source": []
  }
 ],
 "metadata": {
  "kernelspec": {
   "display_name": "Python 3 (ipykernel)",
   "language": "python",
   "name": "python3"
  },
  "language_info": {
   "codemirror_mode": {
    "name": "ipython",
    "version": 3
   },
   "file_extension": ".py",
   "mimetype": "text/x-python",
   "name": "python",
   "nbconvert_exporter": "python",
   "pygments_lexer": "ipython3",
   "version": "3.11.11"
  }
 },
 "nbformat": 4,
 "nbformat_minor": 5
}
