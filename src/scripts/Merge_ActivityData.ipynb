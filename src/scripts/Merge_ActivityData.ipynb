{
 "cells": [
  {
   "cell_type": "code",
   "execution_count": 1,
   "id": "96c3f09d-60a1-4354-9373-bf199ae4d260",
   "metadata": {},
   "outputs": [],
   "source": [
    "import os\n",
    "import pandas as pd"
   ]
  },
  {
   "cell_type": "code",
   "execution_count": 21,
   "id": "6459d56e-e441-4b21-adf8-eadb1de4b8ec",
   "metadata": {},
   "outputs": [],
   "source": [
    "root = \"/home/ubuntu/Data/pseudo/activity/\"\n",
    "out = '/home/ubuntu/Data/pseudo/activity_merge/'"
   ]
  },
  {
   "cell_type": "code",
   "execution_count": 29,
   "id": "90269ba9-9385-454d-8fa8-33d836da85e0",
   "metadata": {},
   "outputs": [
    {
     "name": "stdout",
     "output_type": "stream",
     "text": [
      "{'person_07402', 'person_07364', 'person_07547', 'person_07445', 'person_07501', 'person_07342', 'person_07344', 'person_07405', 'person_07482', 'person_07368', 'person_07301', 'person_07541', 'person_07210', 'person_07201', 'person_07484', 'person_07543', 'person_07447', 'person_07202', 'person_07505', 'person_07308', 'person_07214', 'person_07209', 'person_07204', 'person_07207', 'person_07212', 'person_07322', 'person_07465', 'person_07205', 'person_07203', 'person_07446', 'person_07503', 'person_07483', 'person_07561', 'person_07466', 'person_07544', 'person_07211', 'person_07464', 'person_07546', 'person_07408', 'person_07542', 'person_07407', 'person_07422', 'person_07522', 'person_07362', 'person_07548', 'person_07502', 'person_07208', 'person_07545', 'person_07444', 'person_07213', 'person_07461', 'person_07564', 'person_07421', 'person_07303', 'person_07521', 'person_07481', 'person_07423', 'person_07504', 'person_07367'}\n",
      "{'person_07402', 'person_07364', 'person_07547', 'person_07445', 'person_07501', 'person_07342', 'person_07344', 'person_07405', 'person_07482', 'person_07368', 'person_07301', 'person_07541', 'person_07210', 'person_07201', 'person_07484', 'person_07543', 'person_07447', 'person_07202', 'person_07505', 'person_07308', 'person_07214', 'person_07209', 'person_07204', 'person_07207', 'person_07212', 'person_07322', 'person_07465', 'person_07205', 'person_07203', 'person_07446', 'person_07503', 'person_07483', 'person_07561', 'person_07466', 'person_07544', 'person_07211', 'person_07464', 'person_07546', 'person_07408', 'person_07542', 'person_07407', 'person_07422', 'person_07522', 'person_07362', 'person_07548', 'person_07502', 'person_07208', 'person_07545', 'person_07444', 'person_07213', 'person_07461', 'person_07564', 'person_07421', 'person_07303', 'person_07521', 'person_07481', 'person_07423', 'person_07504', 'person_07367'}\n",
      "{'person_07402', 'person_07364', 'person_07547', 'person_07445', 'person_07501', 'person_07342', 'person_07344', 'person_07405', 'person_07482', 'person_07368', 'person_07301', 'person_07541', 'person_07210', 'person_07201', 'person_07484', 'person_07543', 'person_07447', 'person_07202', 'person_07505', 'person_07308', 'person_07214', 'person_07209', 'person_07204', 'person_07207', 'person_07212', 'person_07322', 'person_07465', 'person_07205', 'person_07203', 'person_07446', 'person_07503', 'person_07483', 'person_07561', 'person_07466', 'person_07544', 'person_07211', 'person_07464', 'person_07546', 'person_07408', 'person_07542', 'person_07407', 'person_07422', 'person_07522', 'person_07362', 'person_07548', 'person_07502', 'person_07208', 'person_07545', 'person_07444', 'person_07213', 'person_07461', 'person_07564', 'person_07421', 'person_07303', 'person_07521', 'person_07481', 'person_07423', 'person_07504', 'person_07367'}\n",
      "{'person_07402', 'person_07364', 'person_07547', 'person_07445', 'person_07501', 'person_07342', 'person_07344', 'person_07405', 'person_07482', 'person_07368', 'person_07301', 'person_07541', 'person_07210', 'person_07201', 'person_07484', 'person_07543', 'person_07447', 'person_07202', 'person_07505', 'person_07308', 'person_07214', 'person_07209', 'person_07204', 'person_07207', 'person_07212', 'person_07322', 'person_07465', 'person_07205', 'person_07203', 'person_07446', 'person_07503', 'person_07483', 'person_07561', 'person_07466', 'person_07544', 'person_07211', 'person_07464', 'person_07546', 'person_07408', 'person_07542', 'person_07407', 'person_07422', 'person_07522', 'person_07362', 'person_07548', 'person_07502', 'person_07208', 'person_07545', 'person_07444', 'person_07213', 'person_07461', 'person_07564', 'person_07421', 'person_07303', 'person_07521', 'person_07481', 'person_07423', 'person_07504', 'person_07367'}\n",
      "{'person_07402', 'person_07364', 'person_07547', 'person_07445', 'person_07501', 'person_07342', 'person_07344', 'person_07405', 'person_07482', 'person_07368', 'person_07301', 'person_07541', 'person_07210', 'person_07201', 'person_07484', 'person_07543', 'person_07447', 'person_07202', 'person_07505', 'person_07308', 'person_07214', 'person_07209', 'person_07204', 'person_07207', 'person_07212', 'person_07322', 'person_07465', 'person_07205', 'person_07203', 'person_07446', 'person_07503', 'person_07483', 'person_07561', 'person_07466', 'person_07544', 'person_07211', 'person_07464', 'person_07546', 'person_07408', 'person_07542', 'person_07407', 'person_07422', 'person_07522', 'person_07362', 'person_07548', 'person_07502', 'person_07208', 'person_07545', 'person_07444', 'person_07213', 'person_07461', 'person_07564', 'person_07421', 'person_07303', 'person_07521', 'person_07481', 'person_07423', 'person_07504', 'person_07367'}\n"
     ]
    }
   ],
   "source": [
    "for dir in os.listdir(root):\n",
    "    if not os.path.exists(out+'/'+dir+'/'):\n",
    "        os.mkdir(out+dir+'/')\n",
    "    filename = set([f[0:12] for f in os.listdir(root+\"/\"+dir)])\n",
    "    for f in filename:\n",
    "        if os.path.getsize(root+dir+'/'+f+'_labor.csv') < 137 or os.path.getsize(root+dir+'/'+f+'_nolabor.csv') < 137 or os.path.getsize(root+dir+'/'+f+'_student.csv') < 137:\n",
    "            print(f)  \n",
    "        else:\n",
    "            df  = pd.read_csv(root+dir+'/'+f+'_labor.csv', header=None)\n",
    "            df2 = pd.read_csv(root+dir+'/'+f+'_nolabor.csv', header=None)\n",
    "            df3 = pd.read_csv(root+dir+'/'+f+'_student.csv', header=None)\n",
    "            pop = pd.concat([df, df2, df3], axis=0)\n",
    "            pop.to_csv(out+'/'+dir+'/'+'activity_'+f[7:12]+'.csv', index=False, header=False)"
   ]
  },
  {
   "cell_type": "code",
   "execution_count": null,
   "id": "3558bcf4-9214-4cb3-88ae-7a2385d8bf61",
   "metadata": {},
   "outputs": [],
   "source": []
  }
 ],
 "metadata": {
  "kernelspec": {
   "display_name": "Python 3 (ipykernel)",
   "language": "python",
   "name": "python3"
  },
  "language_info": {
   "codemirror_mode": {
    "name": "ipython",
    "version": 3
   },
   "file_extension": ".py",
   "mimetype": "text/x-python",
   "name": "python",
   "nbconvert_exporter": "python",
   "pygments_lexer": "ipython3",
   "version": "3.12.2"
  }
 },
 "nbformat": 4,
 "nbformat_minor": 5
}
