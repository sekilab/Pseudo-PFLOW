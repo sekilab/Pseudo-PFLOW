{
 "cells": [
  {
   "cell_type": "code",
   "execution_count": 1,
   "id": "96c3f09d-60a1-4354-9373-bf199ae4d260",
   "metadata": {},
   "outputs": [],
   "source": [
    "import os\n",
    "import pandas as pd"
   ]
  },
  {
   "cell_type": "code",
   "execution_count": 2,
   "id": "6459d56e-e441-4b21-adf8-eadb1de4b8ec",
   "metadata": {},
   "outputs": [],
   "source": [
    "root = \"/mnt/large/data/PseudoPFLOW/activity/\"\n",
    "out = '/mnt/large/data/PseudoPFLOW/activity_merge2/'"
   ]
  },
  {
   "cell_type": "code",
   "execution_count": 6,
   "id": "90269ba9-9385-454d-8fa8-33d836da85e0",
   "metadata": {},
   "outputs": [
    {
     "name": "stdout",
     "output_type": "stream",
     "text": [
      "person_07545\n",
      "person_07564\n",
      "person_07548\n",
      "person_07546\n",
      "person_07543\n",
      "person_07547\n"
     ]
    }
   ],
   "source": [
    "for dir in os.listdir(root):\n",
    "    if not os.path.exists(out+'/'+dir+'/'):\n",
    "        os.mkdir(out+dir+'/')\n",
    "    filename = set([f[0:12] for f in os.listdir(root+\"/\"+dir)])\n",
    "    for f in filename:\n",
    "        if f == '.~lock.perso':\n",
    "            continue\n",
    "        if os.path.getsize(root+dir+'/'+f+'_labor.csv') < 137 or os.path.getsize(root+dir+'/'+f+'_nolabor.csv') < 137 or os.path.getsize(root+dir+'/'+f+'_student.csv') < 137:\n",
    "            print(f)\n",
    "        else:\n",
    "            df  = pd.read_csv(root+dir+'/'+f+'_labor.csv', header=None)\n",
    "            df2 = pd.read_csv(root+dir+'/'+f+'_nolabor.csv', header=None)\n",
    "            df3 = pd.read_csv(root+dir+'/'+f+'_student.csv', header=None)\n",
    "            pop = pd.concat([df, df2, df3], axis=0)\n",
    "            pop.to_csv(out+'/'+dir+'/'+'activity_'+f[7:12]+'.csv', index=False, header=False)"
   ]
  },
  {
   "cell_type": "code",
   "execution_count": null,
   "id": "3558bcf4-9214-4cb3-88ae-7a2385d8bf61",
   "metadata": {},
   "outputs": [],
   "source": []
  }
 ],
 "metadata": {
  "kernelspec": {
   "display_name": "Python 3",
   "language": "python",
   "name": "python3"
  },
  "language_info": {
   "codemirror_mode": {
    "name": "ipython",
    "version": 3
   },
   "file_extension": ".py",
   "mimetype": "text/x-python",
   "name": "python",
   "nbconvert_exporter": "python",
   "pygments_lexer": "ipython3",
   "version": "3.9.16"
  }
 },
 "nbformat": 4,
 "nbformat_minor": 5
}
