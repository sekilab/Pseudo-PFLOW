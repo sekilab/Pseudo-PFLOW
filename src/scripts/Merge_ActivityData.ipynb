{
 "cells": [
  {
   "cell_type": "code",
   "execution_count": 3,
   "id": "96c3f09d-60a1-4354-9373-bf199ae4d260",
   "metadata": {},
   "outputs": [],
   "source": [
    "import os\n",
    "import pandas as pd"
   ]
  },
  {
   "cell_type": "code",
   "execution_count": 7,
   "id": "6459d56e-e441-4b21-adf8-eadb1de4b8ec",
   "metadata": {},
   "outputs": [],
   "source": [
    "root = \"/mnt/large/data/PseudoPFLOW/activity/\"\n",
    "out = '/mnt/large/data/PseudoPFLOW/activity_merge/'"
   ]
  },
  {
   "cell_type": "code",
   "execution_count": 9,
   "id": "90269ba9-9385-454d-8fa8-33d836da85e0",
   "metadata": {},
   "outputs": [
    {
     "ename": "FileNotFoundError",
     "evalue": "[Errno 2] No such file or directory: '/mnt/large/data/PseudoPFLOW/activity/13/person_13122_student.csv'",
     "output_type": "error",
     "traceback": [
      "\u001b[0;31m---------------------------------------------------------------------------\u001b[0m",
      "\u001b[0;31mFileNotFoundError\u001b[0m                         Traceback (most recent call last)",
      "Cell \u001b[0;32mIn[9], line 6\u001b[0m\n\u001b[1;32m      4\u001b[0m filename \u001b[38;5;241m=\u001b[39m \u001b[38;5;28mset\u001b[39m([f[\u001b[38;5;241m0\u001b[39m:\u001b[38;5;241m12\u001b[39m] \u001b[38;5;28;01mfor\u001b[39;00m f \u001b[38;5;129;01min\u001b[39;00m os\u001b[38;5;241m.\u001b[39mlistdir(root\u001b[38;5;241m+\u001b[39m\u001b[38;5;124m\"\u001b[39m\u001b[38;5;124m/\u001b[39m\u001b[38;5;124m\"\u001b[39m\u001b[38;5;241m+\u001b[39m\u001b[38;5;28mdir\u001b[39m)])\n\u001b[1;32m      5\u001b[0m \u001b[38;5;28;01mfor\u001b[39;00m f \u001b[38;5;129;01min\u001b[39;00m filename:\n\u001b[0;32m----> 6\u001b[0m     \u001b[38;5;28;01mif\u001b[39;00m os\u001b[38;5;241m.\u001b[39mpath\u001b[38;5;241m.\u001b[39mgetsize(root\u001b[38;5;241m+\u001b[39m\u001b[38;5;28mdir\u001b[39m\u001b[38;5;241m+\u001b[39m\u001b[38;5;124m'\u001b[39m\u001b[38;5;124m/\u001b[39m\u001b[38;5;124m'\u001b[39m\u001b[38;5;241m+\u001b[39mf\u001b[38;5;241m+\u001b[39m\u001b[38;5;124m'\u001b[39m\u001b[38;5;124m_labor.csv\u001b[39m\u001b[38;5;124m'\u001b[39m) \u001b[38;5;241m<\u001b[39m \u001b[38;5;241m137\u001b[39m \u001b[38;5;129;01mor\u001b[39;00m os\u001b[38;5;241m.\u001b[39mpath\u001b[38;5;241m.\u001b[39mgetsize(root\u001b[38;5;241m+\u001b[39m\u001b[38;5;28mdir\u001b[39m\u001b[38;5;241m+\u001b[39m\u001b[38;5;124m'\u001b[39m\u001b[38;5;124m/\u001b[39m\u001b[38;5;124m'\u001b[39m\u001b[38;5;241m+\u001b[39mf\u001b[38;5;241m+\u001b[39m\u001b[38;5;124m'\u001b[39m\u001b[38;5;124m_nolabor.csv\u001b[39m\u001b[38;5;124m'\u001b[39m) \u001b[38;5;241m<\u001b[39m \u001b[38;5;241m137\u001b[39m \u001b[38;5;129;01mor\u001b[39;00m \u001b[43mos\u001b[49m\u001b[38;5;241;43m.\u001b[39;49m\u001b[43mpath\u001b[49m\u001b[38;5;241;43m.\u001b[39;49m\u001b[43mgetsize\u001b[49m\u001b[43m(\u001b[49m\u001b[43mroot\u001b[49m\u001b[38;5;241;43m+\u001b[39;49m\u001b[38;5;28;43mdir\u001b[39;49m\u001b[38;5;241;43m+\u001b[39;49m\u001b[38;5;124;43m'\u001b[39;49m\u001b[38;5;124;43m/\u001b[39;49m\u001b[38;5;124;43m'\u001b[39;49m\u001b[38;5;241;43m+\u001b[39;49m\u001b[43mf\u001b[49m\u001b[38;5;241;43m+\u001b[39;49m\u001b[38;5;124;43m'\u001b[39;49m\u001b[38;5;124;43m_student.csv\u001b[39;49m\u001b[38;5;124;43m'\u001b[39;49m\u001b[43m)\u001b[49m \u001b[38;5;241m<\u001b[39m \u001b[38;5;241m137\u001b[39m:\n\u001b[1;32m      7\u001b[0m         \u001b[38;5;28mprint\u001b[39m(f)  \n\u001b[1;32m      8\u001b[0m     \u001b[38;5;28;01melse\u001b[39;00m:\n",
      "File \u001b[0;32m<frozen genericpath>:62\u001b[0m, in \u001b[0;36mgetsize\u001b[0;34m(filename)\u001b[0m\n",
      "\u001b[0;31mFileNotFoundError\u001b[0m: [Errno 2] No such file or directory: '/mnt/large/data/PseudoPFLOW/activity/13/person_13122_student.csv'"
     ]
    }
   ],
   "source": [
    "for dir in os.listdir(root):\n",
    "    if not os.path.exists(out+'/'+dir+'/'):\n",
    "        os.mkdir(out+dir+'/')\n",
    "    filename = set([f[0:12] for f in os.listdir(root+\"/\"+dir)])\n",
    "    for f in filename:\n",
    "        if os.path.getsize(root+dir+'/'+f+'_labor.csv') < 137 or os.path.getsize(root+dir+'/'+f+'_nolabor.csv') < 137 or os.path.getsize(root+dir+'/'+f+'_student.csv') < 137:\n",
    "            print(f)  \n",
    "        else:\n",
    "            df  = pd.read_csv(root+dir+'/'+f+'_labor.csv', header=None)\n",
    "            df2 = pd.read_csv(root+dir+'/'+f+'_nolabor.csv', header=None)\n",
    "            df3 = pd.read_csv(root+dir+'/'+f+'_student.csv', header=None)\n",
    "            pop = pd.concat([df, df2, df3], axis=0)\n",
    "            pop.to_csv(out+'/'+dir+'/'+'activity_'+f[7:12]+'.csv', index=False, header=False)"
   ]
  },
  {
   "cell_type": "code",
   "execution_count": null,
   "id": "3558bcf4-9214-4cb3-88ae-7a2385d8bf61",
   "metadata": {},
   "outputs": [],
   "source": []
  }
 ],
 "metadata": {
  "kernelspec": {
   "display_name": "Python 3 (ipykernel)",
   "language": "python",
   "name": "python3"
  },
  "language_info": {
   "codemirror_mode": {
    "name": "ipython",
    "version": 3
   },
   "file_extension": ".py",
   "mimetype": "text/x-python",
   "name": "python",
   "nbconvert_exporter": "python",
   "pygments_lexer": "ipython3",
   "version": "3.12.2"
  }
 },
 "nbformat": 4,
 "nbformat_minor": 5
}
