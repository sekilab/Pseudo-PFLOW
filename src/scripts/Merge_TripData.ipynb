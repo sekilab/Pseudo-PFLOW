{
 "cells": [
  {
   "cell_type": "code",
   "execution_count": 2,
   "id": "03877bcc-2ab2-4dcb-96f4-0a2f42a5faa9",
   "metadata": {
    "tags": []
   },
   "outputs": [],
   "source": [
    "import os\n",
    "import pandas as pd"
   ]
  },
  {
   "cell_type": "code",
   "execution_count": 9,
   "id": "e22265c3-0a6a-4142-8bf6-f019189256bc",
   "metadata": {
    "tags": []
   },
   "outputs": [],
   "source": [
    "root = \"C:\\\\large\\\\PseudoPFLOW\\\\trip\\\\13\\\\\""
   ]
  },
  {
   "cell_type": "code",
   "execution_count": 20,
   "id": "2e1d360e-da55-4291-933d-d1f330976265",
   "metadata": {
    "tags": []
   },
   "outputs": [
    {
     "data": {
      "text/html": [
       "<div>\n",
       "<style scoped>\n",
       "    .dataframe tbody tr th:only-of-type {\n",
       "        vertical-align: middle;\n",
       "    }\n",
       "\n",
       "    .dataframe tbody tr th {\n",
       "        vertical-align: top;\n",
       "    }\n",
       "\n",
       "    .dataframe thead th {\n",
       "        text-align: right;\n",
       "    }\n",
       "</style>\n",
       "<table border=\"1\" class=\"dataframe\">\n",
       "  <thead>\n",
       "    <tr style=\"text-align: right;\">\n",
       "      <th></th>\n",
       "      <th>uid</th>\n",
       "      <th>starttime</th>\n",
       "      <th>slon</th>\n",
       "      <th>slat</th>\n",
       "      <th>dlon</th>\n",
       "      <th>dlat</th>\n",
       "      <th>mode</th>\n",
       "      <th>purpose</th>\n",
       "      <th>occupation</th>\n",
       "    </tr>\n",
       "  </thead>\n",
       "  <tbody>\n",
       "    <tr>\n",
       "      <th>0</th>\n",
       "      <td>33922893</td>\n",
       "      <td>16320</td>\n",
       "      <td>139.741718</td>\n",
       "      <td>35.683095</td>\n",
       "      <td>139.741631</td>\n",
       "      <td>35.685292</td>\n",
       "      <td>1</td>\n",
       "      <td>2</td>\n",
       "      <td>21</td>\n",
       "    </tr>\n",
       "    <tr>\n",
       "      <th>1</th>\n",
       "      <td>33922893</td>\n",
       "      <td>21720</td>\n",
       "      <td>139.741631</td>\n",
       "      <td>35.685292</td>\n",
       "      <td>140.125722</td>\n",
       "      <td>35.715922</td>\n",
       "      <td>4</td>\n",
       "      <td>2</td>\n",
       "      <td>21</td>\n",
       "    </tr>\n",
       "    <tr>\n",
       "      <th>2</th>\n",
       "      <td>33922893</td>\n",
       "      <td>27120</td>\n",
       "      <td>140.125722</td>\n",
       "      <td>35.715922</td>\n",
       "      <td>140.126278</td>\n",
       "      <td>35.715450</td>\n",
       "      <td>1</td>\n",
       "      <td>2</td>\n",
       "      <td>21</td>\n",
       "    </tr>\n",
       "    <tr>\n",
       "      <th>3</th>\n",
       "      <td>33922893</td>\n",
       "      <td>32520</td>\n",
       "      <td>140.126278</td>\n",
       "      <td>35.715450</td>\n",
       "      <td>140.295111</td>\n",
       "      <td>35.760506</td>\n",
       "      <td>4</td>\n",
       "      <td>2</td>\n",
       "      <td>21</td>\n",
       "    </tr>\n",
       "    <tr>\n",
       "      <th>4</th>\n",
       "      <td>33922893</td>\n",
       "      <td>57180</td>\n",
       "      <td>140.303064</td>\n",
       "      <td>35.754757</td>\n",
       "      <td>140.295111</td>\n",
       "      <td>35.760506</td>\n",
       "      <td>1</td>\n",
       "      <td>1</td>\n",
       "      <td>21</td>\n",
       "    </tr>\n",
       "    <tr>\n",
       "      <th>...</th>\n",
       "      <td>...</td>\n",
       "      <td>...</td>\n",
       "      <td>...</td>\n",
       "      <td>...</td>\n",
       "      <td>...</td>\n",
       "      <td>...</td>\n",
       "      <td>...</td>\n",
       "      <td>...</td>\n",
       "      <td>...</td>\n",
       "    </tr>\n",
       "    <tr>\n",
       "      <th>19</th>\n",
       "      <td>47223501</td>\n",
       "      <td>27900</td>\n",
       "      <td>142.206530</td>\n",
       "      <td>27.098820</td>\n",
       "      <td>142.206530</td>\n",
       "      <td>27.098820</td>\n",
       "      <td>0</td>\n",
       "      <td>3</td>\n",
       "      <td>12</td>\n",
       "    </tr>\n",
       "    <tr>\n",
       "      <th>20</th>\n",
       "      <td>47223501</td>\n",
       "      <td>45900</td>\n",
       "      <td>142.191831</td>\n",
       "      <td>27.096555</td>\n",
       "      <td>142.191831</td>\n",
       "      <td>27.096555</td>\n",
       "      <td>0</td>\n",
       "      <td>1</td>\n",
       "      <td>12</td>\n",
       "    </tr>\n",
       "    <tr>\n",
       "      <th>21</th>\n",
       "      <td>47224292</td>\n",
       "      <td>27900</td>\n",
       "      <td>142.197210</td>\n",
       "      <td>27.100220</td>\n",
       "      <td>142.197210</td>\n",
       "      <td>27.100220</td>\n",
       "      <td>0</td>\n",
       "      <td>3</td>\n",
       "      <td>12</td>\n",
       "    </tr>\n",
       "    <tr>\n",
       "      <th>22</th>\n",
       "      <td>47224292</td>\n",
       "      <td>53100</td>\n",
       "      <td>142.191831</td>\n",
       "      <td>27.096555</td>\n",
       "      <td>142.191831</td>\n",
       "      <td>27.096555</td>\n",
       "      <td>0</td>\n",
       "      <td>1</td>\n",
       "      <td>12</td>\n",
       "    </tr>\n",
       "    <tr>\n",
       "      <th>23</th>\n",
       "      <td>47225217</td>\n",
       "      <td>0</td>\n",
       "      <td>142.155950</td>\n",
       "      <td>26.639720</td>\n",
       "      <td>142.155950</td>\n",
       "      <td>26.639720</td>\n",
       "      <td>0</td>\n",
       "      <td>1</td>\n",
       "      <td>15</td>\n",
       "    </tr>\n",
       "  </tbody>\n",
       "</table>\n",
       "<p>323828 rows × 9 columns</p>\n",
       "</div>"
      ],
      "text/plain": [
       "         uid  starttime        slon       slat        dlon       dlat  mode  \\\n",
       "0   33922893      16320  139.741718  35.683095  139.741631  35.685292     1   \n",
       "1   33922893      21720  139.741631  35.685292  140.125722  35.715922     4   \n",
       "2   33922893      27120  140.125722  35.715922  140.126278  35.715450     1   \n",
       "3   33922893      32520  140.126278  35.715450  140.295111  35.760506     4   \n",
       "4   33922893      57180  140.303064  35.754757  140.295111  35.760506     1   \n",
       "..       ...        ...         ...        ...         ...        ...   ...   \n",
       "19  47223501      27900  142.206530  27.098820  142.206530  27.098820     0   \n",
       "20  47223501      45900  142.191831  27.096555  142.191831  27.096555     0   \n",
       "21  47224292      27900  142.197210  27.100220  142.197210  27.100220     0   \n",
       "22  47224292      53100  142.191831  27.096555  142.191831  27.096555     0   \n",
       "23  47225217          0  142.155950  26.639720  142.155950  26.639720     0   \n",
       "\n",
       "    purpose  occupation  \n",
       "0         2          21  \n",
       "1         2          21  \n",
       "2         2          21  \n",
       "3         2          21  \n",
       "4         1          21  \n",
       "..      ...         ...  \n",
       "19        3          12  \n",
       "20        1          12  \n",
       "21        3          12  \n",
       "22        1          12  \n",
       "23        1          15  \n",
       "\n",
       "[323828 rows x 9 columns]"
      ]
     },
     "execution_count": 20,
     "metadata": {},
     "output_type": "execute_result"
    }
   ],
   "source": [
    "data = []\n",
    "\n",
    "for fn in os.listdir(root):\n",
    "    df = pd.read_csv(root+fn, names=['uid', 'starttime', 'slon', 'slat', 'dlon', 'dlat', 'mode', 'purpose', 'occupation'])\n",
    "    data.append(df)\n",
    "\n",
    "trips = pd.concat(data, axis=0)\n",
    "trips"
   ]
  },
  {
   "cell_type": "code",
   "execution_count": 22,
   "id": "75843326-ce22-47c2-9832-d1877a7bf91f",
   "metadata": {
    "tags": []
   },
   "outputs": [
    {
     "data": {
      "text/plain": [
       "<Axes: >"
      ]
     },
     "execution_count": 22,
     "metadata": {},
     "output_type": "execute_result"
    },
    {
     "data": {
      "image/png": "[encoded data removed]",
      "text/plain": [
       "<Figure size 640x480 with 1 Axes>"
      ]
     },
     "metadata": {},
     "output_type": "display_data"
    }
   ],
   "source": [
    "trips['mode'].hist()"
   ]
  },
  {
   "cell_type": "code",
   "execution_count": null,
   "id": "d739de34-4e50-4dba-94b8-ca36a0efb3f1",
   "metadata": {},
   "outputs": [],
   "source": []
  }
 ],
 "metadata": {
  "kernelspec": {
   "display_name": "Python 3 (ipykernel)",
   "language": "python",
   "name": "python3"
  },
  "language_info": {
   "codemirror_mode": {
    "name": "ipython",
    "version": 3
   },
   "file_extension": ".py",
   "mimetype": "text/x-python",
   "name": "python",
   "nbconvert_exporter": "python",
   "pygments_lexer": "ipython3",
   "version": "3.11.11"
  }
 },
 "nbformat": 4,
 "nbformat_minor": 5
}
