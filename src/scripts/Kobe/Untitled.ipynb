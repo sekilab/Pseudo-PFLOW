{
 "cells": [
  {
   "cell_type": "code",
   "execution_count": 4,
   "id": "d6db20cb-62b1-4227-a531-9e05e721025a",
   "metadata": {
    "tags": []
   },
   "outputs": [],
   "source": [
    "import pandas as pd"
   ]
  },
  {
   "cell_type": "code",
   "execution_count": 20,
   "id": "b52a20d2-16c8-465e-8f44-0073f8fbc1be",
   "metadata": {
    "tags": []
   },
   "outputs": [],
   "source": [
    "# Read the plain text file uploaded by the user\n",
    "input_file_path = 'increased_results2.txt'  # Replace with the actual uploaded file path\n",
    "with open(input_file_path, 'r', encoding='utf-8') as file:\n",
    "    plain_text = file.read()\n",
    "\n",
    "# Process the plain text to extract the relevant fields\n",
    "lines = plain_text.strip().split(\"\\n\")\n",
    "trips = []\n",
    "current_trip = {}\n",
    "\n",
    "for line in lines:\n",
    "    if line.startswith(\"Origin Station:\"):\n",
    "        current_trip['origin_station'] = line.split(\": \")[1].strip()\n",
    "    elif line.startswith(\"Destination Station:\"):\n",
    "        current_trip['destination_station'] = line.split(\": \")[1].strip()\n",
    "    elif line.startswith(\"Departure Time:\"):\n",
    "        current_trip['departure_time'] = line.split(\": \")[1].strip()\n",
    "    elif line.startswith(\"Arrival Time:\"):\n",
    "        current_trip['arrival_time'] = line.split(\": \")[1].strip()\n",
    "    elif line.startswith(\"Travel Time\"):\n",
    "        current_trip['travel_time'] = line.split(\": \")[1].strip()\n",
    "    elif line.startswith(\"Using Community Bus\"):\n",
    "        if current_trip:\n",
    "            trips.append(current_trip)\n",
    "            current_trip = {}\n",
    "\n",
    "# Append the last trip if any\n",
    "if current_trip:\n",
    "    trips.append(current_trip)\n",
    "\n",
    "# Convert to DataFrame\n",
    "df = pd.DataFrame(trips)\n",
    "\n",
    "# Add a trip_id column based on the order of trips\n",
    "df.insert(0, \"trip_id\", range(1, len(df) + 1))\n",
    "\n",
    "# Save the DataFrame as a CSV file\n",
    "output_file_path = 'processed_increased_results2.csv'\n",
    "df.to_csv(output_file_path, index=False, encoding='utf-8-sig')"
   ]
  },
  {
   "cell_type": "code",
   "execution_count": null,
   "id": "6a12b1bc-d9f6-4ab7-b592-c963f7086e81",
   "metadata": {},
   "outputs": [],
   "source": []
  }
 ],
 "metadata": {
  "kernelspec": {
   "display_name": "Python 3 (ipykernel)",
   "language": "python",
   "name": "python3"
  },
  "language_info": {
   "codemirror_mode": {
    "name": "ipython",
    "version": 3
   },
   "file_extension": ".py",
   "mimetype": "text/x-python",
   "name": "python",
   "nbconvert_exporter": "python",
   "pygments_lexer": "ipython3",
   "version": "3.11.7"
  }
 },
 "nbformat": 4,
 "nbformat_minor": 5
}
